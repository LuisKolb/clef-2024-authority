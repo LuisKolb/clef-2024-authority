{
 "cells": [
  {
   "cell_type": "code",
   "execution_count": null,
   "metadata": {},
   "outputs": [],
   "source": []
  },
  {
   "cell_type": "code",
   "execution_count": 2,
   "metadata": {},
   "outputs": [
    {
     "name": "stdout",
     "output_type": "stream",
     "text": [
      "loaded 96 training json lines and 32 dev json lines.\n"
     ]
    }
   ],
   "source": [
    "from clef.utils.data_loading import load_datasets\n",
    "from clef.verification.verify import check_dataset_with_model\n",
    "from clef.utils.data_loading import write_jsonlines_from_dicts\n",
    "import os\n",
    "\n",
    "root_path = '../'\n",
    "\n",
    "train, dev = load_datasets(preprocess=True,\n",
    "                           add_author_name=True,\n",
    "                           add_author_bio=False,\n",
    "                           root_path= root_path,)\n"
   ]
  },
  {
   "cell_type": "code",
   "execution_count": 2,
   "metadata": {},
   "outputs": [
    {
     "name": "stdout",
     "output_type": "stream",
     "text": [
      "{\n",
      "  \"id\": \"AuRED_142\",\n",
      "  \"rumor\": \"Naturalization decree in preparation: Lebanese passports for sale !\",\n",
      "  \"label\": \"REFUTES\",\n",
      "  \"timeline\": [\n",
      "    [\n",
      "      \"https://twitter.com/LBpresidency\",\n",
      "      \"1556600039211925504\",\n",
      "      \"Account: Lebanese Presidency\\nText: Today the President of the Republic General Michel Aoun signed 9 laws that were previously approved by the House of Representatives Details at the following link:\"\n",
      "    ],\n",
      "    [\n",
      "      \"https://twitter.com/LBpresidency\",\n",
      "      \"1556559119045332992\",\n",
      "      \"Account: Lebanese Presidency\\nText: President Aoun received the Minister of Foreign Affairs and Expatriates Dr Abdullah Bouhabib and the Minister of Social Affairs Hector Hajjar and discussed with them developments related to the file of displaced Syrians in Lebanon\"\n",
      "    ],\n",
      "    [\n",
      "      \"https://twitter.com/LBpresidency\",\n",
      "      \"1556558220533157890\",\n",
      "      \"Account: Lebanese Presidency\\nText: President Aoun received the new British Ambassador to Lebanon Hamish Cowell and discussed with him Lebanese-British relations and ways to enhance them in all fields\"\n",
      "    ],\n",
      "    [\n",
      "      \"https://twitter.com/LBpresidency\",\n",
      "      \"1555986659279360001\",\n",
      "      \"Account: Lebanese Presidency\\nText: The Information Office of the Presidency of the Republic denies a false news broadcast by the MTV station about Baabda Palace preparing a decree naturalizing 4 000 people and recalls that it had denied yesterday the false information published by the French magazine Liberation about the same fabricated news\"\n",
      "    ],\n",
      "    [\n",
      "      \"https://twitter.com/LBpresidency\",\n",
      "      \"1555495801962614786\",\n",
      "      \"Account: Lebanese Presidency\\nText: President Aoun received the Lebanese Ambassador to Canada Ambassador Fadi Ziadeh who briefed him on the conditions of the Lebanese community in Canada Lebanese-Canadian relations and ways to develop them in all fields\"\n",
      "    ],\n",
      "    [\n",
      "      \"https://twitter.com/LBpresidency\",\n",
      "      \"1555495654490767360\",\n",
      "      \"Account: Lebanese Presidency\\nText: President Aoun presented with the Greek Orthodox Bishop of Zahle and Baalbek Bishop Antonius Soury the needs of the villages east of Zahle The discussion addressed the need to support Lebanese industry facilitate agricultural production and the status of Zahles electricity\"\n",
      "    ],\n",
      "    [\n",
      "      \"https://twitter.com/LBpresidency\",\n",
      "      \"1555495567643627520\",\n",
      "      \"Account: Lebanese Presidency\\nText: The Apostolic Ambassador to Lebanon Monsignor Joseph Spiteri after his meeting with President Aoun: Pope Francis is close to Lebanon and to the Lebanese men and women and the Holy See will continue to help Lebanon\"\n",
      "    ],\n",
      "    [\n",
      "      \"https://twitter.com/LBpresidency\",\n",
      "      \"1555495427004420096\",\n",
      "      \"Account: Lebanese Presidency\\nText: The President of the Republic awarded the Papal Ambassador the National Order of the Cedar with the rank of Grand Officer wishing him success and success in his new mission: Lebanon always finds the Holy See by its side in happy circumstances as well as in the difficult circumstances it is going through and this is a reason for gratitude and thanks from all the Lebanese co y2Qg2JSqOQ\"\n",
      "    ],\n",
      "    [\n",
      "      \"https://twitter.com/LBpresidency\",\n",
      "      \"1555424541509386240\",\n",
      "      \"Account: Lebanese Presidency\\nText: The Information Office of the Presidency of the Republic: What was published by the French newspaper Liberation about the selling of Lebanese passports to non-Lebanese is false and baseless news\"\n",
      "    ],\n",
      "    [\n",
      "      \"https://twitter.com/LBpresidency\",\n",
      "      \"1555126458191855616\",\n",
      "      \"Account: Lebanese Presidency\\nText: President Aoun received the Ambassador of Finland Tarja Fernandes on a farewell visit on the occasion of the end of her diplomatic duties in Lebanon He thanked her for the efforts she made to strengthen and develop Lebanese-Finnish relations and wished her success in her new duties\"\n",
      "    ],\n",
      "    [\n",
      "      \"https://twitter.com/LBpresidency\",\n",
      "      \"1555123152275095553\",\n",
      "      \"Account: Lebanese Presidency\\nText: President Aoun met with the Director of the Middle East and Central Asia Department at the International Monetary Fund former Minister Jihad Azour and discussed with him the economic conditions and negotiations with the Fund\"\n",
      "    ],\n",
      "    [\n",
      "      \"https://twitter.com/LBpresidency\",\n",
      "      \"1555086872329814018\",\n",
      "      \"Account: Lebanese Presidency\\nText: : Two years after the August 4 tragedy I share the grief of the families of the victims and the wounded and the suffering of the families of the detainees I assure them of my commitment to achieving justice\"\n",
      "    ],\n",
      "    [\n",
      "      \"https://twitter.com/LBpresidency\",\n",
      "      \"1554767217182576640\",\n",
      "      \"Account: Lebanese Presidency\\nText: President Aoun received Canadian Ambassador Chantal Chastney on a farewell visit on the occasion of the end of her diplomatic duties as her countrys ambassador to Lebanon The visit was an appropriate occasion during which the general situation and bilateral relations between the two countries were presented\"\n",
      "    ],\n",
      "    [\n",
      "      \"https://twitter.com/LBpresidency\",\n",
      "      \"1554743913197477888\",\n",
      "      \"Account: Lebanese Presidency\\nText: President Aoun received Miss Lebanon 2022 Yasmina Zeytoun in the presence of Minister of Tourism Walid Nassar and congratulated her on winning the title wishing her success in her responsibilities especially representing Lebanese beauty in the world and the role of the young generation and Lebanese culture\"\n",
      "    ],\n",
      "    [\n",
      "      \"https://twitter.com/LBpresidency\",\n",
      "      \"1554739872241537025\",\n",
      "      \"Account: Lebanese Presidency\\nText: Head of the Public Procurement Authority Jean Alaya swore the legal oath before the President of the Republic on the occasion of assuming the presidency of the Authority\"\n",
      "    ],\n",
      "    [\n",
      "      \"https://twitter.com/LBpresidency\",\n",
      "      \"1554730137010290688\",\n",
      "      \"Account: Lebanese Presidency\\nText: President Aoun discussed with the Minister of National Defense Maurice Slim the security conditions in the country and the results of the talks held by the American mediator Amos Hockstein in Beirut last Sunday and Monday The discussion also addressed the conditions and needs of the military personnel\"\n",
      "    ],\n",
      "    [\n",
      "      \"https://twitter.com/LBpresidency\",\n",
      "      \"1554433433857937413\",\n",
      "      \"Account: Lebanese Presidency\\nText: President Aoun received the credentials of the Ambassador of Turkmenistan Muhammad Gildi Ayazov\"\n",
      "    ],\n",
      "    [\n",
      "      \"https://twitter.com/LBpresidency\",\n",
      "      \"1554433114746880000\",\n",
      "      \"Account: Lebanese Presidency\\nText: President Aoun received the credentials of Iranian Ambassador Mojtaba Amani Hamedani\"\n",
      "    ],\n",
      "    [\n",
      "      \"https://twitter.com/LBpresidency\",\n",
      "      \"1554432679071956992\",\n",
      "      \"Account: Lebanese Presidency\\nText: President Aoun received the credentials of British Ambassador Hamish Cowell\"\n",
      "    ],\n",
      "    [\n",
      "      \"https://twitter.com/LBpresidency\",\n",
      "      \"1554432115596562433\",\n",
      "      \"Account: Lebanese Presidency\\nText: President Aoun received the credentials of Kazakhstans Ambassador Rasul Zhumaly\"\n",
      "    ],\n",
      "    [\n",
      "      \"https://twitter.com/LBpresidency\",\n",
      "      \"1554431873677496320\",\n",
      "      \"Account: Lebanese Presidency\\nText: President Aoun received the credentials of Uruguayan Ambassador Carlos Gitto\"\n",
      "    ],\n",
      "    [\n",
      "      \"https://twitter.com/LBpresidency\",\n",
      "      \"1554423079450943490\",\n",
      "      \"Account: Lebanese Presidency\\nText: President Aoun presented with Foreign Minister Abdullah Bou Habib the results of the Hochstein talks yesterday in Lebanon\"\n",
      "    ],\n",
      "    [\n",
      "      \"https://twitter.com/LBpresidency\",\n",
      "      \"1554422990649102336\",\n",
      "      \"Account: Lebanese Presidency\\nText: President Aoun before a delegation from the Arab League Educational Scientific and Cultural Organization: Coordination between Arab countries in the Arab cultural field is important and the availability of capabilities is necessary to enhance the role of culture and education in societies\"\n",
      "    ]\n",
      "  ],\n",
      "  \"evidence\": [\n",
      "    [\n",
      "      \"https://twitter.com/LBpresidency\",\n",
      "      \"1555986659279360001\",\n",
      "      \"Account: Lebanese Presidency\\nText: The Information Office of the Presidency of the Republic denies a false news broadcast by the MTV station about Baabda Palace preparing a decree naturalizing 4 000 people and recalls that it had denied yesterday the false information published by the French magazine Liberation about the same fabricated news\"\n",
      "    ],\n",
      "    [\n",
      "      \"https://twitter.com/LBpresidency\",\n",
      "      \"1555424541509386240\",\n",
      "      \"Account: Lebanese Presidency\\nText: The Information Office of the Presidency of the Republic: What was published by the French newspaper Liberation about the selling of Lebanese passports to non-Lebanese is false and baseless news\"\n",
      "    ]\n",
      "  ]\n",
      "}\n"
     ]
    }
   ],
   "source": [
    "import json\n",
    "print(json.dumps(dev[0], indent=2))"
   ]
  },
  {
   "cell_type": "code",
   "execution_count": 3,
   "metadata": {},
   "outputs": [
    {
     "name": "stdout",
     "output_type": "stream",
     "text": [
      "Naturalization decree in preparation: Lebanese passports for sale !\n",
      "Account: Lebanese Presidency\n",
      "Text: The Information Office of the Presidency of the Republic denies a false news broadcast by the MTV station about Baabda Palace preparing a decree naturalizing 4 000 people and recalls that it had denied yesterday the false information published by the French magazine Liberation about the same fabricated news\n",
      "('REFUTES', 0.95)\n",
      "Account: Lebanese Presidency\n",
      "Text: The Information Office of the Presidency of the Republic: What was published by the French newspaper Liberation about the selling of Lebanese passports to non-Lebanese is false and baseless news\n",
      "('REFUTES', 0.95)\n"
     ]
    }
   ],
   "source": [
    "from clef.verification.verify import factcheck_using_evidence\n",
    "from clef.verification.models.openai import get_completion\n",
    "import json\n",
    "\n",
    "spot = dev[0]\n",
    "rumor = spot[\"rumor\"]\n",
    "evidence = spot[\"evidence\"]\n",
    "\n",
    "def inference_openai(statement: str, evidence: str):\n",
    "    input_text = f'The statement: \"{evidence}\"\\nThe claim: \"{statement}\"'\n",
    "\n",
    "    valid_labels = [\n",
    "        \"REFUTES\",\n",
    "        \"NOT ENOUGH INFO\",\n",
    "        \"SUPPORTS\"\n",
    "    ]\n",
    "    \n",
    "    result = get_completion(input_text).content\n",
    "\n",
    "    try:\n",
    "        decision, confidence = json.loads(result).values()\n",
    "    except ValueError:\n",
    "        print(f'ERROR: could not parse response from openai model: {result}')\n",
    "        return (\"NOT ENOUGH INFO\", 1.0)\n",
    "\n",
    "    if decision in valid_labels:\n",
    "        return (decision, confidence)\n",
    "    else:\n",
    "        return (\"NOT ENOUGH INFO\", 1.0)\n",
    "\n",
    "print(rumor)\n",
    "for ev in evidence:\n",
    "    print(ev[2])\n",
    "    print(inference_openai(rumor, ev[2]))"
   ]
  },
  {
   "cell_type": "code",
   "execution_count": 10,
   "metadata": {},
   "outputs": [
    {
     "data": {
      "text/plain": [
       "0.95"
      ]
     },
     "execution_count": 10,
     "metadata": {},
     "output_type": "execute_result"
    }
   ],
   "source": [
    "out = '{\"decision\": \"REFUTES\", \"confidence\": 0.95}'\n",
    "decision, score = json.loads(out).values()\n",
    "score"
   ]
  },
  {
   "cell_type": "code",
   "execution_count": 11,
   "metadata": {},
   "outputs": [
    {
     "data": {
      "text/plain": [
       "'REFUTES'"
      ]
     },
     "execution_count": 11,
     "metadata": {},
     "output_type": "execute_result"
    }
   ],
   "source": [
    "decision"
   ]
  },
  {
   "cell_type": "markdown",
   "metadata": {},
   "source": [
    "sanity checks"
   ]
  },
  {
   "cell_type": "code",
   "execution_count": 4,
   "metadata": {},
   "outputs": [
    {
     "data": {
      "text/plain": [
       "('SUPPORTS', 0.8)"
      ]
     },
     "execution_count": 4,
     "metadata": {},
     "output_type": "execute_result"
    }
   ],
   "source": [
    "claim = 'i saw the sky is a shade of rose today!!'\n",
    "premise = 'Account: Ministry of Sky color\\nText: The sky is pink, and always was.'\n",
    "\n",
    "inference_openai(claim, premise)"
   ]
  },
  {
   "cell_type": "code",
   "execution_count": 5,
   "metadata": {},
   "outputs": [
    {
     "data": {
      "text/plain": [
       "('REFUTES', 0.95)"
      ]
     },
     "execution_count": 5,
     "metadata": {},
     "output_type": "execute_result"
    }
   ],
   "source": [
    "claim = 'i saw the sky is a shade of green today!!'\n",
    "premise = 'Account: Ministry of Sky color\\nText: The sky is pink, and always was.'\n",
    "\n",
    "inference_openai(claim, premise)"
   ]
  },
  {
   "cell_type": "code",
   "execution_count": 6,
   "metadata": {},
   "outputs": [
    {
     "data": {
      "text/plain": [
       "('REFUTES', 0.95)"
      ]
     },
     "execution_count": 6,
     "metadata": {},
     "output_type": "execute_result"
    }
   ],
   "source": [
    "claim = 'i saw the firmament is a shade of green today!!'\n",
    "premise = 'Account: Ministry of Sky color\\nText: The sky is pink, and always was.'\n",
    "\n",
    "inference_openai(claim, premise)"
   ]
  }
 ],
 "metadata": {
  "kernelspec": {
   "display_name": "clef",
   "language": "python",
   "name": "python3"
  },
  "language_info": {
   "codemirror_mode": {
    "name": "ipython",
    "version": 3
   },
   "file_extension": ".py",
   "mimetype": "text/x-python",
   "name": "python",
   "nbconvert_exporter": "python",
   "pygments_lexer": "ipython3",
   "version": "3.8.18"
  }
 },
 "nbformat": 4,
 "nbformat_minor": 2
}
