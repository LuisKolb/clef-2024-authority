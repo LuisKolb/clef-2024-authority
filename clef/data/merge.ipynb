{
 "cells": [
  {
   "cell_type": "markdown",
   "metadata": {},
   "source": [
    "merge author data dicts"
   ]
  },
  {
   "cell_type": "code",
   "execution_count": 1,
   "metadata": {},
   "outputs": [
    {
     "name": "stdout",
     "output_type": "stream",
     "text": [
      "277\n",
      "108\n",
      "324\n",
      "https://twitter.com/NajlaElmangoush\n",
      "{'name': 'Dr. Najla Elmangoush', 'bio': 'وزير الخارجية و التعاون الدولي-ليبيا The official account for The Libyan Minister of Foreign Affairs and International Cooperation #MFA_LY #نختلف_باحترام', 'translated_name': 'Der.\\n Nagla Mangosh', 'translated_bio': 'The Minister of Foreign and International Cooperation-The Official Account for the Libyan Minister of Foreign Affairs and International Coo operation #MFA_LY #We disagree', 'error': ''}\n",
      "{'name': 'Dr. Najla Elmangoush', 'bio': 'وزير الخارجية و التعاون الدولي-ليبيا The official account for The Libyan Minister of Foreign Affairs and International Cooperation #MFA_LY #نختلف_باحترام', 'translated_name': 'Der.\\n Nagla Mangosh', 'translated_bio': 'The Official Account for the Libyan Minister of Foreign Affairs and International Coo operation #mfa_ly #We disagree', 'error': ''}\n",
      "\n",
      "https://twitter.com/Lolwah_Alkhater\n",
      "{'name': 'لولوة الخاطر Lolwah Alkhater', 'bio': 'وزيرة الدولة للتعاون الدولي - الخارجية القطرية Minister of State for International Cooperation- MoFA Qatar', 'translated_name': 'Lolwah Alkhaater', 'translated_bio': 'Minister of State for International Cooperation - Qatar Foreign Ministry of State Cooperration- Mova QATAR', 'error': ''}\n",
      "{'name': 'لولوة الخاطر Lolwah Alkhater', 'bio': 'وزيرة الدولة للتعاون الدولي - الخارجية القطرية Minister of State for International Cooperation- MoFA Qatar', 'translated_name': 'Lolwah Alkhaater', 'translated_bio': 'Minister of State for International Cooperation - Qatar Foreign Ministry of State for International Cooperration- Mova QATAR', 'error': ''}\n",
      "\n",
      "https://twitter.com/spagov\n",
      "{'name': 'واس الأخبار الملكية', 'bio': 'الحساب الرسمي لـ واس الخاص بأخبار خادم الحرمين الشريفين وسمو ولي العهد والمراسيم والأوامر الملكية ومجلس الوزراء والبيانات الرسمية.', 'translated_name': 'Royal news', 'translated_bio': 'The official account for the news of the news of the Custodian of the Two Holy Mosques, His Highness the Crown Prince, decrees, royal orders, cabinet and official data.', 'error': ''}\n",
      "{'name': 'واس الأخبار الملكية', 'bio': 'الحساب الرسمي لـ واس الخاص بأخبار خادم الحرمين الشريفين وسمو ولي العهد والمراسيم والأوامر الملكية ومجلس الوزراء والبيانات الرسمية.', 'translated_name': 'Royal news', 'translated_bio': 'The official account for the news of the news of the Custodian of the Two Holy Mosques, His Highness the Crown Prince, decrees, royal orders, the Council of Ministers and official data.', 'error': ''}\n",
      "\n",
      "https://twitter.com/saudiFF\n",
      "{'name': 'الاتحاد السعودي لكرة القدم', 'bio': 'الحساب الرسمي للاتحاد السعودي لكرة القدم Official Account of the Saudi Arabian Football Federation حساب العناية بالعملاء Account of Customer Care  @SAFFcare', 'translated_name': 'Saudi Football Association', 'translated_bio': 'The official account of the Saudi Account of the Saudi Arabian Football Federation Account of Customer Care @Saffcare Customer Care', 'error': ''}\n",
      "{'name': 'الاتحاد السعودي لكرة القدم', 'bio': 'الحساب الرسمي للاتحاد السعودي لكرة القدم Official Account of the Saudi Arabian Football Federation حساب العناية بالعملاء Account of Customer Care  @SAFFcare', 'translated_name': 'Saudi Football Association', 'translated_bio': 'The official account of the Saudi Account of the Saudi Arabian Football Federation Account of Customer Care @saffcare Customer Care', 'error': ''}\n",
      "\n",
      "https://twitter.com/AbouRidaHany\n",
      "{'name': 'Hany Abou Rida', 'bio': 'FIFA and CAF executive committee  EFA president https://facebook.com/AbouRidaHany/', 'translated_name': 'Hany abou rida', 'translated_bio': 'FIFA AND CAF Executive Committee Efa President https://facebook.com/ABOURIRIDAHANY/', 'error': ''}\n",
      "{'name': 'Hany Abou Rida', 'bio': 'FIFA and CAF executive committee  EFA president https://facebook.com/AbouRidaHany/', 'translated_name': 'Hany abou rida', 'translated_bio': 'FIFA AND CAF Executive Committee Efa President https://facebook.com/Aboridahany/', 'error': ''}\n",
      "\n",
      "324\n",
      "129\n"
     ]
    }
   ],
   "source": [
    "import json\n",
    "\n",
    "\n",
    "dev = json.load(open('./author-data-translated.json'))\n",
    "train = json.load(open('./train-author-data-translated.json')) \n",
    "test = json.load(open('./test-author-data-translated.json'))\n",
    "\n",
    "# test if all keys are the same, if they exist in both\n",
    "for key in dev:\n",
    "    if key in train:\n",
    "        if dev[key] != train[key]:\n",
    "            print(key)\n",
    "            print(dev[key])\n",
    "            print(train[key])\n",
    "            print('')\n",
    "print(len(train))\n",
    "print(len(dev))\n",
    "\n",
    "# add all keys from dev to train, if they don't exist in train already\n",
    "for key in dev:\n",
    "    if key not in train:\n",
    "        train[key] = dev[key]\n",
    "\n",
    "print(len(train))\n",
    "\n",
    "# test if all keys are the same, if they exist in both\n",
    "for key in test:\n",
    "    if key in train:\n",
    "        if test[key] != train[key]:\n",
    "            print(key)\n",
    "            print(test[key])\n",
    "            print(train[key])\n",
    "            print('')\n",
    "print(len(train))\n",
    "print(len(test))\n"
   ]
  },
  {
   "cell_type": "code",
   "execution_count": 2,
   "metadata": {},
   "outputs": [
    {
     "name": "stdout",
     "output_type": "stream",
     "text": [
      "373\n"
     ]
    }
   ],
   "source": [
    "\n",
    "# add all keys from dev to train, if they don't exist in train already\n",
    "for key in dev:\n",
    "    if key not in train:\n",
    "        train[key] = dev[key]\n",
    "\n",
    "for key in test:\n",
    "    if key not in train:\n",
    "        train[key] = test[key]\n",
    "\n",
    "print(len(train))\n"
   ]
  },
  {
   "cell_type": "code",
   "execution_count": 3,
   "metadata": {},
   "outputs": [],
   "source": [
    "\n",
    "#write train to file\n",
    "with open('./combined-author-data-translated.json', 'w') as f:\n",
    "    json.dump(train, f, indent=4)"
   ]
  },
  {
   "cell_type": "code",
   "execution_count": 12,
   "metadata": {},
   "outputs": [
    {
     "data": {
      "text/plain": [
       "385"
      ]
     },
     "execution_count": 12,
     "metadata": {},
     "output_type": "execute_result"
    }
   ],
   "source": [
    "277+108"
   ]
  }
 ],
 "metadata": {
  "kernelspec": {
   "display_name": "clef310",
   "language": "python",
   "name": "python3"
  },
  "language_info": {
   "codemirror_mode": {
    "name": "ipython",
    "version": 3
   },
   "file_extension": ".py",
   "mimetype": "text/x-python",
   "name": "python",
   "nbconvert_exporter": "python",
   "pygments_lexer": "ipython3",
   "version": "3.10.14"
  }
 },
 "nbformat": 4,
 "nbformat_minor": 2
}
