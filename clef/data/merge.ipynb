{
 "cells": [
  {
   "cell_type": "markdown",
   "metadata": {},
   "source": [
    "merge author data dicts"
   ]
  },
  {
   "cell_type": "code",
   "execution_count": 13,
   "metadata": {},
   "outputs": [
    {
     "name": "stdout",
     "output_type": "stream",
     "text": [
      "277\n",
      "108\n",
      "324\n"
     ]
    }
   ],
   "source": [
    "import json\n",
    "\n",
    "\n",
    "dev = json.load(open('./author-data-translated.json'))\n",
    "train = json.load(open('./train-author-data-translated.json')) \n",
    "\n",
    "# test if all keys are the same, if they exist in both\n",
    "for key in dev:\n",
    "    if key in train:\n",
    "        if dev[key] != train[key]:\n",
    "            print(key)\n",
    "            print(dev[key])\n",
    "            print(train[key])\n",
    "            print('')\n",
    "print(len(train))\n",
    "print(len(dev))\n",
    "\n",
    "# add all keys from dev to train, if they don't exist in train already\n",
    "for key in dev:\n",
    "    if key not in train:\n",
    "        train[key] = dev[key]\n",
    "\n",
    "print(len(train))\n",
    "\n",
    "#write train to file\n",
    "with open('./combined-author-data-translated.json', 'w') as f:\n",
    "    json.dump(train, f, indent=4)"
   ]
  },
  {
   "cell_type": "code",
   "execution_count": 12,
   "metadata": {},
   "outputs": [
    {
     "data": {
      "text/plain": [
       "385"
      ]
     },
     "execution_count": 12,
     "metadata": {},
     "output_type": "execute_result"
    }
   ],
   "source": [
    "277+108"
   ]
  }
 ],
 "metadata": {
  "kernelspec": {
   "display_name": "clef310",
   "language": "python",
   "name": "python3"
  },
  "language_info": {
   "codemirror_mode": {
    "name": "ipython",
    "version": 3
   },
   "file_extension": ".py",
   "mimetype": "text/x-python",
   "name": "python",
   "nbconvert_exporter": "python",
   "pygments_lexer": "ipython3",
   "version": "3.10.14"
  }
 },
 "nbformat": 4,
 "nbformat_minor": 2
}
