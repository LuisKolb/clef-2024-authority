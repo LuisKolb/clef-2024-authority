{
 "cells": [
  {
   "cell_type": "code",
   "execution_count": 30,
   "metadata": {},
   "outputs": [],
   "source": [
    "from abc import ABC, abstractmethod\n",
    "import json\n",
    "from typing import List, NamedTuple\n",
    "from openai import OpenAI\n",
    "from openai.types.chat import ChatCompletion\n",
    "\n",
    "import re\n",
    "import os\n",
    "from clef.utils.data_loading import AuthorityPost\n",
    "\n",
    "import logging\n",
    "\n",
    "from clef.verification.models.open_ai import BaseVerifier\n",
    "logger = logging.getLogger(__name__)\n",
    "\n",
    "class VerificationResult(NamedTuple):\n",
    "    label: str\n",
    "    score: float\n",
    "    \n",
    "class OpenaiVerifier(BaseVerifier):\n",
    "    client: OpenAI\n",
    "    model: str = \"gpt-4-turbo-preview\"\n",
    "    valid_labels: List =  [\n",
    "            \"REFUTES\",\n",
    "            \"NOT ENOUGH INFO\",\n",
    "            \"SUPPORTS\"\n",
    "        ]\n",
    "\n",
    "    def __init__(self, api_key:str='') -> None:\n",
    "        self.client = OpenAI(\n",
    "            api_key=(api_key or os.environ.get(\"OPENAI_API_KEY\")),\n",
    "        )\n",
    "        self.assistant_id: str = \"asst_XRITdOybDfYpIr4fVevm6qYi\"\n",
    "        self.total_tokens_used: int = 0\n",
    "    \n",
    "    def get_assistant_response(self, input_message):\n",
    "        thread = self.client.beta.threads.create()\n",
    "        message = self.client.beta.threads.messages.create(\n",
    "            thread_id=thread.id,\n",
    "            role=\"user\",\n",
    "            content=input_message\n",
    "        )\n",
    "\n",
    "        run = self.client.beta.threads.runs.create_and_poll(\n",
    "            thread_id=thread.id,\n",
    "            assistant_id=self.assistant_id,\n",
    "        )\n",
    "\n",
    "        if run.status == 'completed':\n",
    "            self.total_tokens_used += run.usage.total_tokens\n",
    "            messages = self.client.beta.threads.messages.list(\n",
    "                thread_id=thread.id,\n",
    "                limit=1\n",
    "            )\n",
    "            if messages:\n",
    "                for message in messages.data:\n",
    "                    if message.role == \"assistant\":\n",
    "                        return messages.data.content[0].text.value # type: ignore\n",
    "        else:\n",
    "            logger.warn(f'could not unpack response from openai model: {run}')\n",
    "            return '{\"decision\": \"NOT ENOUGH INFO\", confidence\": 1.0}'\n",
    "\n",
    "    def verify(self, claim: str, evidence: str) -> VerificationResult:\n",
    "        return VerificationResult('', 1.0)"
   ]
  },
  {
   "cell_type": "code",
   "execution_count": 31,
   "metadata": {},
   "outputs": [
    {
     "data": {
      "text/plain": [
       "<__main__.OpenaiVerifier at 0x24b40973cd0>"
      ]
     },
     "execution_count": 31,
     "metadata": {},
     "output_type": "execute_result"
    }
   ],
   "source": [
    "oaiver = OpenaiVerifier()\n",
    "oaiver"
   ]
  },
  {
   "cell_type": "code",
   "execution_count": 32,
   "metadata": {},
   "outputs": [],
   "source": [
    "res = oaiver.get_assistant_response('hello')"
   ]
  },
  {
   "cell_type": "code",
   "execution_count": 39,
   "metadata": {},
   "outputs": [
    {
     "data": {
      "text/plain": [
       "'{\"decision\": \"NOT ENOUGH INFO\", \"confidence\": 1}'"
      ]
     },
     "execution_count": 39,
     "metadata": {},
     "output_type": "execute_result"
    }
   ],
   "source": [
    "res.data[0].content[0].text.value"
   ]
  }
 ],
 "metadata": {
  "kernelspec": {
   "display_name": "clef310",
   "language": "python",
   "name": "python3"
  },
  "language_info": {
   "codemirror_mode": {
    "name": "ipython",
    "version": 3
   },
   "file_extension": ".py",
   "mimetype": "text/x-python",
   "name": "python",
   "nbconvert_exporter": "python",
   "pygments_lexer": "ipython3",
   "version": "3.10.14"
  }
 },
 "nbformat": 4,
 "nbformat_minor": 2
}
