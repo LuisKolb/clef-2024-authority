{
 "cells": [
  {
   "cell_type": "code",
   "execution_count": 1,
   "metadata": {},
   "outputs": [
    {
     "name": "stdout",
     "output_type": "stream",
     "text": [
      "1\n"
     ]
    }
   ],
   "source": [
    "def test():\n",
    "    print(1)\n",
    "\n",
    "test()"
   ]
  },
  {
   "cell_type": "code",
   "execution_count": 2,
   "metadata": {},
   "outputs": [
    {
     "data": {
      "text/plain": [
       "['.gitkeep',\n",
       " 'Arabic_dev.json',\n",
       " 'Arabic_train.json',\n",
       " 'dev_qrels.txt',\n",
       " 'English_dev.json',\n",
       " 'English_train.json']"
      ]
     },
     "execution_count": 2,
     "metadata": {},
     "output_type": "execute_result"
    }
   ],
   "source": [
    "import os, json\n",
    "base_path = '../clef2024-checkthat-lab/task5'\n",
    "base_data_path = os.path.join(base_path, 'data')\n",
    "\n",
    "os.listdir(base_data_path)"
   ]
  },
  {
   "cell_type": "code",
   "execution_count": 3,
   "metadata": {},
   "outputs": [
    {
     "data": {
      "text/plain": [
       "96"
      ]
     },
     "execution_count": 3,
     "metadata": {},
     "output_type": "execute_result"
    }
   ],
   "source": [
    "train_jsons = []\n",
    "\n",
    "with open(os.path.join(base_data_path, 'English_train.json'), encoding='utf8') as file:\n",
    "    for line in file:\n",
    "        train_jsons += [json.loads(line)]\n",
    "\n",
    "len(train_jsons)        "
   ]
  },
  {
   "cell_type": "code",
   "execution_count": 14,
   "metadata": {},
   "outputs": [
    {
     "data": {
      "text/plain": [
       "32"
      ]
     },
     "execution_count": 14,
     "metadata": {},
     "output_type": "execute_result"
    }
   ],
   "source": [
    "dev_jsons = []\n",
    "\n",
    "with open(os.path.join(base_data_path, 'English_dev.json'), encoding='utf8') as file:\n",
    "    for line in file:\n",
    "        dev_jsons += [json.loads(line)]\n",
    "\n",
    "len(dev_jsons)      "
   ]
  },
  {
   "cell_type": "code",
   "execution_count": 15,
   "metadata": {},
   "outputs": [],
   "source": [
    "# display(dev_jsons)"
   ]
  },
  {
   "cell_type": "code",
   "execution_count": 16,
   "metadata": {},
   "outputs": [],
   "source": [
    "with open('temp-data/eng-train.jsonl', mode='w') as file:\n",
    "    file.write('')\n",
    "\n",
    "with open('temp-data/eng-train.jsonl', mode='a', encoding='utf8') as file:\n",
    "    for tweet in train_jsons[0]['timeline']:\n",
    "        o = {'id': tweet[1], 'contents': tweet[2]}\n",
    "        file.write(json.dumps(o) + '\\n')"
   ]
  },
  {
   "cell_type": "code",
   "execution_count": 17,
   "metadata": {},
   "outputs": [
    {
     "name": "stdout",
     "output_type": "stream",
     "text": [
      "Microsoft Windows [Version 10.0.22631.3155]\n",
      "(c) Microsoft Corporation. All rights reserved.\n",
      "\n",
      "(clef) c:\\Users\\luisk\\Projects-Win\\clef-2024-authority\\clef>\n",
      "(clef) c:\\Users\\luisk\\Projects-Win\\clef-2024-authority\\clef>python -m pyserini.index.lucene ^\n",
      "More?     -input temp-data ^\n",
      "More?     -collection JsonCollection ^\n",
      "More?     -generator DefaultLuceneDocumentGenerator ^\n",
      "More?     -index indexes/train_timeline_index ^\n",
      "More?     -threads 1 ^\n",
      "More?     -storePositions ^\n",
      "More?     -storeDocvectors ^\n",
      "More?     -storeRaw ^\n",
      "More?     -language en\n"
     ]
    },
    {
     "name": "stdout",
     "output_type": "stream",
     "text": [
      "WARNING: sun.reflect.Reflection.getCallerClass is not supported. This will impact performance.\n",
      "2024-02-25 17:50:39,517 INFO  [main] index.IndexCollection (IndexCollection.java:380) - Setting log level to INFO\n",
      "2024-02-25 17:50:39,520 INFO  [main] index.IndexCollection (IndexCollection.java:383) - Starting indexer...\n",
      "2024-02-25 17:50:39,520 INFO  [main] index.IndexCollection (IndexCollection.java:384) - ============ Loading Parameters ============\n",
      "2024-02-25 17:50:39,520 INFO  [main] index.IndexCollection (IndexCollection.java:385) - DocumentCollection path: temp-data\n",
      "2024-02-25 17:50:39,520 INFO  [main] index.IndexCollection (IndexCollection.java:386) - CollectionClass: JsonCollection\n",
      "2024-02-25 17:50:39,520 INFO  [main] index.IndexCollection (IndexCollection.java:387) - Generator: DefaultLuceneDocumentGenerator\n",
      "2024-02-25 17:50:39,520 INFO  [main] index.IndexCollection (IndexCollection.java:388) - Threads: 1\n",
      "2024-02-25 17:50:39,520 INFO  [main] index.IndexCollection (IndexCollection.java:389) - Language: en\n",
      "2024-02-25 17:50:39,521 INFO  [main] index.IndexCollection (IndexCollection.java:390) - Stemmer: porter\n",
      "2024-02-25 17:50:39,521 INFO  [main] index.IndexCollection (IndexCollection.java:391) - Keep stopwords? false\n",
      "2024-02-25 17:50:39,521 INFO  [main] index.IndexCollection (IndexCollection.java:392) - Stopwords: null\n",
      "2024-02-25 17:50:39,521 INFO  [main] index.IndexCollection (IndexCollection.java:393) - Store positions? true\n",
      "2024-02-25 17:50:39,521 INFO  [main] index.IndexCollection (IndexCollection.java:394) - Store docvectors? true\n",
      "2024-02-25 17:50:39,521 INFO  [main] index.IndexCollection (IndexCollection.java:395) - Store document \"contents\" field? false\n",
      "2024-02-25 17:50:39,521 INFO  [main] index.IndexCollection (IndexCollection.java:396) - Store document \"raw\" field? true\n",
      "2024-02-25 17:50:39,522 INFO  [main] index.IndexCollection (IndexCollection.java:397) - Additional fields to index: []\n",
      "2024-02-25 17:50:39,522 INFO  [main] index.IndexCollection (IndexCollection.java:398) - Optimize (merge segments)? false\n",
      "2024-02-25 17:50:39,522 INFO  [main] index.IndexCollection (IndexCollection.java:399) - Whitelist: null\n",
      "2024-02-25 17:50:39,522 INFO  [main] index.IndexCollection (IndexCollection.java:400) - Pretokenized?: false\n",
      "2024-02-25 17:50:39,523 INFO  [main] index.IndexCollection (IndexCollection.java:401) - Index path: indexes/train_timeline_index\n",
      "2024-02-25 17:50:39,525 INFO  [main] index.IndexCollection (IndexCollection.java:481) - ============ Indexing Collection ============\n",
      "2024-02-25 17:50:39,535 INFO  [main] index.IndexCollection (IndexCollection.java:468) - Using DefaultEnglishAnalyzer\n",
      "2024-02-25 17:50:39,536 INFO  [main] index.IndexCollection (IndexCollection.java:469) - Stemmer: porter\n",
      "2024-02-25 17:50:39,536 INFO  [main] index.IndexCollection (IndexCollection.java:470) - Keep stopwords? false\n",
      "2024-02-25 17:50:39,536 INFO  [main] index.IndexCollection (IndexCollection.java:471) - Stopwords file: null\n",
      "2024-02-25 17:50:39,636 INFO  [main] index.IndexCollection (IndexCollection.java:510) - Thread pool with 1 threads initialized.\n",
      "2024-02-25 17:50:39,636 INFO  [main] index.IndexCollection (IndexCollection.java:512) - Initializing collection in temp-data\n",
      "2024-02-25 17:50:39,640 INFO  [main] index.IndexCollection (IndexCollection.java:521) - 1 file found\n",
      "2024-02-25 17:50:39,640 INFO  [main] index.IndexCollection (IndexCollection.java:522) - Starting to index...\n",
      "2024-02-25 17:50:39,805 DEBUG [pool-2-thread-1] index.IndexCollection$LocalIndexerThread (IndexCollection.java:345) - temp-data\\eng-train.jsonl: 75 docs added.\n",
      "2024-02-25 17:50:39,923 INFO  [main] index.IndexCollection (IndexCollection.java:578) - Indexing Complete! 75 documents indexed\n",
      "2024-02-25 17:50:39,923 INFO  [main] index.IndexCollection (IndexCollection.java:579) - ============ Final Counter Values ============\n",
      "2024-02-25 17:50:39,923 INFO  [main] index.IndexCollection (IndexCollection.java:580) - indexed:               75\n",
      "2024-02-25 17:50:39,924 INFO  [main] index.IndexCollection (IndexCollection.java:581) - unindexable:            0\n",
      "2024-02-25 17:50:39,924 INFO  [main] index.IndexCollection (IndexCollection.java:582) - empty:                  0\n",
      "2024-02-25 17:50:39,924 INFO  [main] index.IndexCollection (IndexCollection.java:583) - skipped:                0\n",
      "2024-02-25 17:50:39,924 INFO  [main] index.IndexCollection (IndexCollection.java:584) - errors:                 0\n",
      "2024-02-25 17:50:39,928 INFO  [main] index.IndexCollection (IndexCollection.java:587) - Total 75 documents indexed in 00:00:00\n",
      "\n",
      "(clef) c:\\Users\\luisk\\Projects-Win\\clef-2024-authority\\clef>"
     ]
    }
   ],
   "source": [
    "%%cmd\n",
    "\n",
    "python -m pyserini.index.lucene ^\n",
    "    -input temp-data ^\n",
    "    -collection JsonCollection ^\n",
    "    -generator DefaultLuceneDocumentGenerator ^\n",
    "    -index indexes/train_timeline_index ^\n",
    "    -threads 1 ^\n",
    "    -storePositions ^\n",
    "    -storeDocvectors ^\n",
    "    -storeRaw ^\n",
    "    -language en"
   ]
  },
  {
   "cell_type": "code",
   "execution_count": 37,
   "metadata": {},
   "outputs": [],
   "source": [
    "test_rumor = train_jsons[0]"
   ]
  },
  {
   "cell_type": "code",
   "execution_count": 41,
   "metadata": {},
   "outputs": [
    {
     "name": "stdout",
     "output_type": "stream",
     "text": [
      "“#Urgent / Ramallah Ministry of Health spokesman Kamal Al-Shakhra: We received 2,000 doses of the American “Moderna” #Corona vaccine, and this batch will be designated for President Abbas, the Fatah Central Committee, and VIPs.”\n"
     ]
    }
   ],
   "source": [
    "search_input = test_rumor['rumor']\n",
    "print(search_input)"
   ]
  },
  {
   "cell_type": "code",
   "execution_count": 39,
   "metadata": {},
   "outputs": [
    {
     "name": "stdout",
     "output_type": "stream",
     "text": [
      " 1 1356683511047028748 9.24720 Yesterday, the Ministry of Health announced that it had received 2,000 doses of Moderna vaccine, stressing that the priority in receiving anti-Coronavirus vaccinations is for personnel working in the health sector, as they are the group who have the most contact with patients and are most at risk of infection with the Corona virus. #modernavaccine #palestine #COVID19\n",
      " 2 1356178479251861504 7.09700 Vaccination will begin in the middle of this month, and we will provide the Gaza Strip with a share of all the vaccines we receive. We expect the first batch of vaccines that the government has contracted to purchase to arrive at the end of this month of February, or the beginning of the following month. The Ministry of Health was directed to prepare a health protocol for the electoral process.\n",
      " 3 1356178477138010115 6.70100 \"During today’s Cabinet session: - The Supreme Emergency Committee recommends to His Excellency the President to extend the state of emergency for 30 days. - To continue the procedures in place now for another two weeks. - The government will obtain the first batch of \"Corona\" vaccines, amounting to 50,000 vaccines, from several sources. The most important is COVAX.\n",
      " 4 1357309759607746563 5.41180 The Palestinian Ministry of Health received 10,000 doses of the Russian Sputnik vaccine against the Corona virus, sufficient for 5,000 citizens. https://t.co/BhNksplUe5\n",
      " 5 1357309816797073409 4.94970 On behalf of the President Mahmoud Abbas and Prime Minister Dr. Muhammad Shtayyeh and the Palestinian people, the Minister of Health thanked Russia, including the president, the government and the people for the great support it provides to Palestine, especially in light of the Corona pandemic, saying that this grant from Russia expresses the depth of the relations that bind the two peoples.\n"
     ]
    }
   ],
   "source": [
    "from pyserini.search.lucene import LuceneSearcher\n",
    "\n",
    "# if you get the error \"NameError: name '_C' is not defined\" --> restart the Jupyter Kernel\n",
    "\n",
    "searcher = LuceneSearcher(\"indexes/train_timeline_index\")\n",
    "hits = searcher.search(search_input)\n",
    "hit_ids = []\n",
    "for i in range(0, 5):\n",
    "    doc = searcher.doc(hits[i].docid)\n",
    "    hit_ids += [str(hits[i].docid)]\n",
    "    json_doc = json.loads(doc.raw())\n",
    "    print(f'{i+1:2} {hits[i].docid:4} {hits[i].score:.5f} {json_doc[\"contents\"]}')"
   ]
  },
  {
   "cell_type": "code",
   "execution_count": 40,
   "metadata": {},
   "outputs": [
    {
     "name": "stdout",
     "output_type": "stream",
     "text": [
      "NOT FOUND\t1357211717479116800 Pictures from the launch of the vaccination campaign against the #Coronavirus, starting with the medical and health teams in #Bethlehem. #vaccine #Palestine #COVID19 https://t.co/vnhGmoZtgC\n",
      "NOT FOUND\t1356683687870488576 The Ministry added that the second group that will receive the vaccine is the elderly over the age of 60 and those with chronic diseases, because if they are infected with the virus, they will be more susceptible to serious symptoms. #vaccine #modernavaccine #palestine #COVID19\n",
      "WAS FOUND\t1356683511047028748 Yesterday, the Ministry of Health announced that it had received 2,000 doses of Moderna vaccine, stressing that the priority in receiving anti-Coronavirus vaccinations is for personnel working in the health sector, as they are the group who have the most contact with patients and are most at risk of infection with the Corona virus. #modernavaccine #palestine #COVID19\n",
      "NOT FOUND\t1356683390733471746 The Minister of Health, Dr. #May_Alkaila, today, Tuesday, the campaign, where she received the #vaccine at Hogochaffer Hospital in Turmus Aya, while the medical staff working in the intensive care rooms there were vaccinated with the #Moderna vaccine. #modernavaccine #palestine #COVID19\n"
     ]
    }
   ],
   "source": [
    "for evidence in test_rumor['evidence']:\n",
    "    print(f'{\"WAS FOUND\" if evidence[1] in hit_ids else \"NOT FOUND\"}\\t{evidence[1]} {evidence[2]}')"
   ]
  },
  {
   "cell_type": "code",
   "execution_count": null,
   "metadata": {},
   "outputs": [],
   "source": []
  }
 ],
 "metadata": {
  "kernelspec": {
   "display_name": "venv",
   "language": "python",
   "name": "python3"
  },
  "language_info": {
   "codemirror_mode": {
    "name": "ipython",
    "version": 3
   },
   "file_extension": ".py",
   "mimetype": "text/x-python",
   "name": "python",
   "nbconvert_exporter": "python",
   "pygments_lexer": "ipython3",
   "version": "3.8.18"
  }
 },
 "nbformat": 4,
 "nbformat_minor": 2
}
