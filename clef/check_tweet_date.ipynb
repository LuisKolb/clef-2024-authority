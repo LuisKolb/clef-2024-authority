{
 "cells": [
  {
   "cell_type": "code",
   "execution_count": null,
   "metadata": {},
   "outputs": [],
   "source": []
  },
  {
   "cell_type": "code",
   "execution_count": 3,
   "metadata": {},
   "outputs": [
    {
     "name": "stdout",
     "output_type": "stream",
     "text": [
      "loaded 96 training json lines and 32 dev json lines.\n"
     ]
    }
   ],
   "source": [
    "from clef.utils.data_loading import load_datasets, task5_dir\n",
    "from clef.utils.data_loading import write_trec_format_output\n",
    "from clef.retrieval.retrieve import retrieve_evidence\n",
    "import os\n",
    "\n",
    "root_path = '../'\n",
    "\n",
    "train, dev = load_datasets(preprocess=False,\n",
    "                           add_author_name=False,\n",
    "                           add_author_bio=False,\n",
    "                           root_path= root_path,)\n"
   ]
  },
  {
   "cell_type": "code",
   "execution_count": 9,
   "metadata": {},
   "outputs": [],
   "source": [
    "def get_tweet_links(dataset):\n",
    "    links = []\n",
    "    for tweet in dataset:\n",
    "        for account, id, _ in tweet['timeline']:\n",
    "            links.append(f'{account.strip()}/status/{id}')\n",
    "    return list(set(links))"
   ]
  },
  {
   "cell_type": "code",
   "execution_count": 11,
   "metadata": {},
   "outputs": [
    {
     "data": {
      "text/plain": [
       "22675"
      ]
     },
     "execution_count": 11,
     "metadata": {},
     "output_type": "execute_result"
    }
   ],
   "source": [
    "links = get_tweet_links(train)\n",
    "len(links)"
   ]
  }
 ],
 "metadata": {
  "kernelspec": {
   "display_name": "clef",
   "language": "python",
   "name": "python3"
  },
  "language_info": {
   "codemirror_mode": {
    "name": "ipython",
    "version": 3
   },
   "file_extension": ".py",
   "mimetype": "text/x-python",
   "name": "python",
   "nbconvert_exporter": "python",
   "pygments_lexer": "ipython3",
   "version": "3.8.18"
  }
 },
 "nbformat": 4,
 "nbformat_minor": 2
}
