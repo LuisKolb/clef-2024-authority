{
 "cells": [
  {
   "cell_type": "markdown",
   "metadata": {},
   "source": [
    "# start to finish"
   ]
  },
  {
   "cell_type": "markdown",
   "metadata": {},
   "source": [
    "## data loading"
   ]
  },
  {
   "cell_type": "code",
   "execution_count": 12,
   "metadata": {},
   "outputs": [],
   "source": [
    "from typing import List\n",
    "import json\n",
    "\n",
    "def load_rumor_from_jsonl(filepath: str) -> List:\n",
    "    jsons = []\n",
    "    with open(filepath, encoding='utf8') as file:\n",
    "        for line in file:\n",
    "            jsons += [json.loads(line)]\n",
    "    return jsons"
   ]
  },
  {
   "cell_type": "code",
   "execution_count": 13,
   "metadata": {},
   "outputs": [
    {
     "name": "stdout",
     "output_type": "stream",
     "text": [
      "32\n"
     ]
    }
   ],
   "source": [
    "import os\n",
    "\n",
    "clef_path = '../clef2024-checkthat-lab/task5'\n",
    "data_path = os.path.join(clef_path, 'data')\n",
    "out_dir = './temp-data'\n",
    "\n",
    "filepath_dev = os.path.join(data_path, 'English_dev.json')\n",
    "\n",
    "dev_jsons = load_rumor_from_jsonl(filepath_dev)\n",
    "print(len(dev_jsons))"
   ]
  },
  {
   "cell_type": "markdown",
   "metadata": {},
   "source": [
    "## retrieve evidence"
   ]
  },
  {
   "cell_type": "markdown",
   "metadata": {},
   "source": [
    "### naive tfidf"
   ]
  },
  {
   "cell_type": "code",
   "execution_count": 14,
   "metadata": {},
   "outputs": [],
   "source": [
    "from sklearn.feature_extraction.text import TfidfVectorizer\n",
    "from sklearn.metrics.pairwise import cosine_similarity\n",
    "from typing import List\n",
    "\n",
    "def retrieve_relevant_documents(query: str, timeline: List):\n",
    "    # Get only doc texts\n",
    "    author_accounts = [t[0] for t in timeline]\n",
    "    tweet_ids = [t[1] for t in timeline]\n",
    "    documents = [t[2] for t in timeline]\n",
    "\n",
    "    # Combine query and documents for TF-IDF vectorization\n",
    "    combined_texts = [query] + documents\n",
    "    \n",
    "    # Generate TF-IDF vectors\n",
    "    vectorizer = TfidfVectorizer()\n",
    "    tfidf_matrix = vectorizer.fit_transform(combined_texts)\n",
    "    \n",
    "    # Calculate similarity of the query to each document\n",
    "    similarity_scores = cosine_similarity(tfidf_matrix[0:1], tfidf_matrix[1:])\n",
    "    \n",
    "    # Rank documents based on similarity scores\n",
    "    ranked_doc_indices = similarity_scores.argsort()[0][::-1]\n",
    "\n",
    "    # Sort the documents according to rank\n",
    "    ranked_scores = [similarity_scores[0][i] for i in ranked_doc_indices]\n",
    "    ranked_authors = [author_accounts[i] for i in ranked_doc_indices]\n",
    "    ranked_ids = [tweet_ids[i] for i in ranked_doc_indices]\n",
    "    ranked_documents = [documents[i] for i in ranked_doc_indices]\n",
    "\n",
    "    # Create a list of tuples of shape (author, evidence_id, evidence_text, score)\n",
    "    ranked_tuples = (list(zip(ranked_authors, ranked_ids, ranked_documents, ranked_scores)))\n",
    "    \n",
    "    return ranked_tuples"
   ]
  },
  {
   "cell_type": "code",
   "execution_count": 15,
   "metadata": {},
   "outputs": [],
   "source": [
    "from tqdm import tqdm\n",
    "import os\n",
    "from utils import write_trec_format_output\n",
    "from typing import List, Dict\n",
    "\n",
    "def retrieve_using_tfidf(query: str, timeline: List, k: int = 5):\n",
    "    \"\"\"\n",
    "    Parameters:\n",
    "        - jsons (Dict): one rumor document from the dataset\n",
    "        - k (int): top-k results to return. defaults to 5 \n",
    "\n",
    "    Returns: \n",
    "    List of shape [(rumor_id, evidence_tweet_id, rank, score, evidence_text), ...]\n",
    "    \"\"\"\n",
    "\n",
    "    ranked_docs = retrieve_relevant_documents(query, timeline)\n",
    "\n",
    "    res = []\n",
    "    for rank, (author_account, authority_tweet_id, doc_text, score) in enumerate(ranked_docs[:k]):\n",
    "        res += [(author_account, authority_tweet_id, doc_text, rank+1, score)] \n",
    "\n",
    "    return res"
   ]
  },
  {
   "cell_type": "code",
   "execution_count": 16,
   "metadata": {},
   "outputs": [],
   "source": [
    "# individual\n",
    "\n",
    "ranked_docs_by_id = {}\n",
    "\n",
    "for rumor_dict in dev_jsons:\n",
    "\n",
    "    rumor_id = rumor_dict['id']\n",
    "    query = rumor_dict['rumor']\n",
    "    timeline = rumor_dict['timeline']\n",
    "\n",
    "    ranked_docs_by_id[rumor_id] = []\n",
    "\n",
    "    ranked_docs = retrieve_using_tfidf(query, timeline, 5)\n",
    "\n",
    "    ranked_docs_by_id[rumor_id] += ranked_docs\n",
    "\n",
    "\n",
    "outfile_tfidf = os.path.join(out_dir, 'tfidf-trec.txt')\n",
    "write_trec_format_output(outfile_tfidf, ranked_docs_by_id, 'TFIDF-BASIC')"
   ]
  },
  {
   "cell_type": "markdown",
   "metadata": {},
   "source": [
    "## fact verification"
   ]
  },
  {
   "cell_type": "markdown",
   "metadata": {},
   "source": [
    "### using NLI"
   ]
  },
  {
   "cell_type": "code",
   "execution_count": 17,
   "metadata": {},
   "outputs": [
    {
     "name": "stderr",
     "output_type": "stream",
     "text": [
      "Some weights of the model checkpoint at roberta-large-mnli were not used when initializing RobertaForSequenceClassification: ['roberta.pooler.dense.bias', 'roberta.pooler.dense.weight']\n",
      "- This IS expected if you are initializing RobertaForSequenceClassification from the checkpoint of a model trained on another task or with another architecture (e.g. initializing a BertForSequenceClassification model from a BertForPreTraining model).\n",
      "- This IS NOT expected if you are initializing RobertaForSequenceClassification from the checkpoint of a model that you expect to be exactly identical (initializing a BertForSequenceClassification model from a BertForSequenceClassification model).\n"
     ]
    }
   ],
   "source": [
    "from transformers import pipeline\n",
    "\n",
    "# Initialize the NLI pipeline with a pre-trained model\n",
    "# nli_pipeline = pipeline(\"zero-shot-classification\", model=\"facebook/bart-large-mnli\")\n",
    "nli_pipeline = pipeline(\"text-classification\", model=\"roberta-large-mnli\")\n",
    "\n",
    "def check_statement_with_evidence(statement: str, evidence: str):\n",
    "    # Define the candidate labels for NLI\n",
    "    # candidate_labels = [\"SUPPORTS\", \"REFUTES\"]\n",
    "    input_text = f\"{evidence} [SEP] {statement}\"\n",
    "\n",
    "    # Use the NLI pipeline to predict the relationship\n",
    "    # result = nli_pipeline(evidence, hypothesis=statement, candidate_labels=candidate_labels, multi_label=False)\n",
    "    result = nli_pipeline(input_text)\n",
    "\n",
    "    # Return the result\n",
    "    return result"
   ]
  },
  {
   "cell_type": "code",
   "execution_count": 18,
   "metadata": {},
   "outputs": [
    {
     "data": {
      "text/plain": [
       "{'id': 'AuRED_142',\n",
       " 'rumor': 'Naturalization decree in preparation: Lebanese passports for sale?! https://t.co/UuQ7yMbSWJ https://t.co/Jf1K1NbZJD',\n",
       " 'label': 'REFUTES',\n",
       " 'timeline': [['https://twitter.com/LBpresidency',\n",
       "   '1556600039211925504',\n",
       "   'Today, the President of the Republic, General Michel Aoun, signed 9 laws that were previously approved by the House of Representatives. Details at the following link: https://t.co/wmrSaaEwDu'],\n",
       "  ['https://twitter.com/LBpresidency',\n",
       "   '1556559119045332992',\n",
       "   'President Aoun received the Minister of Foreign Affairs and Expatriates, Dr. Abdullah Bouhabib, and the Minister of Social Affairs, Hector Hajjar, and discussed with them developments related to the file of displaced Syrians in Lebanon https://t.co/QLQAJSKzs1'],\n",
       "  ['https://twitter.com/LBpresidency',\n",
       "   '1556558220533157890',\n",
       "   'President Aoun received the new British Ambassador to Lebanon, Hamish Cowell, and discussed with him Lebanese-British relations and ways to enhance them in all fields https://t.co/1t1UthtUqV'],\n",
       "  ['https://twitter.com/LBpresidency',\n",
       "   '1555986659279360001',\n",
       "   '“The Information Office of the Presidency of the Republic denies a false news broadcast by the MTV station about Baabda Palace preparing a decree naturalizing 4,000 people, and recalls that it had denied yesterday the false information published by the French magazine ‘Liberation’ about the same fabricated news. \"'],\n",
       "  ['https://twitter.com/LBpresidency',\n",
       "   '1555495801962614786',\n",
       "   'President Aoun received the Lebanese Ambassador to Canada, Ambassador Fadi Ziadeh, who briefed him on the conditions of the Lebanese community in Canada, Lebanese-Canadian relations, and ways to develop them in all fields. https://t.co/HwgRPhBS5F'],\n",
       "  ['https://twitter.com/LBpresidency',\n",
       "   '1555495654490767360',\n",
       "   'President Aoun presented with the Greek Orthodox Bishop of Zahle and Baalbek, Bishop Antonius Soury, the needs of the villages east of Zahle. The discussion addressed the need to support Lebanese industry, facilitate agricultural production, and the status of Zahle’s electricity https://t.co/pctbvEWsge'],\n",
       "  ['https://twitter.com/LBpresidency',\n",
       "   '1555495567643627520',\n",
       "   'The Apostolic Ambassador to Lebanon, Monsignor Joseph Spiteri, after his meeting with President Aoun: Pope Francis is close to Lebanon and to the Lebanese men and women, and the Holy See will continue to help Lebanon https://t.co/OPTUf8qLcw'],\n",
       "  ['https://twitter.com/LBpresidency',\n",
       "   '1555495427004420096',\n",
       "   'The President of the Republic awarded the Papal Ambassador the National Order of the Cedar, with the rank of Grand Officer, wishing him success and success in his new mission: Lebanon always finds the Holy See by its side in happy circumstances as well as in the difficult circumstances it is going through, and this is a reason for gratitude and thanks from all the Lebanese https://t. co/y2Qg2JSqOQ'],\n",
       "  ['https://twitter.com/LBpresidency',\n",
       "   '1555424541509386240',\n",
       "   '“The Information Office of the Presidency of the Republic: What was published by the French newspaper “Liberation” about the “selling” of Lebanese passports to non-Lebanese is false and baseless news.'],\n",
       "  ['https://twitter.com/LBpresidency',\n",
       "   '1555126458191855616',\n",
       "   'President Aoun received the Ambassador of Finland, Tarja Fernandes, on a farewell visit on the occasion of the end of her diplomatic duties in Lebanon. He thanked her for the efforts she made to strengthen and develop Lebanese-Finnish relations, and wished her success in her new duties. https://t.co/DVIbIMoD3g'],\n",
       "  ['https://twitter.com/LBpresidency',\n",
       "   '1555123152275095553',\n",
       "   'President Aoun met with the Director of the Middle East and Central Asia Department at the International Monetary Fund, former Minister Jihad Azour, and discussed with him the economic conditions and negotiations with the Fund https://t.co/KTumfk7asN'],\n",
       "  ['https://twitter.com/LBpresidency',\n",
       "   '1555086872329814018',\n",
       "   'RT @General_Aoun: Two years after the August 4 tragedy, I share the grief of the families of the victims and the wounded, and the suffering of the families of the detainees. I assure them of my commitment to achieving justice...'],\n",
       "  ['https://twitter.com/LBpresidency',\n",
       "   '1554767217182576640',\n",
       "   'President Aoun received Canadian Ambassador Chantal Chastney on a farewell visit on the occasion of the end of her diplomatic duties as her country’s ambassador to Lebanon. The visit was an appropriate occasion during which the general situation and bilateral relations between the two countries were presented https://t.co/XBTYKRxRAv'],\n",
       "  ['https://twitter.com/LBpresidency',\n",
       "   '1554743913197477888',\n",
       "   'President Aoun received Miss Lebanon 2022, Yasmina Zeytoun, in the presence of Minister of Tourism Walid Nassar, and congratulated her on winning the title, wishing her success in her responsibilities, especially representing Lebanese beauty in the world, and the role of the young generation and Lebanese culture https://t.co/v1b8l7PL90'],\n",
       "  ['https://twitter.com/LBpresidency',\n",
       "   '1554739872241537025',\n",
       "   'Head of the Public Procurement Authority, Jean Alaya, swore the legal oath before the President of the Republic on the occasion of assuming the presidency of the Authority https://t.co/7jHgulaG47'],\n",
       "  ['https://twitter.com/LBpresidency',\n",
       "   '1554730137010290688',\n",
       "   'President Aoun discussed with the Minister of National Defense, Maurice Slim, the security conditions in the country and the results of the talks held by the American mediator Amos Hockstein in Beirut last Sunday and Monday. The discussion also addressed the conditions and needs of the military personnel https://t.co/RaTdgGJN55'],\n",
       "  ['https://twitter.com/LBpresidency',\n",
       "   '1554433433857937413',\n",
       "   'President Aoun received the credentials of the Ambassador of Turkmenistan, Muhammad Gildi Ayazov https://t.co/YwLiViiqWF'],\n",
       "  ['https://twitter.com/LBpresidency',\n",
       "   '1554433114746880000',\n",
       "   'President Aoun received the credentials of Iranian Ambassador Mojtaba Amani Hamedani https://t.co/r3nC12aoFm'],\n",
       "  ['https://twitter.com/LBpresidency',\n",
       "   '1554432679071956992',\n",
       "   'President Aoun received the credentials of British Ambassador Hamish Cowell https://t.co/JetpGWKMP2'],\n",
       "  ['https://twitter.com/LBpresidency',\n",
       "   '1554432115596562433',\n",
       "   'President Aoun received the credentials of Kazakhstan’s Ambassador Rasul Zhumaly https://t.co/u86MtHtkTL'],\n",
       "  ['https://twitter.com/LBpresidency',\n",
       "   '1554431873677496320',\n",
       "   'President Aoun received the credentials of Uruguayan Ambassador Carlos Gitto https://t.co/rSCnF3aqtt'],\n",
       "  ['https://twitter.com/LBpresidency',\n",
       "   '1554423079450943490',\n",
       "   'President Aoun presented with Foreign Minister Abdullah Bou Habib the results of the Hochstein talks yesterday in Lebanon https://t.co/USFp5itLEG'],\n",
       "  ['https://twitter.com/LBpresidency',\n",
       "   '1554422990649102336',\n",
       "   'President Aoun before a delegation from the Arab League Educational, Scientific and Cultural Organization: Coordination between Arab countries in the Arab cultural field is important and the availability of capabilities is necessary to enhance the role of culture and education in societies https://t.co/PBAvLZpMjm']],\n",
       " 'evidence': [['https://twitter.com/LBpresidency',\n",
       "   '1555986659279360001',\n",
       "   '“The Information Office of the Presidency of the Republic denies a false news broadcast by the MTV station about Baabda Palace preparing a decree naturalizing 4,000 people, and recalls that it had denied yesterday the false information published by the French magazine ‘Liberation’ about the same fabricated news. \"'],\n",
       "  ['https://twitter.com/LBpresidency',\n",
       "   '1555424541509386240',\n",
       "   '“The Information Office of the Presidency of the Republic: What was published by the French newspaper “Liberation” about the “selling” of Lebanese passports to non-Lebanese is false and baseless news.']],\n",
       " 'retrieved_evidence': [['https://twitter.com/LBpresidency',\n",
       "   '1555495801962614786',\n",
       "   'President Aoun received the Lebanese Ambassador to Canada, Ambassador Fadi Ziadeh, who briefed him on the conditions of the Lebanese community in Canada, Lebanese-Canadian relations, and ways to develop them in all fields. https://t.co/HwgRPhBS5F',\n",
       "   1,\n",
       "   0.12724926133909403],\n",
       "  ['https://twitter.com/LBpresidency',\n",
       "   '1555424541509386240',\n",
       "   '“The Information Office of the Presidency of the Republic: What was published by the French newspaper “Liberation” about the “selling” of Lebanese passports to non-Lebanese is false and baseless news.',\n",
       "   2,\n",
       "   0.10563739628645875],\n",
       "  ['https://twitter.com/LBpresidency',\n",
       "   '1555126458191855616',\n",
       "   'President Aoun received the Ambassador of Finland, Tarja Fernandes, on a farewell visit on the occasion of the end of her diplomatic duties in Lebanon. He thanked her for the efforts she made to strengthen and develop Lebanese-Finnish relations, and wished her success in her new duties. https://t.co/DVIbIMoD3g',\n",
       "   3,\n",
       "   0.1012537393270748],\n",
       "  ['https://twitter.com/LBpresidency',\n",
       "   '1554743913197477888',\n",
       "   'President Aoun received Miss Lebanon 2022, Yasmina Zeytoun, in the presence of Minister of Tourism Walid Nassar, and congratulated her on winning the title, wishing her success in her responsibilities, especially representing Lebanese beauty in the world, and the role of the young generation and Lebanese culture https://t.co/v1b8l7PL90',\n",
       "   4,\n",
       "   0.0996802346242105],\n",
       "  ['https://twitter.com/LBpresidency',\n",
       "   '1555495427004420096',\n",
       "   'The President of the Republic awarded the Papal Ambassador the National Order of the Cedar, with the rank of Grand Officer, wishing him success and success in his new mission: Lebanon always finds the Holy See by its side in happy circumstances as well as in the difficult circumstances it is going through, and this is a reason for gratitude and thanks from all the Lebanese https://t. co/y2Qg2JSqOQ',\n",
       "   5,\n",
       "   0.09783521228089762]]}"
      ]
     },
     "execution_count": 18,
     "metadata": {},
     "output_type": "execute_result"
    }
   ],
   "source": [
    "# individual\n",
    "\n",
    "import copy\n",
    "\n",
    "rumors_retrieved = []\n",
    "\n",
    "for rumor_dict in dev_jsons:\n",
    "    rumor = copy.deepcopy(rumor_dict) # copy explicitly so we don't mutate dev_jsons\n",
    "    rumor['retrieved_evidence'] = []\n",
    "\n",
    "    for author_account, authority_tweet_id, doc_text, rank, score in ranked_docs_by_id[rumor['id']]:\n",
    "        rumor['retrieved_evidence'] += [[author_account, authority_tweet_id, doc_text, rank, score]]\n",
    "\n",
    "    # new_dict.pop('timeline', None) # remove timeline dict key\n",
    "\n",
    "    rumors_retrieved += [rumor]\n",
    "\n",
    "rumors_retrieved[0]"
   ]
  },
  {
   "cell_type": "code",
   "execution_count": 27,
   "metadata": {},
   "outputs": [],
   "source": [
    "from typing import Tuple\n",
    "\n",
    "def factcheck_using_evidence(claim: str, evidence: Tuple[str, int, str, int, int]):\n",
    "    \"\"\"\n",
    "    Predict a judgement for a rumor using the retrieved evidence.\n",
    "\n",
    "    Parameters:\n",
    "        - rumor_dict (Dict): a Python Dict of a single rumor from the dataset, extended by the key 'rerieved_evidence'\n",
    "    \"\"\"\n",
    "    label_map = {\n",
    "        \"CONTRADICTION\": \"REFUTES\",\n",
    "        \"NEUTRAL\": \"NOT ENOUGH INFO\",\n",
    "        \"ENTAILMENT\": \"SUPPORTS\"\n",
    "    }\n",
    "    \n",
    "    predicted_evidence = []\n",
    "    scores = []\n",
    "\n",
    "    for author_account, tweet_id, evidence_text, rank, score in evidence:\n",
    "        res = check_statement_with_evidence(evidence_text, claim)\n",
    "        label = label_map[res[0]['label']]\n",
    "        score = res[0]['score']\n",
    "        # CLEF CheckThat! task 5: score is [-1, +1] where \n",
    "        #   -1 means evidence strongly refuted\n",
    "        #   +1 means evidence strongly supports\n",
    "        if label == \"REFUTES\":\n",
    "            score *= -1\n",
    "        elif label == \"NOT ENOUGH INFO\":\n",
    "            score = 0 # TODO uhmmm...\n",
    "\n",
    "        predicted_evidence += [[\n",
    "            author_account,\n",
    "            tweet_id,\n",
    "            evidence_text,\n",
    "            score,\n",
    "        ]]\n",
    "\n",
    "        scores += [score]\n",
    "\n",
    "    cumsum = sum(scores) / len(scores)\n",
    "    \n",
    "    if cumsum > 0.3:\n",
    "        pred_label = \"SUPPORTS\"\n",
    "    elif cumsum < -0.3:\n",
    "        pred_label = \"REFUTES\"\n",
    "    else:\n",
    "        pred_label = \"NOT ENOUGH INFO\"\n",
    "\n",
    "    return pred_label, predicted_evidence"
   ]
  },
  {
   "cell_type": "code",
   "execution_count": 28,
   "metadata": {},
   "outputs": [
    {
     "data": {
      "text/plain": [
       "('NOT ENOUGH INFO',\n",
       " [['https://twitter.com/LBpresidency',\n",
       "   '1555495801962614786',\n",
       "   'President Aoun received the Lebanese Ambassador to Canada, Ambassador Fadi Ziadeh, who briefed him on the conditions of the Lebanese community in Canada, Lebanese-Canadian relations, and ways to develop them in all fields. https://t.co/HwgRPhBS5F',\n",
       "   0],\n",
       "  ['https://twitter.com/LBpresidency',\n",
       "   '1555424541509386240',\n",
       "   '“The Information Office of the Presidency of the Republic: What was published by the French newspaper “Liberation” about the “selling” of Lebanese passports to non-Lebanese is false and baseless news.',\n",
       "   0],\n",
       "  ['https://twitter.com/LBpresidency',\n",
       "   '1555126458191855616',\n",
       "   'President Aoun received the Ambassador of Finland, Tarja Fernandes, on a farewell visit on the occasion of the end of her diplomatic duties in Lebanon. He thanked her for the efforts she made to strengthen and develop Lebanese-Finnish relations, and wished her success in her new duties. https://t.co/DVIbIMoD3g',\n",
       "   0],\n",
       "  ['https://twitter.com/LBpresidency',\n",
       "   '1554743913197477888',\n",
       "   'President Aoun received Miss Lebanon 2022, Yasmina Zeytoun, in the presence of Minister of Tourism Walid Nassar, and congratulated her on winning the title, wishing her success in her responsibilities, especially representing Lebanese beauty in the world, and the role of the young generation and Lebanese culture https://t.co/v1b8l7PL90',\n",
       "   0],\n",
       "  ['https://twitter.com/LBpresidency',\n",
       "   '1555495427004420096',\n",
       "   'The President of the Republic awarded the Papal Ambassador the National Order of the Cedar, with the rank of Grand Officer, wishing him success and success in his new mission: Lebanon always finds the Holy See by its side in happy circumstances as well as in the difficult circumstances it is going through, and this is a reason for gratitude and thanks from all the Lebanese https://t. co/y2Qg2JSqOQ',\n",
       "   0]])"
      ]
     },
     "execution_count": 28,
     "metadata": {},
     "output_type": "execute_result"
    }
   ],
   "source": [
    "factcheck_using_evidence(rumors_retrieved[0]['rumor'], rumors_retrieved[0]['retrieved_evidence'])"
   ]
  },
  {
   "cell_type": "code",
   "execution_count": 21,
   "metadata": {},
   "outputs": [
    {
     "name": "stderr",
     "output_type": "stream",
     "text": [
      "100%|██████████| 32/32 [02:45<00:00,  5.18s/it]\n"
     ]
    }
   ],
   "source": [
    "# individual\n",
    "from utils import write_jsonlines_from_dicts\n",
    "from tqdm import tqdm\n",
    "\n",
    "res_jsons = []\n",
    "\n",
    "for item in tqdm(rumors_retrieved):\n",
    "    rumor = item['rumor']\n",
    "    retrieved_evidence = item['retrieved_evidence']\n",
    "    if retrieved_evidence:\n",
    "        pred_label, pred_evidence = factcheck_using_evidence(rumor, retrieved_evidence)\n",
    "        res_json = {\n",
    "            \"id\": item['id'],\n",
    "            \"label\": item['label'],\n",
    "            \"claim\": item['rumor'],\n",
    "            \"predicted_label\": pred_label,\n",
    "            \"predicted_evidence\": pred_evidence,\n",
    "        }\n",
    "        res_jsons += [res_json]\n",
    "\n",
    "outfile_tfidf_ver = 'temp-data/zeroshot-ver-from-tfidf.jsonl'\n",
    "write_jsonlines_from_dicts(outfile_tfidf_ver, res_jsons)"
   ]
  },
  {
   "cell_type": "code",
   "execution_count": 35,
   "metadata": {},
   "outputs": [
    {
     "name": "stderr",
     "output_type": "stream",
     "text": [
      "100%|██████████| 32/32 [02:34<00:00,  4.83s/it]\n"
     ]
    }
   ],
   "source": [
    "from utils import write_jsonlines_from_dicts\n",
    "from tqdm import tqdm\n",
    "\n",
    "ranked_docs_by_id = {}\n",
    "rumors_retrieved = []\n",
    "res_jsons = []\n",
    "\n",
    "for rumor_dict in tqdm(dev_jsons):\n",
    "\n",
    "    # unpack the dict from the dataset\n",
    "    rumor_id = rumor_dict['id']\n",
    "    query = rumor_dict['rumor']\n",
    "    label = rumor_dict['label']\n",
    "    timeline = rumor_dict['timeline']\n",
    "    evidence = rumor_dict['evidence']\n",
    "    \n",
    "    ranked_docs = retrieve_using_tfidf(query, timeline, 5)\n",
    "\n",
    "    pred_label, pred_evidence = factcheck_using_evidence(query, ranked_docs)\n",
    "\n",
    "    res_json = {\n",
    "        \"id\": rumor_id,\n",
    "        \"label\": label,\n",
    "        \"claim\": query,\n",
    "        \"predicted_label\": pred_label,\n",
    "        \"predicted_evidence\": pred_evidence,\n",
    "    }\n",
    "    res_jsons += [res_json]\n",
    "\n",
    "outfile_tfidf_ver = 'temp-data/zeroshot-ver-from-tfidf.jsonl'\n",
    "write_jsonlines_from_dicts(outfile_tfidf_ver, res_jsons)"
   ]
  },
  {
   "cell_type": "code",
   "execution_count": 38,
   "metadata": {},
   "outputs": [
    {
     "name": "stdout",
     "output_type": "stream",
     "text": [
      "sample\n",
      "Macro_F1 0.5081585081585082\n",
      "Strict Macro_F1 0.5081585081585082\n",
      "nli\n",
      "Macro_F1 0.23214285714285718\n",
      "Strict Macro_F1 0.23214285714285718\n"
     ]
    }
   ],
   "source": [
    "from scoring_utils import eval_run\n",
    "\n",
    "task5_dir = '../clef2024-checkthat-lab/task5'\n",
    "\n",
    "sample_submission_file = task5_dir + '/submission_samples/KGAT_zeroShot_verification_English_dev.json'\n",
    "\n",
    "nli_submission_file = 'temp-data/zeroshot-ver-from-tfidf.jsonl'\n",
    "ground_truth_file = task5_dir + '/data/Arabic_dev.json'\n",
    "out_file = 'temp-data/out.csv'\n",
    "\n",
    "print('sample')\n",
    "eval_run(sample_submission_file,ground_truth_file, out_file)\n",
    "\n",
    "print('nli')\n",
    "eval_run(nli_submission_file,ground_truth_file, out_file)"
   ]
  },
  {
   "cell_type": "code",
   "execution_count": null,
   "metadata": {},
   "outputs": [],
   "source": []
  }
 ],
 "metadata": {
  "kernelspec": {
   "display_name": "clef",
   "language": "python",
   "name": "python3"
  },
  "language_info": {
   "codemirror_mode": {
    "name": "ipython",
    "version": 3
   },
   "file_extension": ".py",
   "mimetype": "text/x-python",
   "name": "python",
   "nbconvert_exporter": "python",
   "pygments_lexer": "ipython3",
   "version": "3.8.18"
  }
 },
 "nbformat": 4,
 "nbformat_minor": 2
}
