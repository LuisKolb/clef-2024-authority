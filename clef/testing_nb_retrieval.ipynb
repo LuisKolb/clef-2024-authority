{
 "cells": [
  {
   "cell_type": "markdown",
   "metadata": {},
   "source": [
    "## data loading and imports"
   ]
  },
  {
   "cell_type": "code",
   "execution_count": 1,
   "metadata": {},
   "outputs": [
    {
     "name": "stdout",
     "output_type": "stream",
     "text": [
      "loaded 96 training json lines and 32 dev json lines.\n"
     ]
    }
   ],
   "source": [
    "from clef.utils.data_loading import load_datasets\n",
    "from clef.utils.data_loading import write_trec_format_output\n",
    "from clef.retrieval.retrieve import retrieve_evidence\n",
    "\n",
    "train, dev = load_datasets(preprocess=True, add_author_info=True)\n",
    "\n",
    "out_dir = 'data-out/exp-add-author-info'\n",
    "\n",
    "# ensure out_dir directories exist for later\n",
    "import os\n",
    "if not os.path.exists(out_dir):\n",
    "    os.mkdir(out_dir)\n",
    "    if not os.path.exists(os.path.join(out_dir, 'eval')):\n",
    "        os.mkdir(os.path.join(out_dir, 'eval'))"
   ]
  },
  {
   "cell_type": "code",
   "execution_count": 2,
   "metadata": {},
   "outputs": [
    {
     "name": "stdout",
     "output_type": "stream",
     "text": [
      "{\n",
      "    \"id\": \"AuRED_144\",\n",
      "    \"rumor\": \"In the video The spread of unidentified gunmen east of the capital Baghdad\",\n",
      "    \"label\": \"REFUTES\",\n",
      "    \"timeline\": [\n",
      "        [\n",
      "            \"https://twitter.com/SecMedCell\",\n",
      "            \"1576233252595314688\",\n",
      "            \"Account: Security Media Cell\\nDescription: The official account of the security media cell affiliated to the Prime Minister's Office The Official Account of Security Media Cell\\nText: Your peaceful demonstration is a right guaranteed by the Constitution and protecting you - and public and private property - is our responsibility\"\n",
      "        ],\n",
      "        [\n",
      "            \"https://twitter.com/SecMedCell\",\n",
      "            \"1576233247523995648\",\n",
      "            \"Account: Security Media Cell\\nDescription: The official account of the security media cell affiliated to the Prime Minister's Office The Official Account of Security Media Cell\\nText: Molotov cocktails and other materials are used that pose a great danger to demonstrators associates and the demonstration form alike Accordingly the security forces return and appeal to the demonstrators about the importance of being very careful about the incendiary and dangerous materials and stones used by these infiltrators among the peaceful demonstrators\"\n",
      "        ],\n",
      "        [\n",
      "            \"https://twitter.com/SecMedCell\",\n",
      "            \"1576233244965494785\",\n",
      "            \"Account: Security Media Cell\\nDescription: The official account of the security media cell affiliated to the Prime Minister's Office The Official Account of Security Media Cell\\nText: The security services affirm their full protection for all forms of peaceful demonstration and the right of demonstrators to demonstrate in accordance with legal and constitutional limits The security services concerned with securing and protecting peaceful demonstrators take the utmost discipline in their work and have observed diagnosed and arrested a number of those infiltrating among the demonstrators\"\n",
      "        ],\n",
      "        [\n",
      "            \"https://twitter.com/SecMedCell\",\n",
      "            \"1576190432630841344\",\n",
      "            \"Account: Security Media Cell\\nDescription: The official account of the security media cell affiliated to the Prime Minister's Office The Official Account of Security Media Cell\\nText: It also warns against rushing towards security checkpoints staying away from them and staying in safe places May God protect Iraq and its people\"\n",
      "        ],\n",
      "        [\n",
      "            \"https://twitter.com/SecMedCell\",\n",
      "            \"1576190427786772485\",\n",
      "            \"Account: Security Media Cell\\nDescription: The official account of the security media cell affiliated to the Prime Minister's Office The Official Account of Security Media Cell\\nText: It poses a great danger to them and to people near their locations The security forces are calling on the demonstrators to be careful of the incendiary and dangerous materials and stones used by these infiltrators among the peaceful demonstrators\"\n",
      "        ],\n",
      "        [\n",
      "            \"https://twitter.com/SecMedCell\",\n",
      "            \"1576190425181757440\",\n",
      "            \"Account: Security Media Cell\\nDescription: The official account of the security media cell affiliated to the Prime Minister's Office The Official Account of Security Media Cell\\nText: Peaceful demonstrations are a legitimate right according to legal contexts as well as legitimate demands and the demonstrator must communicate his voice and demands to the concerned authorities in a peaceful manner only The security services noticed that there were outlaw elements among the demonstrators using Molotov cocktails and other materials\"\n",
      "        ],\n",
      "        [\n",
      "            \"https://twitter.com/SecMedCell\",\n",
      "            \"1576156057390309377\",\n",
      "            \"Account: Security Media Cell\\nDescription: The official account of the security media cell affiliated to the Prime Minister's Office The Official Account of Security Media Cell\\nText: Our security forces were also found in their possession of protective shields an invisibility mask and two sticks The necessary legal measures were taken against them to complete their investigation papers Here we renew our calls for the importance of maintaining peaceful demonstrations removing infiltrators and fully cooperating with the security services to arrest them\"\n",
      "        ],\n",
      "        [\n",
      "            \"https://twitter.com/SecMedCell\",\n",
      "            \"1576156052562681856\",\n",
      "            \"Account: Security Media Cell\\nDescription: The official account of the security media cell affiliated to the Prime Minister's Office The Official Account of Security Media Cell\\nText: The competent security services continue to provide protection for peaceful demonstrators and take the utmost discipline in their work but some infiltrators are trying to attack the security forces Where the competent security services were able to arrest two defendants in possession of glass balls and tools for throwing these balls\"\n",
      "        ],\n",
      "        [\n",
      "            \"https://twitter.com/SecMedCell\",\n",
      "            \"1576141134879158272\",\n",
      "            \"Account: Security Media Cell\\nDescription: The official account of the security media cell affiliated to the Prime Minister's Office The Official Account of Security Media Cell\\nText: The daily security brief of the Security Media Cell\"\n",
      "        ],\n",
      "        [\n",
      "            \"https://twitter.com/SecMedCell\",\n",
      "            \"1576137274990858240\",\n",
      "            \"Account: Security Media Cell\\nDescription: The official account of the security media cell affiliated to the Prime Minister's Office The Official Account of Security Media Cell\\nText: Civil defense teams were able to rescue 13 citizens after the collapse of a 4-storey building in Al-Wathiq Square on Salman Faiq Street in the capital Baghdad and civil defense teams are still continuing the search and rescue operation We will provide you with the details later\"\n",
      "        ],\n",
      "        [\n",
      "            \"https://twitter.com/SecMedCell\",\n",
      "            \"1576132460647419909\",\n",
      "            \"Account: Security Media Cell\\nDescription: The official account of the security media cell affiliated to the Prime Minister's Office The Official Account of Security Media Cell\\nText: Because this attack is a violation of the peaceful demonstrations We call on the organizers of this demonstration to immediately hand over those infiltrators within their ranks to the security services preserve the demonstration and prevent abuse\"\n",
      "        ],\n",
      "        [\n",
      "            \"https://twitter.com/SecMedCell\",\n",
      "            \"1576132457803710464\",\n",
      "            \"Account: Security Media Cell\\nDescription: The official account of the security media cell affiliated to the Prime Minister's Office The Official Account of Security Media Cell\\nText: Our security forces continue to work with a high level of professionalism in dealing with demonstrators in the capital Baghdad without carrying weapons or using any type of force against them While the security services observed that elements infiltrating among the demonstrators used Molotov cocktails and hunting rifles and attacked our security forces assigned to this duty\"\n",
      "        ],\n",
      "        [\n",
      "            \"https://twitter.com/SecMedCell\",\n",
      "            \"1575937580331253761\",\n",
      "            \"Account: Security Media Cell\\nDescription: The official account of the security media cell affiliated to the Prime Minister's Office The Official Account of Security Media Cell\\nText: We also call on everyone to be accurate in conveying information and not to spread malicious rumours May God protect Iraq and its people\"\n",
      "        ],\n",
      "        [\n",
      "            \"https://twitter.com/SecMedCell\",\n",
      "            \"1575937576061501450\",\n",
      "            \"Account: Security Media Cell\\nDescription: The official account of the security media cell affiliated to the Prime Minister's Office The Official Account of Security Media Cell\\nText: The security forces of all types and formations are the ones who hold the reins in all governorates of the country and there is no truth to what some social media sites have reported about the spread of unknown gunmen in various areas As there are strict orders that stress the prohibition of carrying weapons or forming armed groups outside the framework of the state\"\n",
      "        ],\n",
      "        [\n",
      "            \"https://twitter.com/SecMedCell\",\n",
      "            \"1575937573671030784\",\n",
      "            \"Account: Security Media Cell\\nDescription: The official account of the security media cell affiliated to the Prime Minister's Office The Official Account of Security Media Cell\\nText: The competent security services have proven that they have the initiative in various regions of the country and seek to enhance security and stability and implement the tasks and duties assigned to them in accordance with the law and the powers granted to them and are capable of enforcing the authority of the law\"\n",
      "        ],\n",
      "        [\n",
      "            \"https://twitter.com/SecMedCell\",\n",
      "            \"1575937184619642881\",\n",
      "            \"Account: Security Media Cell\\nDescription: The official account of the security media cell affiliated to the Prime Minister's Office The Official Account of Security Media Cell\\nText: Military Intelligence arrests two defendants and a drug dealer in Anbar and Nineveh\"\n",
      "        ],\n",
      "        [\n",
      "            \"https://twitter.com/SecMedCell\",\n",
      "            \"1575936883963592708\",\n",
      "            \"Account: Security Media Cell\\nDescription: The official account of the security media cell affiliated to the Prime Minister's Office The Official Account of Security Media Cell\\nText: Statement\"\n",
      "        ],\n",
      "        [\n",
      "            \"https://twitter.com/SecMedCell\",\n",
      "            \"1575753115743277057\",\n",
      "            \"Account: Security Media Cell\\nDescription: The official account of the security media cell affiliated to the Prime Minister's Office The Official Account of Security Media Cell\\nText: The daily security brief of the Security Media Cell\"\n",
      "        ],\n",
      "        [\n",
      "            \"https://twitter.com/SecMedCell\",\n",
      "            \"1575539201088622593\",\n",
      "            \"Account: Security Media Cell\\nDescription: The official account of the security media cell affiliated to the Prime Minister's Office The Official Account of Security Media Cell\\nText: Continuous strikes by our valiant security forces have confounded ISIS terrorist gangs in the havens that they thought were far from the eyes of the competent security services Victory knows its men\"\n",
      "        ],\n",
      "        [\n",
      "            \"https://twitter.com/SecMedCell\",\n",
      "            \"1575539195589939200\",\n",
      "            \"Account: Security Media Cell\\nDescription: The official account of the security media cell affiliated to the Prime Minister's Office The Official Account of Security Media Cell\\nText: Inside it were two members of ISIS terrorist gangs and the den was reduced to rubble by air force spare parts Meanwhile a joint force from the Western Nineveh Operations Command and the Popular Mobilization Forces began searching the targeted place and we will provide you with the details later\"\n",
      "        ],\n",
      "        [\n",
      "            \"https://twitter.com/SecMedCell\",\n",
      "            \"1575539189441040402\",\n",
      "            \"Account: Security Media Cell\\nDescription: The official account of the security media cell affiliated to the Prime Minister's Office The Official Account of Security Media Cell\\nText: In a qualitative operation based on accurate information from heroes in the National Intelligence Service in coordination with the targeting cell of the Joint Operations Command the brave men in the Air Force carried out using F_16 aircraft two air strikes during which they targeted a terrorist nest within the Western Nineveh Operations Command sector t co Wd5686ZIhE\"\n",
      "        ],\n",
      "        [\n",
      "            \"https://twitter.com/SecMedCell\",\n",
      "            \"1575491776244113410\",\n",
      "            \"Account: Security Media Cell\\nDescription: The official account of the security media cell affiliated to the Prime Minister's Office The Official Account of Security Media Cell\\nText: We will provide you with the details later The Intelligence Agency has pledged itself to be the cutting sword for anyone who dares to tamper with security in an Iraq of civilizations and values \\u200b\\u200bwhose men only know the language of victory\"\n",
      "        ],\n",
      "        [\n",
      "            \"https://twitter.com/SecMedCell\",\n",
      "            \"1575491771714260998\",\n",
      "            \"Account: Security Media Cell\\nDescription: The official account of the security media cell affiliated to the Prime Minister's Office The Official Account of Security Media Cell\\nText: Above the rotten heads of terrorist gangs For its part a joint force from the Intelligence Agency and the Nineveh Regiment of the Second Special Operations Command of the Counter-Terrorism Service began searching the targeted location where they destroyed two explosive devices that were planted on farms on the road to the terrorists den and the operation is still continuing\"\n",
      "        ],\n",
      "        [\n",
      "            \"https://twitter.com/SecMedCell\",\n",
      "            \"1575491766383362048\",\n",
      "            \"Account: Security Media Cell\\nDescription: The official account of the security media cell affiliated to the Prime Minister's Office The Official Account of Security Media Cell\\nText: And the targeting cell of the Joint Operations Command as the brave people in the Air Force aviation were provided with confirmed information about the presence of 4 terrorist targets in which this criminal detachment is located In turn this information was translated into precise strikes by Iraqi F-16 aircraft which turned these dens into rubble\"\n",
      "        ],\n",
      "        [\n",
      "            \"https://twitter.com/SecMedCell\",\n",
      "            \"1575491763795415041\",\n",
      "            \"Account: Security Media Cell\\nDescription: The official account of the security media cell affiliated to the Prime Minister's Office The Official Account of Security Media Cell\\nText: A major intelligence effort was carried out by the Federal Intelligence and Investigation Agency in the Ministry of Interior after it was able to monitor a detachment of members of ISIS terrorist gangs in the heights of Mount Badush within the Nineveh sector including the commander of the detachment the criminal named Dhiyab where the monitoring and follow-up process was carried out in coordination with the Counter-Terrorism Service\"\n",
      "        ],\n",
      "        [\n",
      "            \"https://twitter.com/SecMedCell\",\n",
      "            \"1575490274427478017\",\n",
      "            \"Account: Security Media Cell\\nDescription: The official account of the security media cell affiliated to the Prime Minister's Office The Official Account of Security Media Cell\\nText: The defendants' statements were duly recorded and they were referred to the competent judicial authorities to receive their just punishment\"\n",
      "        ],\n",
      "        [\n",
      "            \"https://twitter.com/SecMedCell\",\n",
      "            \"1575490264419794946\",\n",
      "            \"Account: Security Media Cell\\nDescription: The official account of the security media cell affiliated to the Prime Minister's Office The Official Account of Security Media Cell\\nText: Against the security forces in the governorates (Diyala Salah al-Din and Kirkuk) and in a related context the National Security detachments in Nineveh Governorate with an intelligence effort were able to overthrow (5) terrorists from ISIS terrorist elements in various areas of Nineveh Governorate including a prominent leader working in training terrorist elements\"\n",
      "        ],\n",
      "        [\n",
      "            \"https://twitter.com/SecMedCell\",\n",
      "            \"1575490247554523136\",\n",
      "            \"Account: Security Media Cell\\nDescription: The official account of the security media cell affiliated to the Prime Minister's Office The Official Account of Security Media Cell\\nText: Based on accurate intelligence information detachments of the National Security Service in Kirkuk were able to carry out a qualitative surprise operation in various areas of the governorate which resulted in the arrest of (7) terrorists belonging to ISIS gangs against whom arrest warrants had been issued in accordance with the provisions of Article (4 Terrorism) for carrying out attacks Terrorism\"\n",
      "        ],\n",
      "        [\n",
      "            \"https://twitter.com/SecMedCell\",\n",
      "            \"1575408154074140673\",\n",
      "            \"Account: Security Media Cell\\nDescription: The official account of the security media cell affiliated to the Prime Minister's Office The Official Account of Security Media Cell\\nText: The daily security brief of the Security Media Cell\"\n",
      "        ],\n",
      "        [\n",
      "            \"https://twitter.com/SecMedCell\",\n",
      "            \"1575395475376771074\",\n",
      "            \"Account: Security Media Cell\\nDescription: The official account of the security media cell affiliated to the Prime Minister's Office The Official Account of Security Media Cell\\nText: Baghdad Operations: Joint detachments arrest wanted persons including those accused of promoting and using narcotic substances and possessing unlicensed weapons\"\n",
      "        ],\n",
      "        [\n",
      "            \"https://twitter.com/SecMedCell\",\n",
      "            \"1575395112514981889\",\n",
      "            \"Account: Security Media Cell\\nDescription: The official account of the security media cell affiliated to the Prime Minister's Office The Official Account of Security Media Cell\\nText: The Maysan Operations Command continues its proactive operation to enhance security and stability and seize unlicensed weapons throughout the governorate districts and districts as a special force from the Maysan Operations Command seized a large accumulation of unlicensed weapons and equipment in the Tabar area south of the city of Amara\"\n",
      "        ],\n",
      "        [\n",
      "            \"https://twitter.com/SecMedCell\",\n",
      "            \"1575169362830708737\",\n",
      "            \"Account: Security Media Cell\\nDescription: The official account of the security media cell affiliated to the Prime Minister's Office The Official Account of Security Media Cell\\nText: We call on everyone to adhere to the directives issued by the competent security services since these injuries occurred on the bodies of Iraqis who are the sons of one country May God protect Iraq and its people\"\n",
      "        ],\n",
      "        [\n",
      "            \"https://twitter.com/SecMedCell\",\n",
      "            \"1575169360397996032\",\n",
      "            \"Account: Security Media Cell\\nDescription: The official account of the security media cell affiliated to the Prime Minister's Office The Official Account of Security Media Cell\\nText: As a result of the unfortunate actions and friction that occurred today Wednesday in the capital Baghdad between the demonstrators and the security forces the number of those injured was unfortunately 4 officers and 118 members while 11 civilians were also injured\"\n",
      "        ],\n",
      "        [\n",
      "            \"https://twitter.com/SecMedCell\",\n",
      "            \"1575114706842517504\",\n",
      "            \"Account: Security Media Cell\\nDescription: The official account of the security media cell affiliated to the Prime Minister's Office The Official Account of Security Media Cell\\nText: Following the news of the bombing of the Green Zone in Baghdad which occurred at 1530 today Wednesday where the number of people injured by this bombing from the security forces rose to 7 with varying injuries\"\n",
      "        ],\n",
      "        [\n",
      "            \"https://twitter.com/SecMedCell\",\n",
      "            \"1575111594375200768\",\n",
      "            \"Account: Security Media Cell\\nDescription: The official account of the security media cell affiliated to the Prime Minister's Office The Official Account of Security Media Cell\\nText: At 1530 hours the Green Zone in Baghdad was bombarded with 3 shells the first fell in front of the Iraqi Parliament building and the other near the guest house The third shell fell near the Jerusalem control wounding an officer and 3 ranks with various injuries and damaging a number of wheels and one of the buildings\"\n",
      "        ],\n",
      "        [\n",
      "            \"https://twitter.com/SecMedCell\",\n",
      "            \"1575019437148602369\",\n",
      "            \"Account: Security Media Cell\\nDescription: The official account of the security media cell affiliated to the Prime Minister's Office The Official Account of Security Media Cell\\nText: The daily security brief of the Security Media Cell\"\n",
      "        ],\n",
      "        [\n",
      "            \"https://twitter.com/SecMedCell\",\n",
      "            \"1574745361196924928\",\n",
      "            \"Account: Security Media Cell\\nDescription: The official account of the security media cell affiliated to the Prime Minister's Office The Official Account of Security Media Cell\\nText: Military Intelligence arrests an ISIS member and seizes a stack of explosive devices in Anbar Nineveh and its west\"\n",
      "        ],\n",
      "        [\n",
      "            \"https://twitter.com/SecMedCell\",\n",
      "            \"1574705237184724993\",\n",
      "            \"Account: Security Media Cell\\nDescription: The official account of the security media cell affiliated to the Prime Minister's Office The Official Account of Security Media Cell\\nText: While the force assigned to the duty succeeded in destroying 3 dens of these criminals and 4 motorcycles in addition to seizing phones a SIM card 400 BKC magazines and rifle magazines\"\n",
      "        ],\n",
      "        [\n",
      "            \"https://twitter.com/SecMedCell\",\n",
      "            \"1574705233187332097\",\n",
      "            \"Account: Security Media Cell\\nDescription: The official account of the security media cell affiliated to the Prime Minister's Office The Official Account of Security Media Cell\\nText: I was subjected to heavy fire with light and medium weapons and grenades The Rapid Response Security Force responded to the sources of the fire and began chasing members of this gang despite the complex geographical nature of the area The search for them is still ongoing\"\n",
      "        ],\n",
      "        [\n",
      "            \"https://twitter.com/SecMedCell\",\n",
      "            \"1574705230838583297\",\n",
      "            \"Account: Security Media Cell\\nDescription: The official account of the security media cell affiliated to the Prime Minister's Office The Official Account of Security Media Cell\\nText: In implementation of judicial orders a force from the Second Regiment in the Second Brigade of the Rapid Response Division in the Ministry of Interior supported by the intelligence effort carried out a raid to arrest a criminal gang in the area of \\u200b\\u200bBasateen Al-Awashik village in the Abu Saida district of Diyala Governorate and when the force arrived at the gangs location\"\n",
      "        ],\n",
      "        [\n",
      "            \"https://twitter.com/SecMedCell\",\n",
      "            \"1574704746358661121\",\n",
      "            \"Account: Security Media Cell\\nDescription: The official account of the security media cell affiliated to the Prime Minister's Office The Official Account of Security Media Cell\\nText: In Muthanna our detachments caught a person red-handed preparing electronic fraud tools All violators were brought to the investigative authorities to take legal action against them\"\n",
      "        ],\n",
      "        [\n",
      "            \"https://twitter.com/SecMedCell\",\n",
      "            \"1574704741426364418\",\n",
      "            \"Account: Security Media Cell\\nDescription: The official account of the security media cell affiliated to the Prime Minister's Office The Official Account of Security Media Cell\\nText: These detachments were able to control (7) electronic fraud operations in Anbar Governorate including a person taking the exam instead of one of the completing students In Babil Governorate (5) similar fraud operations were detected Meanwhile the police officers caught a student using a cheating method while taking the exam in Diyala\"\n",
      "        ],\n",
      "        [\n",
      "            \"https://twitter.com/SecMedCell\",\n",
      "            \"1574704737450348544\",\n",
      "            \"Account: Security Media Cell\\nDescription: The official account of the security media cell affiliated to the Prime Minister's Office The Official Account of Security Media Cell\\nText: Based on the effective directives to follow up on examination centers to prevent cases of cheating the National Security Service detachments in conjunction with the start of the second round exams for the sixth grade of middle school carried out their field duties to monitor and follow up on examination centers throughout all governorates of Iraq\"\n",
      "        ],\n",
      "        [\n",
      "            \"https://twitter.com/SecMedCell\",\n",
      "            \"1574697757662744576\",\n",
      "            \"Account: Security Media Cell\\nDescription: The official account of the security media cell affiliated to the Prime Minister's Office The Official Account of Security Media Cell\\nText: Baghdad Operations: Joint detachments arrest a number of judicial suspects including those accused of promoting and using narcotic substances and possessing weapons\"\n",
      "        ],\n",
      "        [\n",
      "            \"https://twitter.com/SecMedCell\",\n",
      "            \"1574648661707223040\",\n",
      "            \"Account: Security Media Cell\\nDescription: The official account of the security media cell affiliated to the Prime Minister's Office The Official Account of Security Media Cell\\nText: Military Intelligence arrests a terrorist and two drug dealers and seizes a pile of equipment in Anbar\"\n",
      "        ],\n",
      "        [\n",
      "            \"https://twitter.com/SecMedCell\",\n",
      "            \"1574628242421678081\",\n",
      "            \"Account: Security Media Cell\\nDescription: The official account of the security media cell affiliated to the Prime Minister's Office The Official Account of Security Media Cell\\nText: The daily security brief of the Security Media Cell\"\n",
      "        ],\n",
      "        [\n",
      "            \"https://twitter.com/SecMedCell\",\n",
      "            \"1574290819124715521\",\n",
      "            \"Account: Security Media Cell\\nDescription: The official account of the security media cell affiliated to the Prime Minister's Office The Official Account of Security Media Cell\\nText: Based on accurate intelligence information from the Intelligence and Security Division of the controlling headquarters of the Tuz Khurmatu Operations Command and in direct coordination with the Tuz Khurmatu Intelligence and Counter-Terrorism Department a terrorist was arrested in the southern control of the entrance to the district in accordance with the provisions of Article 4 of terrorism and he was handed over to the requested party\"\n",
      "        ],\n",
      "        [\n",
      "            \"https://twitter.com/SecMedCell\",\n",
      "            \"1574271139660140544\",\n",
      "            \"Account: Security Media Cell\\nDescription: The official account of the security media cell affiliated to the Prime Minister's Office The Official Account of Security Media Cell\\nText: The daily security brief of the Security Media Cell\"\n",
      "        ],\n",
      "        [\n",
      "            \"https://twitter.com/SecMedCell\",\n",
      "            \"1574036724975816704\",\n",
      "            \"Account: Security Media Cell\\nDescription: The official account of the security media cell affiliated to the Prime Minister's Office The Official Account of Security Media Cell\\nText: At the same time a security force went out to search the targeted place and we will provide you with the details later The intersection of accurate intelligence information achieved the goals set by security leaders\"\n",
      "        ],\n",
      "        [\n",
      "            \"https://twitter.com/SecMedCell\",\n",
      "            \"1574036721406480390\",\n",
      "            \"Account: Security Media Cell\\nDescription: The official account of the security media cell affiliated to the Prime Minister's Office The Official Account of Security Media Cell\\nText: Inside a den near Lake Hamrin in the Naryn area within the Diyala Operations Command sector The heroic Iraqi Air Force aircraft were provided with this information which in turn carried out two air strikes using F-16 aircraft on this den with these terrorist elements inside\"\n",
      "        ],\n",
      "        [\n",
      "            \"https://twitter.com/SecMedCell\",\n",
      "            \"1574036718998593536\",\n",
      "            \"Account: Security Media Cell\\nDescription: The official account of the security media cell affiliated to the Prime Minister's Office The Official Account of Security Media Cell\\nText: Continuing to implement targeted plans by the security sectors in the various sectors of responsibility its impact has become clear as the Military Intelligence Directorate in coordination with the targeting cell of the Joint Operations Command continued to monitor the movements of ISIS terrorist gang members as it was able to monitor two ISIS members\"\n",
      "        ],\n",
      "        [\n",
      "            \"https://twitter.com/SecMedCell\",\n",
      "            \"1573934031317700608\",\n",
      "            \"Account: Security Media Cell\\nDescription: The official account of the security media cell affiliated to the Prime Minister's Office The Official Account of Security Media Cell\\nText: The daily security brief of the Security Media Cell\"\n",
      "        ]\n",
      "    ],\n",
      "    \"evidence\": [\n",
      "        [\n",
      "            \"https://twitter.com/SecMedCell\",\n",
      "            \"1575937576061501450\",\n",
      "            \"The security forces of all types and formations are the ones who hold the reins in all governorates of the country and there is no truth to what some social media sites have reported about the spread of unknown gunmen in various areas As there are strict orders that stress the prohibition of carrying weapons or forming armed groups outside the framework of the state\"\n",
      "        ]\n",
      "    ]\n",
      "}\n"
     ]
    }
   ],
   "source": [
    "import json\n",
    "\n",
    "print(json.dumps(dev[1], indent=4))"
   ]
  },
  {
   "cell_type": "markdown",
   "metadata": {},
   "source": [
    "## pyserini"
   ]
  },
  {
   "cell_type": "code",
   "execution_count": 3,
   "metadata": {},
   "outputs": [
    {
     "data": {
      "application/vnd.jupyter.widget-view+json": {
       "model_id": "223a64bb5b91446e8e0f14568fd465af",
       "version_major": 2,
       "version_minor": 0
      },
      "text/plain": [
       "  0%|          | 0/32 [00:00<?, ?it/s]"
      ]
     },
     "metadata": {},
     "output_type": "display_data"
    },
    {
     "name": "stdout",
     "output_type": "stream",
     "text": [
      "wrote 156 lines to data-out/exp-add-author-info/LUCENE-dev.trec.txt\n"
     ]
    }
   ],
   "source": [
    "method = 'LUCENE'\n",
    "data = retrieve_evidence(dev, method, kwargs={})\n",
    "write_trec_format_output(f'{out_dir}/{method}-dev.trec.txt', data, method)"
   ]
  },
  {
   "cell_type": "code",
   "execution_count": 4,
   "metadata": {},
   "outputs": [],
   "source": [
    "# method = 'LUCENE'\n",
    "# data = retrieve_evidence(train, method, kwargs={})\n",
    "# write_trec_format_output(f'{out_dir}/{method}-train.trec.txt', data, method)"
   ]
  },
  {
   "cell_type": "markdown",
   "metadata": {},
   "source": [
    "## naive tfidf"
   ]
  },
  {
   "cell_type": "code",
   "execution_count": 4,
   "metadata": {},
   "outputs": [
    {
     "data": {
      "application/vnd.jupyter.widget-view+json": {
       "model_id": "e2fdb2db07b840b7b8ab73023fffbe21",
       "version_major": 2,
       "version_minor": 0
      },
      "text/plain": [
       "  0%|          | 0/32 [00:00<?, ?it/s]"
      ]
     },
     "metadata": {},
     "output_type": "display_data"
    },
    {
     "name": "stdout",
     "output_type": "stream",
     "text": [
      "wrote 160 lines to data-out/exp-add-author-info/TFIDF-dev.trec.txt\n"
     ]
    }
   ],
   "source": [
    "method = 'TFIDF'\n",
    "data = retrieve_evidence(dev, method, kwargs={})\n",
    "write_trec_format_output(f'{out_dir}/{method}-dev.trec.txt', data, method)"
   ]
  },
  {
   "cell_type": "markdown",
   "metadata": {},
   "source": [
    "## sentence_transformers"
   ]
  },
  {
   "cell_type": "code",
   "execution_count": 5,
   "metadata": {},
   "outputs": [
    {
     "data": {
      "application/vnd.jupyter.widget-view+json": {
       "model_id": "6a8e2708e8d94841866404c02e09562a",
       "version_major": 2,
       "version_minor": 0
      },
      "text/plain": [
       "  0%|          | 0/32 [00:00<?, ?it/s]"
      ]
     },
     "metadata": {},
     "output_type": "display_data"
    },
    {
     "name": "stdout",
     "output_type": "stream",
     "text": [
      "wrote 160 lines to data-out/exp-add-author-info/SBERT-dev.trec.txt\n"
     ]
    }
   ],
   "source": [
    "method = 'SBERT'\n",
    "data = retrieve_evidence(dev, method, kwargs={})\n",
    "write_trec_format_output(f'{out_dir}/{method}-dev.trec.txt', data, method)"
   ]
  },
  {
   "cell_type": "code",
   "execution_count": 6,
   "metadata": {},
   "outputs": [],
   "source": [
    "# method = 'SBERT'\n",
    "# data = retrieve_evidence(train, method, kwargs={})\n",
    "# write_trec_format_output(f'{out_dir}/{method}-train.trec.txt', data, method)"
   ]
  },
  {
   "cell_type": "markdown",
   "metadata": {},
   "source": [
    "## openai embeddings"
   ]
  },
  {
   "cell_type": "code",
   "execution_count": 7,
   "metadata": {},
   "outputs": [
    {
     "data": {
      "application/vnd.jupyter.widget-view+json": {
       "model_id": "994c78e400ea404b9bd25afb45d12df7",
       "version_major": 2,
       "version_minor": 0
      },
      "text/plain": [
       "  0%|          | 0/32 [00:00<?, ?it/s]"
      ]
     },
     "metadata": {},
     "output_type": "display_data"
    },
    {
     "name": "stdout",
     "output_type": "stream",
     "text": [
      "wrote 160 lines to data-out/exp-add-author-info/OPENAI-dev.trec.txt\n"
     ]
    }
   ],
   "source": [
    "method = 'OPENAI'\n",
    "data = retrieve_evidence(dev, method, kwargs={})\n",
    "write_trec_format_output(f'{out_dir}/{method}-dev.trec.txt', data, method)"
   ]
  },
  {
   "cell_type": "markdown",
   "metadata": {},
   "source": [
    "## terrier"
   ]
  },
  {
   "cell_type": "code",
   "execution_count": 2,
   "metadata": {},
   "outputs": [],
   "source": [
    "import pandas as pd\n",
    "\n",
    "def jsons_to_pandas(jsons):\n",
    "    data = []\n",
    "    for entry in jsons:\n",
    "        rumor_id = entry['id']\n",
    "        query = entry['rumor']\n",
    "        timeline = entry['timeline']\n",
    "\n",
    "        for author, tw_id, tw in timeline:\n",
    "            data += [\n",
    "                [rumor_id, \"\".join([x if x.isalnum() else \" \" for x in query]), tw_id, tw]\n",
    "            ]\n",
    "\n",
    "    df = pd.DataFrame(data,\n",
    "                      columns=[\"qid\", \"query\", \"docno\", \"text\"],)\n",
    "    return df\n",
    "\n",
    "df = jsons_to_pandas(dev)"
   ]
  },
  {
   "cell_type": "code",
   "execution_count": 3,
   "metadata": {},
   "outputs": [
    {
     "name": "stderr",
     "output_type": "stream",
     "text": [
      "PyTerrier 0.10.0 has loaded Terrier 5.8 (built by craigm on 2023-11-01 18:05) and terrier-helper 0.0.8\n",
      "\n"
     ]
    }
   ],
   "source": [
    "import pyterrier as pt\n",
    "\n",
    "if not pt.started():\n",
    "    pt.init()"
   ]
  },
  {
   "cell_type": "markdown",
   "metadata": {},
   "source": [
    "qe off"
   ]
  },
  {
   "cell_type": "code",
   "execution_count": 4,
   "metadata": {},
   "outputs": [
    {
     "name": "stdout",
     "output_type": "stream",
     "text": [
      "03:44:52.474 [main] WARN org.terrier.querying.ApplyTermPipeline - The index has no termpipelines configuration, and no control configuration is found. Defaulting to global termpipelines configuration of 'Stopwords,PorterStemmer'. Set a termpipelines control to remove this warning.\n"
     ]
    },
    {
     "data": {
      "text/plain": [
       "{'P@5': 0.2947368421052632,\n",
       " 'R@5': 0.7210526315789473,\n",
       " 'AP': 0.6948830409356725}"
      ]
     },
     "execution_count": 4,
     "metadata": {},
     "output_type": "execute_result"
    }
   ],
   "source": [
    "import pyterrier.io as ptio\n",
    "import pyterrier.pipelines as ptpipelines\n",
    "from ir_measures import P, R, MAP\n",
    "\n",
    "from pyterrier.batchretrieve import TextScorer\n",
    "\n",
    "wmodel = 'BM25'\n",
    "\n",
    "textscorer = TextScorer(takes=\"docs\",\n",
    "                        returns=\"queries\",\n",
    "                        body_attr=\"text\",\n",
    "                        wmodel=wmodel,\n",
    "                        controls={\"qe\":\"off\"})\n",
    "\n",
    "rtr = textscorer.transform(df)\n",
    "\n",
    "method = 'TERRIER'\n",
    "tag = wmodel\n",
    "fn = f'{out_dir}/{method}-{wmodel}-dev.trec.txt'\n",
    "\n",
    "ptio._write_results_trec(rtr.query('rank < 5'), fn, run_name=wmodel)\n",
    "d = ptio._read_results_trec(fn)\n",
    "\n",
    "\n",
    "task5_dir = '../clef2024-checkthat-lab/task5'\n",
    "golden_labels_file = task5_dir + '/data/dev_qrels.txt'\n",
    "\n",
    "golden = ptio.read_qrels(golden_labels_file)\n",
    "eval= ptpipelines.Evaluate(d, golden , metrics = [P@5, R@5, MAP],perquery=False)\n",
    "eval"
   ]
  },
  {
   "cell_type": "code",
   "execution_count": 5,
   "metadata": {},
   "outputs": [
    {
     "name": "stdout",
     "output_type": "stream",
     "text": [
      "03:44:55.019 [main] WARN org.terrier.querying.ApplyTermPipeline - The index has no termpipelines configuration, and no control configuration is found. Defaulting to global termpipelines configuration of 'Stopwords,PorterStemmer'. Set a termpipelines control to remove this warning.\n"
     ]
    },
    {
     "data": {
      "text/plain": [
       "{'P@5': 0.2947368421052632,\n",
       " 'R@5': 0.7210526315789473,\n",
       " 'AP': 0.6654970760233919}"
      ]
     },
     "execution_count": 5,
     "metadata": {},
     "output_type": "execute_result"
    }
   ],
   "source": [
    "import pyterrier.io as ptio\n",
    "import pyterrier.pipelines as ptpipelines\n",
    "from ir_measures import P, R, MAP\n",
    "\n",
    "from pyterrier.batchretrieve import TextScorer\n",
    "\n",
    "wmodel = 'DPH'\n",
    "\n",
    "textscorer = TextScorer(takes=\"docs\",\n",
    "                        returns=\"queries\",\n",
    "                        body_attr=\"text\",\n",
    "                        wmodel=wmodel,\n",
    "                        controls={\"qe\":\"off\"})\n",
    "\n",
    "rtr = textscorer.transform(df)\n",
    "\n",
    "method = 'TERRIER'\n",
    "tag = wmodel\n",
    "fn = f'{out_dir}/{method}-{wmodel}-dev.trec.txt'\n",
    "\n",
    "ptio._write_results_trec(rtr.query('rank < 5'), fn, run_name=wmodel)\n",
    "d = ptio._read_results_trec(fn)\n",
    "\n",
    "\n",
    "task5_dir = '../clef2024-checkthat-lab/task5'\n",
    "golden_labels_file = task5_dir + '/data/dev_qrels.txt'\n",
    "\n",
    "golden = ptio.read_qrels(golden_labels_file)\n",
    "eval= ptpipelines.Evaluate(d, golden , metrics = [P@5, R@5, MAP],perquery=False)\n",
    "eval"
   ]
  },
  {
   "cell_type": "markdown",
   "metadata": {},
   "source": [
    "qe on"
   ]
  },
  {
   "cell_type": "code",
   "execution_count": 6,
   "metadata": {},
   "outputs": [
    {
     "name": "stdout",
     "output_type": "stream",
     "text": [
      "03:44:57.307 [main] WARN org.terrier.querying.ApplyTermPipeline - The index has no termpipelines configuration, and no control configuration is found. Defaulting to global termpipelines configuration of 'Stopwords,PorterStemmer'. Set a termpipelines control to remove this warning.\n",
      "03:44:57.312 [main] WARN org.terrier.querying.QueryExpansion - qemodel control not set for QueryExpansion post process. Using default model Bo1\n"
     ]
    },
    {
     "data": {
      "text/plain": [
       "{'P@5': 0.28421052631578947,\n",
       " 'R@5': 0.712280701754386,\n",
       " 'AP': 0.6883040935672514}"
      ]
     },
     "execution_count": 6,
     "metadata": {},
     "output_type": "execute_result"
    }
   ],
   "source": [
    "import pyterrier.io as ptio\n",
    "import pyterrier.pipelines as ptpipelines\n",
    "from ir_measures import P, R, MAP\n",
    "\n",
    "from pyterrier.batchretrieve import TextScorer\n",
    "\n",
    "wmodel = 'BM25'\n",
    "\n",
    "textscorer = TextScorer(takes=\"docs\",\n",
    "                        returns=\"queries\",\n",
    "                        body_attr=\"text\",\n",
    "                        wmodel=wmodel,\n",
    "                        controls={\"qe\":\"on\"})\n",
    "\n",
    "rtr = textscorer.transform(df)\n",
    "\n",
    "method = 'TERRIER'\n",
    "tag = wmodel\n",
    "fn = f'{out_dir}/{method}-{wmodel}-qe-dev.trec.txt'\n",
    "\n",
    "ptio._write_results_trec(rtr.query('rank < 5'), fn, run_name=wmodel)\n",
    "d = ptio._read_results_trec(fn)\n",
    "\n",
    "\n",
    "task5_dir = '../clef2024-checkthat-lab/task5'\n",
    "golden_labels_file = task5_dir + '/data/dev_qrels.txt'\n",
    "\n",
    "golden = ptio.read_qrels(golden_labels_file)\n",
    "eval= ptpipelines.Evaluate(d, golden , metrics = [P@5, R@5, MAP],perquery=False)\n",
    "eval"
   ]
  },
  {
   "cell_type": "code",
   "execution_count": 7,
   "metadata": {},
   "outputs": [
    {
     "name": "stdout",
     "output_type": "stream",
     "text": [
      "03:44:59.688 [main] WARN org.terrier.querying.ApplyTermPipeline - The index has no termpipelines configuration, and no control configuration is found. Defaulting to global termpipelines configuration of 'Stopwords,PorterStemmer'. Set a termpipelines control to remove this warning.\n",
      "03:44:59.691 [main] WARN org.terrier.querying.QueryExpansion - qemodel control not set for QueryExpansion post process. Using default model Bo1\n"
     ]
    },
    {
     "data": {
      "text/plain": [
       "{'P@5': 0.2947368421052632,\n",
       " 'R@5': 0.7210526315789473,\n",
       " 'AP': 0.6672514619883041}"
      ]
     },
     "execution_count": 7,
     "metadata": {},
     "output_type": "execute_result"
    }
   ],
   "source": [
    "import pyterrier.io as ptio\n",
    "import pyterrier.pipelines as ptpipelines\n",
    "from ir_measures import P, R, MAP\n",
    "\n",
    "from pyterrier.batchretrieve import TextScorer\n",
    "\n",
    "wmodel = 'DPH'\n",
    "\n",
    "textscorer = TextScorer(takes=\"docs\",\n",
    "                        returns=\"queries\",\n",
    "                        body_attr=\"text\",\n",
    "                        wmodel=wmodel,\n",
    "                        controls={\"qe\":\"on\"})\n",
    "\n",
    "rtr = textscorer.transform(df)\n",
    "\n",
    "method = 'TERRIER'\n",
    "tag = wmodel\n",
    "fn = f'{out_dir}/{method}-{wmodel}-qe-dev.trec.txt'\n",
    "\n",
    "ptio._write_results_trec(rtr.query('rank < 5'), fn, run_name=wmodel)\n",
    "d = ptio._read_results_trec(fn)\n",
    "\n",
    "\n",
    "task5_dir = '../clef2024-checkthat-lab/task5'\n",
    "golden_labels_file = task5_dir + '/data/dev_qrels.txt'\n",
    "\n",
    "golden = ptio.read_qrels(golden_labels_file)\n",
    "eval= ptpipelines.Evaluate(d, golden , metrics = [P@5, R@5, MAP],perquery=False)\n",
    "eval"
   ]
  },
  {
   "cell_type": "markdown",
   "metadata": {},
   "source": [
    "## evaluation"
   ]
  },
  {
   "cell_type": "code",
   "execution_count": 8,
   "metadata": {},
   "outputs": [
    {
     "data": {
      "text/html": [
       "<style type=\"text/css\">\n",
       "</style>\n",
       "<table id=\"T_256d6\" style='display:inline'>\n",
       "  <caption>Recall @ 5</caption>\n",
       "  <thead>\n",
       "    <tr>\n",
       "      <th class=\"blank level0\" >&nbsp;</th>\n",
       "      <th id=\"T_256d6_level0_col0\" class=\"col_heading level0 col0\" >method</th>\n",
       "      <th id=\"T_256d6_level0_col1\" class=\"col_heading level0 col1\" >R@5</th>\n",
       "    </tr>\n",
       "  </thead>\n",
       "  <tbody>\n",
       "    <tr>\n",
       "      <th id=\"T_256d6_level0_row0\" class=\"row_heading level0 row0\" >3</th>\n",
       "      <td id=\"T_256d6_row0_col0\" class=\"data row0 col0\" >terrier</td>\n",
       "      <td id=\"T_256d6_row0_col1\" class=\"data row0 col1\" >0.721053</td>\n",
       "    </tr>\n",
       "    <tr>\n",
       "      <th id=\"T_256d6_level0_row1\" class=\"row_heading level0 row1\" >5</th>\n",
       "      <td id=\"T_256d6_row1_col0\" class=\"data row1 col0\" >openai</td>\n",
       "      <td id=\"T_256d6_row1_col1\" class=\"data row1 col1\" >0.716842</td>\n",
       "    </tr>\n",
       "    <tr>\n",
       "      <th id=\"T_256d6_level0_row2\" class=\"row_heading level0 row2\" >1</th>\n",
       "      <td id=\"T_256d6_row2_col0\" class=\"data row2 col0\" >lucence</td>\n",
       "      <td id=\"T_256d6_row2_col1\" class=\"data row2 col1\" >0.697193</td>\n",
       "    </tr>\n",
       "    <tr>\n",
       "      <th id=\"T_256d6_level0_row3\" class=\"row_heading level0 row3\" >4</th>\n",
       "      <td id=\"T_256d6_row3_col0\" class=\"data row3 col0\" >sbert</td>\n",
       "      <td id=\"T_256d6_row3_col1\" class=\"data row3 col1\" >0.694737</td>\n",
       "    </tr>\n",
       "    <tr>\n",
       "      <th id=\"T_256d6_level0_row4\" class=\"row_heading level0 row4\" >2</th>\n",
       "      <td id=\"T_256d6_row4_col0\" class=\"data row4 col0\" >tfidf</td>\n",
       "      <td id=\"T_256d6_row4_col1\" class=\"data row4 col1\" >0.679649</td>\n",
       "    </tr>\n",
       "    <tr>\n",
       "      <th id=\"T_256d6_level0_row5\" class=\"row_heading level0 row5\" >0</th>\n",
       "      <td id=\"T_256d6_row5_col0\" class=\"data row5 col0\" >baseline</td>\n",
       "      <td id=\"T_256d6_row5_col1\" class=\"data row5 col1\" >0.635789</td>\n",
       "    </tr>\n",
       "  </tbody>\n",
       "</table>\n",
       "<style type=\"text/css\">\n",
       "</style>\n",
       "<table id=\"T_92a2b\" style='display:inline'>\n",
       "  <caption>Mean Average Precision</caption>\n",
       "  <thead>\n",
       "    <tr>\n",
       "      <th class=\"blank level0\" >&nbsp;</th>\n",
       "      <th id=\"T_92a2b_level0_col0\" class=\"col_heading level0 col0\" >method</th>\n",
       "      <th id=\"T_92a2b_level0_col1\" class=\"col_heading level0 col1\" >MAP</th>\n",
       "    </tr>\n",
       "  </thead>\n",
       "  <tbody>\n",
       "    <tr>\n",
       "      <th id=\"T_92a2b_level0_row0\" class=\"row_heading level0 row0\" >5</th>\n",
       "      <td id=\"T_92a2b_row0_col0\" class=\"data row0 col0\" >openai</td>\n",
       "      <td id=\"T_92a2b_row0_col1\" class=\"data row0 col1\" >0.688333</td>\n",
       "    </tr>\n",
       "    <tr>\n",
       "      <th id=\"T_92a2b_level0_row1\" class=\"row_heading level0 row1\" >3</th>\n",
       "      <td id=\"T_92a2b_row1_col0\" class=\"data row1 col0\" >terrier</td>\n",
       "      <td id=\"T_92a2b_row1_col1\" class=\"data row1 col1\" >0.665497</td>\n",
       "    </tr>\n",
       "    <tr>\n",
       "      <th id=\"T_92a2b_level0_row2\" class=\"row_heading level0 row2\" >1</th>\n",
       "      <td id=\"T_92a2b_row2_col0\" class=\"data row2 col0\" >lucence</td>\n",
       "      <td id=\"T_92a2b_row2_col1\" class=\"data row2 col1\" >0.642807</td>\n",
       "    </tr>\n",
       "    <tr>\n",
       "      <th id=\"T_92a2b_level0_row3\" class=\"row_heading level0 row3\" >2</th>\n",
       "      <td id=\"T_92a2b_row3_col0\" class=\"data row3 col0\" >tfidf</td>\n",
       "      <td id=\"T_92a2b_row3_col1\" class=\"data row3 col1\" >0.636170</td>\n",
       "    </tr>\n",
       "    <tr>\n",
       "      <th id=\"T_92a2b_level0_row4\" class=\"row_heading level0 row4\" >4</th>\n",
       "      <td id=\"T_92a2b_row4_col0\" class=\"data row4 col0\" >sbert</td>\n",
       "      <td id=\"T_92a2b_row4_col1\" class=\"data row4 col1\" >0.624561</td>\n",
       "    </tr>\n",
       "    <tr>\n",
       "      <th id=\"T_92a2b_level0_row5\" class=\"row_heading level0 row5\" >0</th>\n",
       "      <td id=\"T_92a2b_row5_col0\" class=\"data row5 col0\" >baseline</td>\n",
       "      <td id=\"T_92a2b_row5_col1\" class=\"data row5 col1\" >0.561228</td>\n",
       "    </tr>\n",
       "  </tbody>\n",
       "</table>\n"
      ]
     },
     "metadata": {},
     "output_type": "display_data"
    }
   ],
   "source": [
    "import datetime\n",
    "from clef.utils.scoring import eval_run_retrieval\n",
    "from clef.utils.data_loading import clef_base_path\n",
    "\n",
    "import pandas as pd\n",
    "from IPython.core.display import display_html\n",
    "\n",
    "sample_submission_file = clef_base_path + '/submission_samples/KGAT_zeroShot_evidence_English_dev.txt'\n",
    "\n",
    "lucene_submission_file = f'{out_dir}/LUCENE-dev.trec.txt'\n",
    "tfidf_submission_file = f'{out_dir}/TFIDF-dev.trec.txt'\n",
    "terrier_submission_file = f'{out_dir}/TERRIER-DPH-dev.trec.txt'\n",
    "sbert_submission_file = f'{out_dir}/SBERT-dev.trec.txt'\n",
    "openai_submission_file = f'{out_dir}/OPENAI-dev.trec.txt'\n",
    "\n",
    "golden_labels_file = clef_base_path + '/data/dev_qrels.txt'\n",
    "\n",
    "time_now  = datetime.datetime.now().strftime('%d_%m_%Y_%H_%M_%S') \n",
    "out_file = f'{out_dir}/eval/RQ1-{time_now}.csv'\n",
    "\n",
    "eval_data = [\n",
    "    ['baseline',    *[v for v in eval_run_retrieval(sample_submission_file,  golden_labels_file).values()]],\n",
    "    ['lucence',     *[v for v in eval_run_retrieval(lucene_submission_file,  golden_labels_file).values()]],\n",
    "    ['tfidf',       *[v for v in eval_run_retrieval(tfidf_submission_file,   golden_labels_file).values()]],\n",
    "    ['terrier',     *[v for v in eval_run_retrieval(terrier_submission_file, golden_labels_file).values()]],\n",
    "    ['sbert',       *[v for v in eval_run_retrieval(sbert_submission_file,   golden_labels_file).values()]],\n",
    "    ['openai',      *[v for v in eval_run_retrieval(openai_submission_file,  golden_labels_file).values()]],\n",
    "]\n",
    "\n",
    "eval_df = pd.DataFrame(eval_data)\n",
    "eval_df.columns = ['method', 'R@5', 'MAP']\n",
    "df_r5  = eval_df[['method', 'R@5']].sort_values('R@5', axis=0, ascending=False)\n",
    "df_map = eval_df[['method', 'MAP']].sort_values('MAP', axis=0, ascending=False)\n",
    "\n",
    "df1_styler = df_r5.style.set_table_attributes(\"style='display:inline'\").set_caption('Recall @ 5')\n",
    "df2_styler = df_map.style.set_table_attributes(\"style='display:inline'\").set_caption('Mean Average Precision')\n",
    "\n",
    "eval_df.to_csv(out_file)\n",
    "\n",
    "display_html(df1_styler._repr_html_()+df2_styler._repr_html_(), raw=True)"
   ]
  },
  {
   "cell_type": "code",
   "execution_count": null,
   "metadata": {},
   "outputs": [],
   "source": []
  }
 ],
 "metadata": {
  "kernelspec": {
   "display_name": "venv",
   "language": "python",
   "name": "python3"
  },
  "language_info": {
   "codemirror_mode": {
    "name": "ipython",
    "version": 3
   },
   "file_extension": ".py",
   "mimetype": "text/x-python",
   "name": "python",
   "nbconvert_exporter": "python",
   "pygments_lexer": "ipython3",
   "version": "3.8.18"
  }
 },
 "nbformat": 4,
 "nbformat_minor": 2
}
