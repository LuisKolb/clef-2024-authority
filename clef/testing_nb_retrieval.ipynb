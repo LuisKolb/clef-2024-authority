{
 "cells": [
  {
   "cell_type": "markdown",
   "metadata": {},
   "source": [
    "## data loading"
   ]
  },
  {
   "cell_type": "code",
   "execution_count": 1,
   "metadata": {},
   "outputs": [
    {
     "name": "stdout",
     "output_type": "stream",
     "text": [
      "loaded 96 training json objects and 32 dev objects\n"
     ]
    }
   ],
   "source": [
    "from utils import load_rumors_from_jsonl\n",
    "import os\n",
    "\n",
    "out_dir = './temp-data'\n",
    "\n",
    "clef_path = '../clef2024-checkthat-lab/task5'\n",
    "data_path = os.path.join(clef_path, 'data')\n",
    "\n",
    "filepath_train = os.path.join(data_path, 'English_train.json')\n",
    "filepath_dev = os.path.join(data_path, 'English_dev.json')\n",
    "\n",
    "train_jsons = load_rumors_from_jsonl(filepath_train)\n",
    "dev_jsons = load_rumors_from_jsonl(filepath_dev)\n",
    "\n",
    "print(f'loaded {len(train_jsons)} training json objects and {len(dev_jsons)} dev objects')"
   ]
  },
  {
   "cell_type": "markdown",
   "metadata": {},
   "source": [
    "### cleaning and normalization"
   ]
  },
  {
   "cell_type": "code",
   "execution_count": 2,
   "metadata": {},
   "outputs": [],
   "source": [
    "from clef.utils import clean_tweet\n",
    "\n",
    "def clean_jsons(jsons):\n",
    "    data_cleaned = []\n",
    "\n",
    "    for entry in jsons:\n",
    "        \n",
    "        tl_clean = []\n",
    "        for account_url, tl_tweet_id, tl_tweet in entry['timeline']:\n",
    "            tl_tweet_cleaned = clean_tweet(tl_tweet)\n",
    "            if tl_tweet_cleaned:\n",
    "                tl_clean += [[account_url, tl_tweet_id, tl_tweet_cleaned]]\n",
    "\n",
    "        ev_clean = []\n",
    "        for account_url, ev_tweet_id, ev_tweet in entry['evidence']:\n",
    "            ev_tweet_cleaned = clean_tweet(ev_tweet)\n",
    "            if ev_tweet_cleaned:\n",
    "                ev_clean += [[account_url, ev_tweet_id, ev_tweet_cleaned]]\n",
    "\n",
    "        data_cleaned += [{\n",
    "            'id': entry['id'],\n",
    "            'rumor': clean_tweet(entry['rumor']),\n",
    "            'label': entry['label'],\n",
    "            'timeline': tl_clean,\n",
    "            'evidence': ev_clean,\n",
    "        }]\n",
    "    return data_cleaned"
   ]
  },
  {
   "cell_type": "code",
   "execution_count": 3,
   "metadata": {},
   "outputs": [],
   "source": [
    "data_cleaned_train = clean_jsons(train_jsons)\n",
    "data_cleaned_dev = clean_jsons(dev_jsons)\n",
    "\n",
    "# data_cleaned_train\n",
    "# data_cleaned_dev"
   ]
  },
  {
   "cell_type": "markdown",
   "metadata": {},
   "source": [
    "## pyserini"
   ]
  },
  {
   "cell_type": "code",
   "execution_count": 7,
   "metadata": {},
   "outputs": [],
   "source": [
    "from pyserini.search.lucene import LuceneSearcher\n",
    "import os\n",
    "import json\n",
    "import subprocess\n",
    "\n",
    "# if you get the error \"NameError: name '_C' is not defined\" --> restart the Jupyter Kernel\n",
    "\n",
    "def searchPyserini(rumor_id,\n",
    "                   query,\n",
    "                   timeline,\n",
    "                   k = 5,\n",
    "                   temp_dir = 'temp-data-dir',\n",
    "                   index = 'temp-data-dir/index_timeline_dynamic'):\n",
    "    \n",
    "    # ensure \"working directory\" exists (where we store intermediate data like the dynamic index that will be quered later)\n",
    "    if not os.path.exists(temp_dir):\n",
    "        os.mkdir(temp_dir)\n",
    "\n",
    "    # set up \"dynamic\" (= temporary) index using timeline data\n",
    "    dynamic_idx_filename = 'eng-train-dynamic.jsonl'\n",
    "    with open(os.path.join(temp_dir, dynamic_idx_filename), mode='w', encoding='utf8') as file:\n",
    "        for tweet in timeline:\n",
    "            id = tweet[1]\n",
    "            text = tweet[2]\n",
    "            file.write(json.dumps({'id': id, 'contents': text}) + '\\n')\n",
    "    \n",
    "    # ensure index directory exists and is empty\n",
    "    if os.path.exists(index):\n",
    "        for filename in os.listdir(index):\n",
    "            if os.path.isfile(os.path.join(index, filename)):\n",
    "                os.remove(os.path.join(index, filename))\n",
    "    else:\n",
    "        os.mkdir(index)\n",
    "\n",
    "    # set up pyserini command since python embeddable is not out yet\n",
    "    nthreads = 1\n",
    "    command = f'python -m pyserini.index.lucene ' \\\n",
    "    f'-input {temp_dir} ' \\\n",
    "    f'-collection JsonCollection ' \\\n",
    "    f'-generator DefaultLuceneDocumentGenerator ' \\\n",
    "    f'-index {index} ' \\\n",
    "    f'-threads {nthreads} ' \\\n",
    "    f'-storePositions ' \\\n",
    "    f'-storeDocvectors ' \\\n",
    "    f'-storeRaw ' \\\n",
    "    f'-language en'\n",
    "\n",
    "    result = subprocess.run(command, capture_output=True)\n",
    "\n",
    "    # load searcher from index directoy\n",
    "    searcher = LuceneSearcher(index)\n",
    "    hits = searcher.search(query)\n",
    "\n",
    "    ranked = []\n",
    "\n",
    "    for i, hit in enumerate(hits[:k]):\n",
    "        ranked += [[rumor_id, hit.docid, i+1, hit.score]]\n",
    "\n",
    "        # doc = searcher.doc(hit.docid)\n",
    "        # json_doc = json.loads(doc.raw())\n",
    "        # wrap(f'{i+1:2} {hit.docid:4} {hit.score:.5f}\\n{json_doc[\"contents\"]}')\n",
    "\n",
    "    return ranked"
   ]
  },
  {
   "cell_type": "code",
   "execution_count": 8,
   "metadata": {},
   "outputs": [
    {
     "data": {
      "text/plain": [
       "[['AuRED_132', '1590400068208988160', 1, 23.428499221801758],\n",
       " ['AuRED_132', '1591489851106668544', 2, 15.630800247192383],\n",
       " ['AuRED_132', '1589654877890019331', 3, 11.791999816894531],\n",
       " ['AuRED_132', '1589949764107665409', 4, 9.603899955749512],\n",
       " ['AuRED_132', '1591404278996168705', 5, 9.46500015258789]]"
      ]
     },
     "metadata": {},
     "output_type": "display_data"
    },
    {
     "name": "stdout",
     "output_type": "stream",
     "text": [
      "WAS FOUND\t1590400068208988160 After circulating news that the Governor of the Bank of Lebanon Riad Salameh had announced to NBN about raising the value of the dollar and raising the ceiling on banking withdrawals the NBN channel denies the validity of this information that is being circulated citing the channel and confirms that there is no truth to it on this subject\n",
      "NOT FOUND\t1590364198462435329 There is no truth to the information being circulated quoted by the NBN channel regarding a statement by the Governor of the Central Bank regarding banking circulars\n"
     ]
    }
   ],
   "source": [
    "# for testing...\n",
    "test_rumor = data_cleaned_dev[2]\n",
    "test_rumor = data_cleaned_dev[2]\n",
    "query = test_rumor['rumor']\n",
    "timeline = test_rumor['timeline']\n",
    "\n",
    "ranked_docs = searchPyserini(test_rumor['id'], query, timeline)\n",
    "display(ranked_docs)\n",
    "\n",
    "# simple spot check\n",
    "for evidence in test_rumor['evidence']:\n",
    "    print(f'{\"WAS FOUND\" if evidence[1] in [x[1] for x in ranked_docs] else \"NOT FOUND\"}\\t{evidence[1]} {evidence[2]}')"
   ]
  },
  {
   "cell_type": "code",
   "execution_count": 10,
   "metadata": {},
   "outputs": [
    {
     "data": {
      "application/vnd.jupyter.widget-view+json": {
       "model_id": "ce6faf2a45f549e4a75c66a719cf2120",
       "version_major": 2,
       "version_minor": 0
      },
      "text/plain": [
       "  0%|          | 0/32 [00:00<?, ?it/s]"
      ]
     },
     "metadata": {},
     "output_type": "display_data"
    }
   ],
   "source": [
    "from tqdm.auto import tqdm\n",
    "\n",
    "data = []\n",
    "\n",
    "for item in tqdm(data_cleaned_dev):\n",
    "    rumor_id = item['id']\n",
    "    query = item['rumor']\n",
    "    timeline = item['timeline']\n",
    "\n",
    "    data += searchPyserini(rumor_id, query, timeline)\n",
    "\n",
    "\n",
    "from utils import write_trec_format_output\n",
    "\n",
    "out_path = 'temp-data/lucene-trec-dev.txt'\n",
    "write_trec_format_output(out_path, data, 'LUCENE')\n",
    "\n",
    "# display(data)"
   ]
  },
  {
   "cell_type": "code",
   "execution_count": 11,
   "metadata": {},
   "outputs": [
    {
     "data": {
      "application/vnd.jupyter.widget-view+json": {
       "model_id": "b8ef83e587d44542a34604eda8950f83",
       "version_major": 2,
       "version_minor": 0
      },
      "text/plain": [
       "  0%|          | 0/96 [00:00<?, ?it/s]"
      ]
     },
     "metadata": {},
     "output_type": "display_data"
    }
   ],
   "source": [
    "from tqdm.auto import tqdm\n",
    "\n",
    "data = []\n",
    "\n",
    "for item in tqdm(data_cleaned_train):\n",
    "    rumor_id = item['id']\n",
    "    query = item['rumor']\n",
    "    timeline = item['timeline']\n",
    "\n",
    "    data += searchPyserini(rumor_id, query, timeline)\n",
    "\n",
    "from utils import write_trec_format_output\n",
    "\n",
    "out_path = 'temp-data/lucene-trec-train.txt'\n",
    "write_trec_format_output(out_path, data, 'LUCENE')\n",
    "\n",
    "# display(data)"
   ]
  },
  {
   "cell_type": "markdown",
   "metadata": {},
   "source": [
    "## naive tfidf"
   ]
  },
  {
   "cell_type": "code",
   "execution_count": 31,
   "metadata": {},
   "outputs": [],
   "source": [
    "from sklearn.feature_extraction.text import TfidfVectorizer\n",
    "from sklearn.metrics.pairwise import cosine_similarity\n",
    "\n",
    "def retrieve_relevant_documents_tfidf(rumor_id, query, timeline, k=5):\n",
    "    # Get only doc texts\n",
    "    documents = [t[2] for t in timeline]\n",
    "    tweet_ids = [t[1] for t in timeline]\n",
    "\n",
    "    # Combine query and documents for TF-IDF vectorization\n",
    "    combined_texts = [query] + documents\n",
    "\n",
    "    # Generate TF-IDF vectors\n",
    "    vectorizer = TfidfVectorizer()\n",
    "    tfidf_matrix = vectorizer.fit_transform(combined_texts)\n",
    "\n",
    "    # Calculate similarity of the query to each document\n",
    "    similarity_scores = cosine_similarity(tfidf_matrix[0:1], tfidf_matrix[1:])\n",
    "    \n",
    "    # Rank documents based on similarity scores\n",
    "    ranked_doc_indices = similarity_scores.argsort()[0][::-1]\n",
    "\n",
    "    ranked = []\n",
    "    for i, idx in enumerate(ranked_doc_indices[:k]):\n",
    "        ranked += [[rumor_id, tweet_ids[idx], i, similarity_scores[0][idx]]]\n",
    "    \n",
    "    return ranked\n",
    "\n",
    "    # # Sort the documents according to rank\n",
    "    # ranked_documents = [documents[i] for i in ranked_doc_indices]\n",
    "    # ranked_scores = [similarity_scores[0][i] for i in ranked_doc_indices]\n",
    "    # ranked_ids = [tweet_ids[i] for i in ranked_doc_indices]\n",
    "\n",
    "    # # Create a list of tuples of shape (doc, score)\n",
    "    # ranked_tuples = (list(zip(ranked_ids, ranked_scores, ranked_documents)))\n",
    "    \n",
    "    # return ranked_tuples"
   ]
  },
  {
   "cell_type": "code",
   "execution_count": 32,
   "metadata": {},
   "outputs": [
    {
     "name": "stderr",
     "output_type": "stream",
     "text": [
      "100%|██████████| 32/32 [00:00<00:00, 139.12it/s]\n"
     ]
    }
   ],
   "source": [
    "from tqdm import tqdm\n",
    "\n",
    "data = []\n",
    "\n",
    "for item in tqdm(data_cleaned_dev):\n",
    "    rumor_id = item['id']\n",
    "    query = item['rumor']\n",
    "    timeline = item['timeline']\n",
    "    \n",
    "    # ranked_docs = retrieve_relevant_documents(rumor_id, query, timeline)\n",
    "    data += retrieve_relevant_documents_tfidf(rumor_id, query, timeline)\n",
    "\n",
    "    # for rank, (authority_tweet_id, score, doc_text) in enumerate(ranked_docs[:5]):\n",
    "    #     data += [(rumor_id, authority_tweet_id, rank+1, score)]\n",
    "\n",
    "\n",
    "from utils import write_trec_format_output\n",
    "\n",
    "out_path = 'temp-data/tfidf-trec-dev.txt'\n",
    "write_trec_format_output(out_path, data, 'TFIDF-BASIC')\n",
    "\n",
    "# display(data)"
   ]
  },
  {
   "cell_type": "markdown",
   "metadata": {},
   "source": [
    "## terrier"
   ]
  },
  {
   "cell_type": "code",
   "execution_count": 4,
   "metadata": {},
   "outputs": [],
   "source": [
    "import pandas as pd\n",
    "\n",
    "def jsons_to_pandas(jsons):\n",
    "    data = []\n",
    "    for entry in jsons:\n",
    "        rumor_id = entry['id']\n",
    "        query = entry['rumor']\n",
    "        timeline = entry['timeline']\n",
    "\n",
    "        for author, tw_id, tw in timeline:\n",
    "            data += [\n",
    "                [rumor_id, \"\".join([x if x.isalnum() else \" \" for x in query]), tw_id, tw]\n",
    "            ]\n",
    "\n",
    "    df = pd.DataFrame(data,\n",
    "                      columns=[\"qid\", \"query\", \"docno\", \"text\"],)\n",
    "    return df\n",
    "\n",
    "df = jsons_to_pandas(data_cleaned_dev)"
   ]
  },
  {
   "cell_type": "code",
   "execution_count": 5,
   "metadata": {},
   "outputs": [
    {
     "ename": "ValueError",
     "evalue": "VM is already running, can't set classpath/options; VM started at  File \"c:\\Users\\luisk\\miniconda3\\envs\\clef\\lib\\runpy.py\", line 194, in _run_module_as_main\n    return _run_code(code, main_globals, None,\n  File \"c:\\Users\\luisk\\miniconda3\\envs\\clef\\lib\\runpy.py\", line 87, in _run_code\n    exec(code, run_globals)\n  File \"c:\\Users\\luisk\\miniconda3\\envs\\clef\\lib\\site-packages\\ipykernel_launcher.py\", line 18, in <module>\n    app.launch_new_instance()\n  File \"c:\\Users\\luisk\\miniconda3\\envs\\clef\\lib\\site-packages\\traitlets\\config\\application.py\", line 1075, in launch_instance\n    app.start()\n  File \"c:\\Users\\luisk\\miniconda3\\envs\\clef\\lib\\site-packages\\ipykernel\\kernelapp.py\", line 739, in start\n    self.io_loop.start()\n  File \"c:\\Users\\luisk\\miniconda3\\envs\\clef\\lib\\site-packages\\tornado\\platform\\asyncio.py\", line 205, in start\n    self.asyncio_loop.run_forever()\n  File \"c:\\Users\\luisk\\miniconda3\\envs\\clef\\lib\\asyncio\\base_events.py\", line 570, in run_forever\n    self._run_once()\n  File \"c:\\Users\\luisk\\miniconda3\\envs\\clef\\lib\\asyncio\\base_events.py\", line 1859, in _run_once\n    handle._run()\n  File \"c:\\Users\\luisk\\miniconda3\\envs\\clef\\lib\\asyncio\\events.py\", line 81, in _run\n    self._context.run(self._callback, *self._args)\n  File \"c:\\Users\\luisk\\miniconda3\\envs\\clef\\lib\\site-packages\\ipykernel\\kernelbase.py\", line 545, in dispatch_queue\n    await self.process_one()\n  File \"c:\\Users\\luisk\\miniconda3\\envs\\clef\\lib\\site-packages\\ipykernel\\kernelbase.py\", line 534, in process_one\n    await dispatch(*args)\n  File \"c:\\Users\\luisk\\miniconda3\\envs\\clef\\lib\\site-packages\\ipykernel\\kernelbase.py\", line 437, in dispatch_shell\n    await result\n  File \"c:\\Users\\luisk\\miniconda3\\envs\\clef\\lib\\site-packages\\ipykernel\\ipkernel.py\", line 359, in execute_request\n    await super().execute_request(stream, ident, parent)\n  File \"c:\\Users\\luisk\\miniconda3\\envs\\clef\\lib\\site-packages\\ipykernel\\kernelbase.py\", line 778, in execute_request\n    reply_content = await reply_content\n  File \"c:\\Users\\luisk\\miniconda3\\envs\\clef\\lib\\site-packages\\ipykernel\\ipkernel.py\", line 446, in do_execute\n    res = shell.run_cell(\n  File \"c:\\Users\\luisk\\miniconda3\\envs\\clef\\lib\\site-packages\\ipykernel\\zmqshell.py\", line 549, in run_cell\n    return super().run_cell(*args, **kwargs)\n  File \"c:\\Users\\luisk\\miniconda3\\envs\\clef\\lib\\site-packages\\IPython\\core\\interactiveshell.py\", line 3009, in run_cell\n    result = self._run_cell(\n  File \"c:\\Users\\luisk\\miniconda3\\envs\\clef\\lib\\site-packages\\IPython\\core\\interactiveshell.py\", line 3064, in _run_cell\n    result = runner(coro)\n  File \"c:\\Users\\luisk\\miniconda3\\envs\\clef\\lib\\site-packages\\IPython\\core\\async_helpers.py\", line 129, in _pseudo_sync_runner\n    coro.send(None)\n  File \"c:\\Users\\luisk\\miniconda3\\envs\\clef\\lib\\site-packages\\IPython\\core\\interactiveshell.py\", line 3269, in run_cell_async\n    has_raised = await self.run_ast_nodes(code_ast.body, cell_name,\n  File \"c:\\Users\\luisk\\miniconda3\\envs\\clef\\lib\\site-packages\\IPython\\core\\interactiveshell.py\", line 3448, in run_ast_nodes\n    if await self.run_code(code, result, async_=asy):\n  File \"c:\\Users\\luisk\\miniconda3\\envs\\clef\\lib\\site-packages\\IPython\\core\\interactiveshell.py\", line 3508, in run_code\n    exec(code_obj, self.user_global_ns, self.user_ns)\n  File \"C:\\Users\\luisk\\AppData\\Local\\Temp\\ipykernel_11796\\1516532247.py\", line 4, in <module>\n    from pyterrier.batchretrieve import TextScorer\n  File \"<frozen importlib._bootstrap>\", line 991, in _find_and_load\n  File \"<frozen importlib._bootstrap>\", line 975, in _find_and_load_unlocked\n  File \"<frozen importlib._bootstrap>\", line 671, in _load_unlocked\n  File \"<frozen importlib._bootstrap_external>\", line 843, in exec_module\n  File \"<frozen importlib._bootstrap>\", line 219, in _call_with_frames_removed\n  File \"c:\\Users\\luisk\\miniconda3\\envs\\clef\\lib\\site-packages\\pyterrier\\batchretrieve.py\", line 1, in <module>\n    from jnius import autoclass, cast\n  File \"<frozen importlib._bootstrap>\", line 991, in _find_and_load\n  File \"<frozen importlib._bootstrap>\", line 975, in _find_and_load_unlocked\n  File \"<frozen importlib._bootstrap>\", line 671, in _load_unlocked\n  File \"<frozen importlib._bootstrap_external>\", line 843, in exec_module\n  File \"<frozen importlib._bootstrap>\", line 219, in _call_with_frames_removed\n  File \"c:\\Users\\luisk\\miniconda3\\envs\\clef\\lib\\site-packages\\jnius\\__init__.py\", line 36, in <module>\n    from .reflect import *  # noqa\n  File \"<frozen importlib._bootstrap>\", line 991, in _find_and_load\n  File \"<frozen importlib._bootstrap>\", line 975, in _find_and_load_unlocked\n  File \"<frozen importlib._bootstrap>\", line 671, in _load_unlocked\n  File \"<frozen importlib._bootstrap_external>\", line 843, in exec_module\n  File \"<frozen importlib._bootstrap>\", line 219, in _call_with_frames_removed\n  File \"c:\\Users\\luisk\\miniconda3\\envs\\clef\\lib\\site-packages\\jnius\\reflect.py\", line 19, in <module>\n    class Class(JavaClass, metaclass=MetaJavaClass):\n",
     "output_type": "error",
     "traceback": [
      "\u001b[1;31m---------------------------------------------------------------------------\u001b[0m",
      "\u001b[1;31mValueError\u001b[0m                                Traceback (most recent call last)",
      "Cell \u001b[1;32mIn[5], line 7\u001b[0m\n\u001b[0;32m      4\u001b[0m \u001b[38;5;28;01mfrom\u001b[39;00m \u001b[38;5;21;01mpyterrier\u001b[39;00m\u001b[38;5;21;01m.\u001b[39;00m\u001b[38;5;21;01mbatchretrieve\u001b[39;00m \u001b[38;5;28;01mimport\u001b[39;00m TextScorer\n\u001b[0;32m      6\u001b[0m \u001b[38;5;28;01mif\u001b[39;00m \u001b[38;5;129;01mnot\u001b[39;00m pt\u001b[38;5;241m.\u001b[39mstarted():\n\u001b[1;32m----> 7\u001b[0m     \u001b[43mpt\u001b[49m\u001b[38;5;241;43m.\u001b[39;49m\u001b[43minit\u001b[49m\u001b[43m(\u001b[49m\u001b[43m)\u001b[49m\n\u001b[0;32m      9\u001b[0m textscorer \u001b[38;5;241m=\u001b[39m TextScorer(takes\u001b[38;5;241m=\u001b[39m\u001b[38;5;124m\"\u001b[39m\u001b[38;5;124mdocs\u001b[39m\u001b[38;5;124m\"\u001b[39m, returns\u001b[38;5;241m=\u001b[39m\u001b[38;5;124m\"\u001b[39m\u001b[38;5;124mqueries\u001b[39m\u001b[38;5;124m\"\u001b[39m, body_attr\u001b[38;5;241m=\u001b[39m\u001b[38;5;124m\"\u001b[39m\u001b[38;5;124mtext\u001b[39m\u001b[38;5;124m\"\u001b[39m, wmodel\u001b[38;5;241m=\u001b[39m\u001b[38;5;124m\"\u001b[39m\u001b[38;5;124mBM25\u001b[39m\u001b[38;5;124m\"\u001b[39m, controls\u001b[38;5;241m=\u001b[39m{\u001b[38;5;124m\"\u001b[39m\u001b[38;5;124mqe\u001b[39m\u001b[38;5;124m\"\u001b[39m:\u001b[38;5;124m\"\u001b[39m\u001b[38;5;124mon\u001b[39m\u001b[38;5;124m\"\u001b[39m, \u001b[38;5;124m\"\u001b[39m\u001b[38;5;124mqemodel\u001b[39m\u001b[38;5;124m\"\u001b[39m:\u001b[38;5;124m\"\u001b[39m\u001b[38;5;124mBo1\u001b[39m\u001b[38;5;124m\"\u001b[39m})\n\u001b[0;32m     10\u001b[0m rtr \u001b[38;5;241m=\u001b[39m textscorer\u001b[38;5;241m.\u001b[39mtransform(df)\n",
      "File \u001b[1;32mc:\\Users\\luisk\\miniconda3\\envs\\clef\\lib\\site-packages\\pyterrier\\__init__.py:122\u001b[0m, in \u001b[0;36minit\u001b[1;34m(version, mem, packages, jvm_opts, redirect_io, logging, home_dir, boot_packages, tqdm, no_download, helper_version)\u001b[0m\n\u001b[0;32m    120\u001b[0m \u001b[38;5;28;01mimport\u001b[39;00m \u001b[38;5;21;01mjnius_config\u001b[39;00m\n\u001b[0;32m    121\u001b[0m \u001b[38;5;28;01mfor\u001b[39;00m jar \u001b[38;5;129;01min\u001b[39;00m classpathTrJars:\n\u001b[1;32m--> 122\u001b[0m     \u001b[43mjnius_config\u001b[49m\u001b[38;5;241;43m.\u001b[39;49m\u001b[43madd_classpath\u001b[49m\u001b[43m(\u001b[49m\u001b[43mjar\u001b[49m\u001b[43m)\u001b[49m\n\u001b[0;32m    123\u001b[0m \u001b[38;5;28;01mif\u001b[39;00m jvm_opts \u001b[38;5;129;01mis\u001b[39;00m \u001b[38;5;129;01mnot\u001b[39;00m \u001b[38;5;28;01mNone\u001b[39;00m:\n\u001b[0;32m    124\u001b[0m     \u001b[38;5;28;01mfor\u001b[39;00m opt \u001b[38;5;129;01min\u001b[39;00m jvm_opts:\n",
      "File \u001b[1;32mc:\\Users\\luisk\\miniconda3\\envs\\clef\\lib\\site-packages\\jnius_config.py:57\u001b[0m, in \u001b[0;36madd_classpath\u001b[1;34m(*path)\u001b[0m\n\u001b[0;32m     52\u001b[0m \u001b[38;5;28;01mdef\u001b[39;00m \u001b[38;5;21madd_classpath\u001b[39m(\u001b[38;5;241m*\u001b[39mpath):\n\u001b[0;32m     53\u001b[0m \u001b[38;5;250m    \u001b[39m\u001b[38;5;124;03m\"\"\"\u001b[39;00m\n\u001b[0;32m     54\u001b[0m \u001b[38;5;124;03m    Appends items to the classpath for the JVM to use.\u001b[39;00m\n\u001b[0;32m     55\u001b[0m \u001b[38;5;124;03m    Replaces any existing classpath, overriding the CLASSPATH environment variable.\u001b[39;00m\n\u001b[0;32m     56\u001b[0m \u001b[38;5;124;03m    \"\"\"\u001b[39;00m\n\u001b[1;32m---> 57\u001b[0m     \u001b[43mcheck_vm_running\u001b[49m\u001b[43m(\u001b[49m\u001b[43m)\u001b[49m\n\u001b[0;32m     58\u001b[0m     \u001b[38;5;28;01mglobal\u001b[39;00m classpath\n\u001b[0;32m     59\u001b[0m     \u001b[38;5;28;01mif\u001b[39;00m classpath \u001b[38;5;129;01mis\u001b[39;00m \u001b[38;5;28;01mNone\u001b[39;00m:\n",
      "File \u001b[1;32mc:\\Users\\luisk\\miniconda3\\envs\\clef\\lib\\site-packages\\jnius_config.py:20\u001b[0m, in \u001b[0;36mcheck_vm_running\u001b[1;34m()\u001b[0m\n\u001b[0;32m     18\u001b[0m \u001b[38;5;250m\u001b[39m\u001b[38;5;124;03m\"\"\"Raises a ValueError if the VM is already running.\"\"\"\u001b[39;00m\n\u001b[0;32m     19\u001b[0m \u001b[38;5;28;01mif\u001b[39;00m vm_running:\n\u001b[1;32m---> 20\u001b[0m     \u001b[38;5;28;01mraise\u001b[39;00m \u001b[38;5;167;01mValueError\u001b[39;00m(\u001b[38;5;124m\"\u001b[39m\u001b[38;5;124mVM is already running, can\u001b[39m\u001b[38;5;124m'\u001b[39m\u001b[38;5;124mt set classpath/options; VM started at\u001b[39m\u001b[38;5;124m\"\u001b[39m \u001b[38;5;241m+\u001b[39m vm_started_at)\n",
      "\u001b[1;31mValueError\u001b[0m: VM is already running, can't set classpath/options; VM started at  File \"c:\\Users\\luisk\\miniconda3\\envs\\clef\\lib\\runpy.py\", line 194, in _run_module_as_main\n    return _run_code(code, main_globals, None,\n  File \"c:\\Users\\luisk\\miniconda3\\envs\\clef\\lib\\runpy.py\", line 87, in _run_code\n    exec(code, run_globals)\n  File \"c:\\Users\\luisk\\miniconda3\\envs\\clef\\lib\\site-packages\\ipykernel_launcher.py\", line 18, in <module>\n    app.launch_new_instance()\n  File \"c:\\Users\\luisk\\miniconda3\\envs\\clef\\lib\\site-packages\\traitlets\\config\\application.py\", line 1075, in launch_instance\n    app.start()\n  File \"c:\\Users\\luisk\\miniconda3\\envs\\clef\\lib\\site-packages\\ipykernel\\kernelapp.py\", line 739, in start\n    self.io_loop.start()\n  File \"c:\\Users\\luisk\\miniconda3\\envs\\clef\\lib\\site-packages\\tornado\\platform\\asyncio.py\", line 205, in start\n    self.asyncio_loop.run_forever()\n  File \"c:\\Users\\luisk\\miniconda3\\envs\\clef\\lib\\asyncio\\base_events.py\", line 570, in run_forever\n    self._run_once()\n  File \"c:\\Users\\luisk\\miniconda3\\envs\\clef\\lib\\asyncio\\base_events.py\", line 1859, in _run_once\n    handle._run()\n  File \"c:\\Users\\luisk\\miniconda3\\envs\\clef\\lib\\asyncio\\events.py\", line 81, in _run\n    self._context.run(self._callback, *self._args)\n  File \"c:\\Users\\luisk\\miniconda3\\envs\\clef\\lib\\site-packages\\ipykernel\\kernelbase.py\", line 545, in dispatch_queue\n    await self.process_one()\n  File \"c:\\Users\\luisk\\miniconda3\\envs\\clef\\lib\\site-packages\\ipykernel\\kernelbase.py\", line 534, in process_one\n    await dispatch(*args)\n  File \"c:\\Users\\luisk\\miniconda3\\envs\\clef\\lib\\site-packages\\ipykernel\\kernelbase.py\", line 437, in dispatch_shell\n    await result\n  File \"c:\\Users\\luisk\\miniconda3\\envs\\clef\\lib\\site-packages\\ipykernel\\ipkernel.py\", line 359, in execute_request\n    await super().execute_request(stream, ident, parent)\n  File \"c:\\Users\\luisk\\miniconda3\\envs\\clef\\lib\\site-packages\\ipykernel\\kernelbase.py\", line 778, in execute_request\n    reply_content = await reply_content\n  File \"c:\\Users\\luisk\\miniconda3\\envs\\clef\\lib\\site-packages\\ipykernel\\ipkernel.py\", line 446, in do_execute\n    res = shell.run_cell(\n  File \"c:\\Users\\luisk\\miniconda3\\envs\\clef\\lib\\site-packages\\ipykernel\\zmqshell.py\", line 549, in run_cell\n    return super().run_cell(*args, **kwargs)\n  File \"c:\\Users\\luisk\\miniconda3\\envs\\clef\\lib\\site-packages\\IPython\\core\\interactiveshell.py\", line 3009, in run_cell\n    result = self._run_cell(\n  File \"c:\\Users\\luisk\\miniconda3\\envs\\clef\\lib\\site-packages\\IPython\\core\\interactiveshell.py\", line 3064, in _run_cell\n    result = runner(coro)\n  File \"c:\\Users\\luisk\\miniconda3\\envs\\clef\\lib\\site-packages\\IPython\\core\\async_helpers.py\", line 129, in _pseudo_sync_runner\n    coro.send(None)\n  File \"c:\\Users\\luisk\\miniconda3\\envs\\clef\\lib\\site-packages\\IPython\\core\\interactiveshell.py\", line 3269, in run_cell_async\n    has_raised = await self.run_ast_nodes(code_ast.body, cell_name,\n  File \"c:\\Users\\luisk\\miniconda3\\envs\\clef\\lib\\site-packages\\IPython\\core\\interactiveshell.py\", line 3448, in run_ast_nodes\n    if await self.run_code(code, result, async_=asy):\n  File \"c:\\Users\\luisk\\miniconda3\\envs\\clef\\lib\\site-packages\\IPython\\core\\interactiveshell.py\", line 3508, in run_code\n    exec(code_obj, self.user_global_ns, self.user_ns)\n  File \"C:\\Users\\luisk\\AppData\\Local\\Temp\\ipykernel_11796\\1516532247.py\", line 4, in <module>\n    from pyterrier.batchretrieve import TextScorer\n  File \"<frozen importlib._bootstrap>\", line 991, in _find_and_load\n  File \"<frozen importlib._bootstrap>\", line 975, in _find_and_load_unlocked\n  File \"<frozen importlib._bootstrap>\", line 671, in _load_unlocked\n  File \"<frozen importlib._bootstrap_external>\", line 843, in exec_module\n  File \"<frozen importlib._bootstrap>\", line 219, in _call_with_frames_removed\n  File \"c:\\Users\\luisk\\miniconda3\\envs\\clef\\lib\\site-packages\\pyterrier\\batchretrieve.py\", line 1, in <module>\n    from jnius import autoclass, cast\n  File \"<frozen importlib._bootstrap>\", line 991, in _find_and_load\n  File \"<frozen importlib._bootstrap>\", line 975, in _find_and_load_unlocked\n  File \"<frozen importlib._bootstrap>\", line 671, in _load_unlocked\n  File \"<frozen importlib._bootstrap_external>\", line 843, in exec_module\n  File \"<frozen importlib._bootstrap>\", line 219, in _call_with_frames_removed\n  File \"c:\\Users\\luisk\\miniconda3\\envs\\clef\\lib\\site-packages\\jnius\\__init__.py\", line 36, in <module>\n    from .reflect import *  # noqa\n  File \"<frozen importlib._bootstrap>\", line 991, in _find_and_load\n  File \"<frozen importlib._bootstrap>\", line 975, in _find_and_load_unlocked\n  File \"<frozen importlib._bootstrap>\", line 671, in _load_unlocked\n  File \"<frozen importlib._bootstrap_external>\", line 843, in exec_module\n  File \"<frozen importlib._bootstrap>\", line 219, in _call_with_frames_removed\n  File \"c:\\Users\\luisk\\miniconda3\\envs\\clef\\lib\\site-packages\\jnius\\reflect.py\", line 19, in <module>\n    class Class(JavaClass, metaclass=MetaJavaClass):\n"
     ]
    }
   ],
   "source": [
    "import pandas as pd\n",
    "import pyterrier as pt\n",
    "\n",
    "from pyterrier.batchretrieve import TextScorer\n",
    "\n",
    "if not pt.started():\n",
    "    pt.init()\n",
    "    \n",
    "textscorer = TextScorer(takes=\"docs\", returns=\"queries\", body_attr=\"text\", wmodel=\"BM25\", controls={\"qe\":\"on\", \"qemodel\":\"Bo1\"})\n",
    "rtr = textscorer.transform(df)\n",
    "rtr"
   ]
  },
  {
   "cell_type": "code",
   "execution_count": 63,
   "metadata": {},
   "outputs": [
    {
     "data": {
      "text/plain": [
       "{'R@5': 0.6859649122807018, 'AP': 0.6412280701754386}"
      ]
     },
     "execution_count": 63,
     "metadata": {},
     "output_type": "execute_result"
    }
   ],
   "source": [
    "import pyterrier as pt\n",
    "import pyterrier.io as ptio\n",
    "import pyterrier.pipelines as ptpipelines\n",
    "from ir_measures import R, MAP    \n",
    "\n",
    "ptio._write_results_trec( rtr.query('rank < 5'), 'temp-data/terrier-trec-bm25-qe.txt')\n",
    "d = ptio._read_results_trec('temp-data/terrier-trec-bm25-qe.txt')\n",
    "\n",
    "\n",
    "task5_dir = '../clef2024-checkthat-lab/task5'\n",
    "golden_labels_file = task5_dir + '/data/dev_qrels.txt'\n",
    "\n",
    "golden = ptio.read_qrels(golden_labels_file)\n",
    "eval= ptpipelines.Evaluate(d, golden , metrics = [R@5,MAP],perquery=False)\n",
    "eval"
   ]
  },
  {
   "cell_type": "code",
   "execution_count": 59,
   "metadata": {},
   "outputs": [
    {
     "data": {
      "text/plain": [
       "{'R@5': 0.7189473684210527, 'AP': 0.6810818713450292}"
      ]
     },
     "execution_count": 59,
     "metadata": {},
     "output_type": "execute_result"
    }
   ],
   "source": [
    "import pyterrier as pt\n",
    "import pyterrier.io as ptio\n",
    "import pyterrier.pipelines as ptpipelines\n",
    "from ir_measures import R, MAP    \n",
    "\n",
    "ptio._write_results_trec( rtr.query('rank < 5'), 'temp-data/terrier-trec-bm25-qe.txt')\n",
    "d = ptio._read_results_trec('temp-data/terrier-trec-bm25-qe.txt')\n",
    "\n",
    "\n",
    "task5_dir = '../clef2024-checkthat-lab/task5'\n",
    "golden_labels_file = task5_dir + '/data/dev_qrels.txt'\n",
    "\n",
    "golden = ptio.read_qrels(golden_labels_file)\n",
    "eval= ptpipelines.Evaluate(d, golden , metrics = [R@5,MAP],perquery=False)\n",
    "eval"
   ]
  },
  {
   "cell_type": "code",
   "execution_count": 60,
   "metadata": {},
   "outputs": [
    {
     "data": {
      "text/plain": [
       "{'R@5': 0.7189473684210527, 'AP': 0.6806608187134503}"
      ]
     },
     "execution_count": 60,
     "metadata": {},
     "output_type": "execute_result"
    }
   ],
   "source": [
    "import pyterrier as pt\n",
    "import pyterrier.io as ptio\n",
    "import pyterrier.pipelines as ptpipelines\n",
    "from ir_measures import R, MAP    \n",
    "\n",
    "# ptio._write_results_trec( rtr.query('rank < 5'), 'temp-data/terrier-trec-c.txt')\n",
    "d = ptio._read_results_trec('temp-data/terrier-trec-c.txt')\n",
    "\n",
    "\n",
    "task5_dir = '../clef2024-checkthat-lab/task5'\n",
    "golden_labels_file = task5_dir + '/data/dev_qrels.txt'\n",
    "\n",
    "golden = ptio.read_qrels(golden_labels_file)\n",
    "eval= ptpipelines.Evaluate(d, golden , metrics = [R@5,MAP],perquery=False)\n",
    "eval"
   ]
  },
  {
   "cell_type": "code",
   "execution_count": 42,
   "metadata": {},
   "outputs": [],
   "source": [
    "def write_trec_format_output_from_pandas(filename: str, data, tag: str) -> None:\n",
    "    \"\"\"\n",
    "    Writes data to a file in the TREC format.\n",
    "\n",
    "    Parameters:\n",
    "    - filename (str): The name of the file to write to.\n",
    "    - data (List[Tuple[str, int, int, float]]): A list of tuples, where each tuple contains:\n",
    "        - rumor_id (str): The unique ID for the given rumor.\n",
    "        - authority_tweet_id (int): The unique ID for the authority tweet.\n",
    "        - rank (int): The rank of the authority tweet ID for that given rumor_id.\n",
    "        - score (float): The score given by the model for the authority tweet ID.\n",
    "    - tag (str): The string identifier of the team/model.\n",
    "    \"\"\"\n",
    "    with open(filename, 'w') as file:\n",
    "        for row in range(len(data)):\n",
    "            i = row%5\n",
    "            line = f\"{data.at[i, 'qid']}\\tQ0\\t{data.at[i, 'docno']}\\t{data.at[i, 'rank']}\\t{data.at[i, 'score']}\\t{tag}\\n\"\n",
    "            file.write(line)\n",
    "\n",
    "write_trec_format_output_from_pandas('temp-data/terrier-trec.txt', rtr.query('rank < 5'), 'TERRIER-BM25')"
   ]
  },
  {
   "cell_type": "code",
   "execution_count": 44,
   "metadata": {},
   "outputs": [
    {
     "data": {
      "text/plain": [
       "{'R@5': 0.7189473684210527, 'AP': 0.6806608187134503}"
      ]
     },
     "execution_count": 44,
     "metadata": {},
     "output_type": "execute_result"
    }
   ],
   "source": [
    "import pyterrier as pt\n",
    "import pyterrier.io as ptio\n",
    "import pyterrier.pipelines as ptpipelines\n",
    "from ir_measures import R, MAP    \n",
    "\n",
    "task5_dir = '../clef2024-checkthat-lab/task5'\n",
    "golden_labels_file = task5_dir + '/data/dev_qrels.txt'\n",
    "\n",
    "golden = ptio.read_qrels(golden_labels_file)\n",
    "eval= ptpipelines.Evaluate(rtr.query('rank < 5'), golden , metrics = [R@5,MAP],perquery=False)\n",
    "eval"
   ]
  },
  {
   "cell_type": "code",
   "execution_count": 32,
   "metadata": {},
   "outputs": [
    {
     "data": {
      "text/html": [
       "<div>\n",
       "<style scoped>\n",
       "    .dataframe tbody tr th:only-of-type {\n",
       "        vertical-align: middle;\n",
       "    }\n",
       "\n",
       "    .dataframe tbody tr th {\n",
       "        vertical-align: top;\n",
       "    }\n",
       "\n",
       "    .dataframe thead th {\n",
       "        text-align: right;\n",
       "    }\n",
       "</style>\n",
       "<table border=\"1\" class=\"dataframe\">\n",
       "  <thead>\n",
       "    <tr style=\"text-align: right;\">\n",
       "      <th></th>\n",
       "      <th>qid</th>\n",
       "      <th>docid</th>\n",
       "      <th>docno</th>\n",
       "      <th>rank</th>\n",
       "      <th>score</th>\n",
       "      <th>query</th>\n",
       "      <th>text</th>\n",
       "    </tr>\n",
       "  </thead>\n",
       "  <tbody>\n",
       "    <tr>\n",
       "      <th>820</th>\n",
       "      <td>AuRED_099</td>\n",
       "      <td>749</td>\n",
       "      <td>1233784722238705670</td>\n",
       "      <td>149</td>\n",
       "      <td>0.0</td>\n",
       "      <td>Qatar threw Iranian peas into garbage for fear...</td>\n",
       "      <td>Hello my dear brother thank you for your obser...</td>\n",
       "    </tr>\n",
       "  </tbody>\n",
       "</table>\n",
       "</div>"
      ],
      "text/plain": [
       "           qid  docid                docno  rank  score  \\\n",
       "820  AuRED_099    749  1233784722238705670   149    0.0   \n",
       "\n",
       "                                                 query  \\\n",
       "820  Qatar threw Iranian peas into garbage for fear...   \n",
       "\n",
       "                                                  text  \n",
       "820  Hello my dear brother thank you for your obser...  "
      ]
     },
     "execution_count": 32,
     "metadata": {},
     "output_type": "execute_result"
    }
   ],
   "source": [
    "d = pd.merge(rtr, df[['docno', 'text']], on='docno', how='left')\n",
    "d[d['text'].str.contains(\"Please note that food items unfit for human consumption are destroyed after they are confiscated\")]"
   ]
  },
  {
   "cell_type": "markdown",
   "metadata": {},
   "source": [
    "## sentence_transformers"
   ]
  },
  {
   "cell_type": "code",
   "execution_count": 33,
   "metadata": {},
   "outputs": [],
   "source": [
    "from sentence_transformers import SentenceTransformer, util\n",
    "import torch\n",
    "\n",
    "embedder = SentenceTransformer(\"all-MiniLM-L6-v2\")\n",
    "\n",
    "def retrieve_relevant_documents_sbert(rumor_id, query, timeline, k=5):\n",
    "    corpus = [t[2] for t in timeline]\n",
    "    corpus_embeddings = embedder.encode(corpus, convert_to_tensor=True)\n",
    "\n",
    "    top_k = min(k, len(corpus))\n",
    "    query_embedding = embedder.encode(query, convert_to_tensor=True)\n",
    "\n",
    "    # We use cosine-similarity and torch.topk to find the highest 5 scores\n",
    "    cos_scores = util.cos_sim(query_embedding, corpus_embeddings)[0]\n",
    "    top_results = torch.topk(cos_scores, k=top_k)\n",
    "\n",
    "    # if debug:\n",
    "    #     print(\"\\n\\n======================\\n\\n\")\n",
    "    #     print(\"Query:\", query)\n",
    "    #     evidence_ids = [e[1] for e in evidence]\n",
    "\n",
    "    found = []\n",
    "    docs = []\n",
    "\n",
    "    for i, (score, idx) in enumerate(zip(top_results[0], top_results[1])):\n",
    "            id = timeline[idx][1]\n",
    "\n",
    "            # if debug:\n",
    "            #     is_evidence = id in evidence_ids\n",
    "            #     star = \"(*)\" if is_evidence else \"\\t\"\n",
    "            #     print(star, '\\t', \"(Rank: {:.0f})\".format(i+1), \"(Score: {:.4f})\".format(score), corpus[idx])\n",
    "            #     if is_evidence: found += [id]\n",
    "\n",
    "            docs += [[rumor_id, id, i+1, score.item()]]\n",
    "\n",
    "    # if debug:    \n",
    "    #     for _, ev_id, ev_text in evidence:\n",
    "    #         if ev_id not in found:\n",
    "    #                 print('(!) ', ev_text)\n",
    "    \n",
    "    return docs"
   ]
  },
  {
   "cell_type": "code",
   "execution_count": 34,
   "metadata": {},
   "outputs": [],
   "source": [
    "data = []\n",
    "for item in data_cleaned_train[:]:\n",
    "    query = item['rumor']\n",
    "    timeline = item['timeline']\n",
    "    rumor_id = item['id']\n",
    "    data += retrieve_relevant_documents_sbert(rumor_id, query, timeline)\n",
    "\n",
    "from utils import write_trec_format_output\n",
    "\n",
    "out_path = 'temp-data/sbert-trec-train.txt'\n",
    "write_trec_format_output(out_path, data, 'SBERT')"
   ]
  },
  {
   "cell_type": "code",
   "execution_count": 35,
   "metadata": {},
   "outputs": [],
   "source": [
    "data = []\n",
    "for item in data_cleaned_dev[:]:\n",
    "    query = item['rumor']\n",
    "    timeline = item['timeline']\n",
    "    rumor_id = item['id']\n",
    "    data += retrieve_relevant_documents_sbert(rumor_id, query, timeline)\n",
    "\n",
    "from utils import write_trec_format_output\n",
    "\n",
    "out_path = 'temp-data/sbert-trec-dev.txt'\n",
    "write_trec_format_output(out_path, data, 'SBERT')"
   ]
  },
  {
   "cell_type": "markdown",
   "metadata": {},
   "source": [
    "## openai embeddings"
   ]
  },
  {
   "cell_type": "code",
   "execution_count": null,
   "metadata": {},
   "outputs": [],
   "source": [
    "import os\n",
    "import numpy as np\n",
    "from openai import OpenAI\n",
    "\n",
    "from clef.embedding_utils import cosine_similarity\n",
    "\n",
    "client = OpenAI(\n",
    "    api_key=os.environ.get(\"OPENAI_API_KEY\"), # This is the default and can be omitted\n",
    ")\n",
    "\n",
    "def get_embedding(text):\n",
    "    response = client.embeddings.create(\n",
    "        input = text,\n",
    "        model = 'text-embedding-3-small'\n",
    "    )\n",
    "    return response.data[0].embedding"
   ]
  },
  {
   "cell_type": "code",
   "execution_count": null,
   "metadata": {},
   "outputs": [],
   "source": [
    "def retrieve_relevant_documents_openai(rumor_id, query, timeline, k=5):\n",
    "    # print(rumor_id, query)\n",
    "\n",
    "    # Generate embedding for the rumor\n",
    "    rumor_embedding = get_embedding(query)\n",
    "\n",
    "    # Generate embeddings for each tweet in the timeline\n",
    "    timeline_embeddings = [get_embedding(tweet[2]) for tweet in timeline]\n",
    "\n",
    "    # Compute similarities\n",
    "    similarities = [cosine_similarity(rumor_embedding, tweet_embedding) for tweet_embedding in timeline_embeddings]\n",
    "\n",
    "    # Select the most relevant tweets based on similarities\n",
    "    # Here, we choose a simple approach to select the top N most similar tweets. You can adjust N as needed.\n",
    "    # [-k:][::-1] --> this is: top-k, then reverse the list  so highest-scoring entry is index 0, then second-highest on index 1 etc.\n",
    "    most_relevant_tweet_indices = np.argsort(similarities)[-k:][::-1] \n",
    "\n",
    "    scores = [similarities[i] for i in most_relevant_tweet_indices]\n",
    "    relevant_tweets = [timeline[i] for i in most_relevant_tweet_indices]\n",
    "\n",
    "    ranked = []\n",
    "    for i, (cos_sim, [acc, id, text]) in enumerate(zip(scores, relevant_tweets)):\n",
    "        ranked += [[rumor_id, id, i+1, cos_sim]]\n",
    "    \n",
    "        # print('\\t',[rumor_id, id, i+1, cos_sim, text])\n",
    "\n",
    "    return ranked\n",
    "        "
   ]
  },
  {
   "cell_type": "code",
   "execution_count": null,
   "metadata": {},
   "outputs": [
    {
     "data": {
      "application/vnd.jupyter.widget-view+json": {
       "model_id": "d72e1a91e576444d9e2fbd269b87215e",
       "version_major": 2,
       "version_minor": 0
      },
      "text/plain": [
       "  0%|          | 0/32 [00:00<?, ?it/s]"
      ]
     },
     "metadata": {},
     "output_type": "display_data"
    },
    {
     "name": "stdout",
     "output_type": "stream",
     "text": [
      "AuRED_142 Naturalization decree in preparation: Lebanese passports for sale?! https://t.co/UuQ7yMbSWJ https://t.co/Jf1K1NbZJD\n",
      "\t ['AuRED_142', '1555424541509386240', 1, 0.5292499614547626, '“The Information Office of the Presidency of the Republic: What was published by the French newspaper “Liberation” about the “selling” of Lebanese passports to non-Lebanese is false and baseless news.']\n",
      "\t ['AuRED_142', '1555986659279360001', 2, 0.38413405162678044, '“The Information Office of the Presidency of the Republic denies a false news broadcast by the MTV station about Baabda Palace preparing a decree naturalizing 4,000 people, and recalls that it had denied yesterday the false information published by the French magazine ‘Liberation’ about the same fabricated news. \"']\n",
      "\t ['AuRED_142', '1556600039211925504', 3, 0.3836070343328534, 'Today, the President of the Republic, General Michel Aoun, signed 9 laws that were previously approved by the House of Representatives. Details at the following link: https://t.co/wmrSaaEwDu']\n",
      "\t ['AuRED_142', '1556559119045332992', 4, 0.3792449425766352, 'President Aoun received the Minister of Foreign Affairs and Expatriates, Dr. Abdullah Bouhabib, and the Minister of Social Affairs, Hector Hajjar, and discussed with them developments related to the file of displaced Syrians in Lebanon https://t.co/QLQAJSKzs1']\n",
      "\t ['AuRED_142', '1555495427004420096', 5, 0.3737279518542552, 'The President of the Republic awarded the Papal Ambassador the National Order of the Cedar, with the rank of Grand Officer, wishing him success and success in his new mission: Lebanon always finds the Holy See by its side in happy circumstances as well as in the difficult circumstances it is going through, and this is a reason for gratitude and thanks from all the Lebanese https://t. co/y2Qg2JSqOQ']\n",
      "AuRED_144 In the video.. The spread of unidentified gunmen east of the capital, Baghdad https://t.co/L18KV8tKuZ\n",
      "\t ['AuRED_144', '1576132457803710464', 1, 0.499801726094429, 'Our security forces continue to work with a high level of professionalism in dealing with demonstrators in the capital, Baghdad, without carrying weapons or using any type of force against them. While the security services observed that elements infiltrating among the demonstrators used Molotov cocktails and hunting rifles and attacked our security forces assigned to this duty.']\n",
      "\t ['AuRED_144', '1574745361196924928', 2, 0.49853566627419654, 'Military Intelligence arrests an ISIS member and seizes a stack of explosive devices in Anbar, Nineveh, and its west https://t.co/TMswNvlroQ']\n",
      "\t ['AuRED_144', '1574648661707223040', 3, 0.4859427100266148, 'Military Intelligence arrests a terrorist and two drug dealers and seizes a pile of equipment in Anbar https://t.co/zOv36skuRk']\n",
      "\t ['AuRED_144', '1575169360397996032', 4, 0.47688204441473914, 'As a result of the unfortunate actions and friction that occurred today, Wednesday, in the capital, Baghdad, between the demonstrators and the security forces, the number of those injured was, unfortunately, 4 officers and 118 members, while 11 civilians were also injured...']\n",
      "\t ['AuRED_144', '1575111594375200768', 5, 0.46941581786171527, 'At 1530 hours, the Green Zone in Baghdad was bombarded with 3 shells, the first fell in front of the Iraqi Parliament building and the other near the guest house. The third shell fell near the Jerusalem control, wounding an officer and 3 ranks with various injuries and damaging a number of wheels and one of the buildings. https://t.co/uCdMGu8s70']\n",
      "AuRED_132 *Riyad Salama to NBN, raising the value of the dollar through Resolution 158 from 8,000 LBP per dollar to 15,000 LBP, starting from the first of next month.* *Riyad Salama to NBN, we are raising the ceiling on banking withdrawals, starting from the first of next month, from $400 to $1,500 for individuals.*\n",
      "\t ['AuRED_132', '1590400068208988160', 1, 0.6641495564360761, 'After circulating news that the Governor of the Bank of Lebanon, Riad Salameh, had announced to NBN about raising the value of the dollar and raising the ceiling on banking withdrawals, the NBN channel denies the validity of this information that is being circulated, citing the channel, and confirms that there is no truth to it on this subject. https://t.co/oIF6QW9rTB https://t.co/ZRlfbccr2y']\n",
      "\t ['AuRED_132', '1591110819634642944', 2, 0.5574091868159955, '“Bank of Lebanon: Trading volume on the Sayrafa platform reached $35 million today at a rate of 30,300 pounds to the dollar https://t.co/XwI6r6AYd8 https://t.co/4bvq1miWr1”']\n",
      "\t ['AuRED_132', '1590027594610900993', 3, 0.5452727230803951, 'Bank of Lebanon: The trading volume on SAYRAFA today reached 53 million dollars at a rate of 30,300 liras https://t.co/tgtY3jWqQX https://t.co/ouxF3bfODy']\n",
      "\t ['AuRED_132', '1589672879981199360', 4, 0.5368856348751355, 'The #Bank_of_Lebanon announced that “the trading volume on the Sayrafa platform for today amounted to 25 million US dollars at a rate of 30,100 Lebanese pounds per dollar, according to the exchange rates of operations carried out by banks and exchange institutions on the platform.” https://t.co/HUbgu9pjQd \"']\n",
      "\t ['AuRED_132', '1590745652228608008', 5, 0.5308762113679235, '“Bank of Lebanon: The trading volume on “Sayrafa” today reached 35 million dollars at a rate of 30,300 liras https://t.co/hO2MvoD3JI https://t.co/TSKwSsbnof”']\n",
      "AuRED_099 #Qatar threw Iranian peas into garbage for fear of the spread of the new #Corona_virus. https://t.co/1VEBDDOJ0I\n",
      "\t ['AuRED_099', '1233124770767687686', 1, 0.6017623189538988, 'The Government Communications Office confirms that all Qatari citizens who were evacuated from the Islamic Republic of Iran due to the outbreak of the Corona virus came to #Doha, and quarantine has been carried out, and we once again stress the necessity of obtaining information from official sources. https://t.co/Cxiss2JeiT']\n",
      "\t ['AuRED_099', '1235271303671799808', 2, 0.5874353420411514, 'Steps taken by the State of #Qatar to protect the population from #Coronavirus 2019 (#Covid19) https://t.co/gZpeBoGXiQ']\n",
      "\t ['AuRED_099', '1233067986258419713', 3, 0.5817136760012791, 'The State of #Qatar has taken all necessary preventive measures and procedures to confront the Corona virus and protect all residents of the country from the risk of infection with the virus, and no cases of infection have been recorded in the State of Qatar so far. https://t.co/evCmEysJNb']\n",
      "\t ['AuRED_099', '1233762145080369155', 4, 0.5692741492145412, 'The first confirmed case of Coronavirus infection was recorded in the State of #Qatar, belonging to a Qatari citizen who underwent complete quarantine upon his arrival in the country. We confirm that there is currently no evidence of the spread of the virus in the country and we stress the importance of applying preventive measures. @MOPHQatar https://t.co/pwKoU4HHOO']\n",
      "\t ['AuRED_099', '1233991883594047493', 5, 0.5669002346673356, 'RT @jassimfakhro: There is no need to panic.. The first case of #New_Corona in #Qatar is a case coming from among the passengers arriving on a private plane from Iran, and it is a Qatari citizen who was transferred from the plane to quarantine and from there to the Communicable Diseases Hospital @NadeebQa @Qat']\n",
      "AuRED_150 What Moza did towards the Yemeni people is a resounding scandal by preventing Yemenis from entering Qatar who hold the Haya card designated for visitors to Qatar for the World Cup season. However, the Qatari regime closed the doors in the faces of the Yemenis and not anyone else until here and the Qatari position is clear. There must be a quick reaction from the government\n",
      "\t ['AuRED_150', '1584227099706957824', 1, 0.684967501730774, 'The concerned authorities in #Qatar confirmed during our communication with them on several levels that there is no truth to what was raised about preventing Yemenis from attending the World Cup, and that a defect caused the cancellation of these cards for different nationalities before the procedures returned to normal on the applicants’ accounts.']\n",
      "\t ['AuRED_150', '1584226822107312129', 2, 0.6040487102025375, 'I thank the Qatari authorities for the response they showed following the problem that caused a number of Haya cards to be rejected by some Yemenis. Since the first hours, we have contacted the relevant authorities and received promises to address the problem. Indeed, it has begun to be resolved and we have noticed that these cards have returned to work, and the rest of them will be completed in the coming days, according to the responsible authorities. https://t.co/x6VsSGUsia']\n",
      "\t ['AuRED_150', '1585314890247733248', 3, 0.5359166278194599, 'RT @alsharq_portal: ✍️ Part of the article by Yemeni Ambassador Rajeh Badi in #Al-Sharq entitled: 📰The World Cup in Qatar.. The Arab dream has become a reality ⬅️ To read the full article: https://shrq.me/opberaq']\n",
      "\t ['AuRED_150', '1584813539629608960', 4, 0.5161898865469375, 'RT @sufianjubran: Friends who had received a Haya card and then it was cancelled, contacted me, and today they informed me that the Haya card had been issued with full approval and that they could travel at any time to Qatar to attend the World Cup. Congratulations to everyone and thanks for the efforts of our embassy in Qatar and to Ambassador Rajeh Badi @AmbRajehBadi']\n",
      "\t ['AuRED_150', '1583524837493858304', 5, 0.4810488016231679, 'RT @BinmubarakAhmed: The Yemeni government: All options are open to deal with the Houthi terrorist attack on the port of Dabbah https://t.co/IvKdWyAHgF']\n",
      "AuRED_083 #Libya - Sources of the event: News of the arrival of an American delegation to Benghazi to discuss efforts for a solution\n",
      "\t ['AuRED_083', '1264830255417696260', 1, 0.5849332142175042, '@AlHadath @AlHadath There is no American delegation heading to Benghazi. This rumor is not true.']\n",
      "\t ['AuRED_083', '1263861237173161985', 2, 0.5400390310795309, 'RT @USAEmbassyLibya: It is time for all parties in Libya to immediately stop the escalation and return to the 5+5 negotiations led by the United Nations @UNSMILibya']\n",
      "\t ['AuRED_083', '1264219728639336451', 3, 0.539909277386305, 'RT @SecPompeo: Important conversation with Libyan Prime Minister Fayez al-Sarraj yesterday. A ceasefire that leads to a political solution is the only option for the Libyan people. @USAEmbassyLibya']\n",
      "\t ['AuRED_083', '1263914416548036613', 4, 0.5205071020792998, '“An important conversation today with Libyan Prime Minister Sarraj. A ceasefire that will lead to a political solution is the only option for the Libyan people.” - US Secretary of State Michael Pompeo https://t.co/pQkgxnvFNR']\n",
      "\t ['AuRED_083', '1264220110690058240', 5, 0.507304316927088, 'RT @USAEmbassyLibya: In a phone call with Prime Minister Sarraj, Ambassador Norland welcomes the important contributions of the Government of National Accord to defeating terrorism and achieving peace. #Libya Full text: https://t.co/0zce5ss4ww']\n",
      "AuRED_134 #Kuwait: An officer with the rank of first lieutenant working in the State Security Service was arrested for obtaining Kuwaiti citizenship by fraud and forgery.\n",
      "\t ['AuRED_134', '1585684799649419265', 1, 0.5043782896222694, 'Security Media: The General Administration of Relations and Security Media denies what was circulated on social media about the arrest of an officer in the Ministry of Interior who forged nationality, and the Ministry of Interior will take legal measures against anyone who publishes or publishes false news.']\n",
      "\t ['AuRED_134', '1585707572258312192', 2, 0.47262116205505533, 'Security Media: His Excellency the First Deputy Prime Minister and Minister of Interior Sheikh Talal Khaled Al-Ahmad Al-Sabah orders the opening of an investigation to find out the reasons for what happened in the Al-Naseem Cooperative Society elections.']\n",
      "\t ['AuRED_134', '1586332896092033024', 3, 0.43155574730107776, 'Security Media: Based on the instructions of His Excellency the First Deputy Prime Minister and Minister of Interior, Sheikh Talal Khaled Al-Ahmad Al-Sabah, to intensify cooperation to monitor and combat violations of public morals.. https://t.co/i49IQtPKWE']\n",
      "\t ['AuRED_134', '1586378408640012291', 4, 0.41084233377972723, 'Security Media: The General Administration of Residence Affairs Investigations, represented by the Joint Tripartite Committee Section, in cooperation with the relevant authorities, was able to arrest 11 people who violated the residency law and were working daily. Two people were also arrested, one of them on charges of practicing medicine without a license, and they were all referred to the competent authorities to take the necessary action. https:/ /t.co/86tl3ETIND']\n",
      "\t ['AuRED_134', '1585925187022868480', 5, 0.35718927799516487, 'In continuation of the strict instructions and directives of His Excellency the First Deputy Prime Minister and Minister of the Interior to confront drug smugglers and drug dealers, 3 people were arrested while trying to smuggle approximately 174 kilograms of narcotic hashish by sea https://t.co/njdi33kPli']\n",
      "AuRED_136 With a clear and clear title, “You will pay,” meaning you will pay.. The General Traffic Department decides to raise the value of all types of traffic violations, by up to 100%, retroactively 🤐💔 #Egypt #Sisi https://t.co/VnZXxfaLMG\n",
      "\t ['AuRED_136', '1579195896834981891', 1, 0.5181883912921595, '#Ministry_of_Interior took legal measures in implementation of the court ruling issued against a person for driving a car recklessly on a traffic axis in Cairo. https://t.co/w1vSicyWtX']\n",
      "\t ['AuRED_136', '1580610059352305664', 2, 0.45084103321377805, '“#Ministry_of_Interior arrested (3 people - residing in #Cairo Governorate)... as soon as they were driving a car owned by one of them, and in their possession (3 mobile phones - a number of certificates attributed to one of the “forged” universities) https://t.co/ nplz9Ke2lL\"']\n",
      "\t ['AuRED_136', '1579972146201497600', 3, 0.43451239899428884, '#Ministry_of_Interior: There is no truth to what was circulated on a number of channels affiliated with the #Terrorist_Brotherhood group. Regarding the General Traffic Department raising the value of traffic violations, in addition to that this is not within the jurisdiction of the General Traffic Department, but rather a judicial matter subject to legislation and laws. https://t.co/RpNDw457O7']\n",
      "\t ['AuRED_136', '1580511002772537345', 4, 0.43328044884844136, '“Information and investigations of the #CarTheft Crimes Department at the #Cairo Security Directorate confirmed that (two individuals with criminal information - one of whom was detained in connection with a case”) committed many incidents of #carthefts using the “break the counter and connect the wires” method. After codifying the procedures, the other was caught as he took a #car https://t.co/XVsG9IqzCt”']\n",
      "\t ['AuRED_136', '1580172395817893889', 5, 0.4251975873083462, '#Ministry_of_Interior The General Administration of the Environment and Landscape Police carried out several major inspection campaigns to control all violations and various issues within the governorates of (Cairo - Qalyubia)... Its efforts resulted in achieving many positive results, the most prominent of which were as follows:- https://t.co/OL3i8F9yIb']\n",
      "AuRED_154 A Dutch inspection team was prevented from entering the port of Beirut\n",
      "\t ['AuRED_154', '1291769381924605952', 1, 0.651612003067828, 'The Army Command denies the validity of the information about preventing a Dutch inspection team from entering the port to assist in rescue operations #Lebanese_Army #LebaneseArmy https://t.co/D94z2nxw8c']\n",
      "\t ['AuRED_154', '1291777104246341632', 2, 0.5750017918129562, 'This afternoon, Army Commander General Joseph Aoun inspected the explosion area in the port of Beirut, where he toured local and international search and rescue teams, and was briefed on the operations carried out by the Dutch, Russian, French, German, Greek, Cypriot, Qatari, Turkish and Czech units. https://t.co/aIBIpmMAXDY https://t.co/4k8dXEiq2g']\n",
      "\t ['AuRED_154', '1291676718336544770', 3, 0.5060002315713482, 'The Army Commander inspects local and foreign search and rescue crews at the port of #Beirut #Lebanese_Army #LebaneseArmy https://t.co/FAaWADTe1C']\n",
      "\t ['AuRED_154', '1292813374041063426', 4, 0.4707890360515103, 'The Army Commander, General Joseph Aoun, received the Senior Advisor to the British Ministry of Defense for Middle East Affairs, Lieutenant General John Lorimer, accompanied by the British Ambassador to Lebanon, Mr. Chris Rambling. The aid provided by the British government to confront the repercussions of the explosion in the Beirut Port was investigated https://t.co/hwPOLpVdxh https://t.co/jheLPdtHTv']\n",
      "\t ['AuRED_154', '1291771658777305093', 5, 0.4603491817710921, 'The Army Command will complete search and rescue work around the clock at the site of the Beirut Port explosion with the help of foreign teams and in cooperation with the Civil Defense, the Red Cross, and the Fire Brigade. Three bodies were recovered last night, and the search work will continue until all the missing people are found. https://t.co/SQdghi25TF https://t.co/TiTFBYsvme']\n",
      "AuRED_038 News of a missile passing over Kuwaiti airspace coming from the Iraqi side https://t.co/E8a1KXpf1E\n",
      "\t ['AuRED_038', '1304789499214532610', 1, 0.4731695679209761, 'An Iraqi military plane loaded with 12 tons of aid arrives in Sudan https://t.co/HRG7WWsuXG']\n",
      "\t ['AuRED_038', '1305252557800058880', 2, 0.46586525632311193, 'The follow-up committee of the joint Iraqi-Kuwaiti Higher Ministerial Committee held a meeting in the State of Kuwait. The Iraqi side was headed by the Senior Undersecretary, Ambassador Dr. Abdul Karim Hashim Mustafa, who delivered a speech in which he praised the bilateral relations between the two countries, and Iraq’s keenness to reach new heights https://t.co/DzRWuoVj1P']\n",
      "\t ['AuRED_038', '1305098714642608129', 3, 0.46301221734050807, 'In continuation of its approach to searching and inspecting the caches of ISIS terrorist weapons and equipment, with accurate intelligence information and in coordination with the Intelligence Department of the Western Nineveh Operations Command, the detachments of the Military Intelligence Division in the 20th Division were able to find a cache containing a cache of missiles and explosives in the Kairouan district. https://t.co/y0hpbxpZdZ']\n",
      "\t ['AuRED_038', '1305101980583559169', 4, 0.4585734468006049, 'This morning, a Kuwaiti Air Force plane left for the sisterly Republic of #Sudan, in cooperation and coordination with the Ministries of Foreign Affairs and Trade and the Kuwait Red Crescent Society, as this flight is considered part of the air bridge designated for transporting emergency aid, in order to secure it for those affected by the heavy rains https://t. co/SofsoYyHxv']\n",
      "\t ['AuRED_038', '1303362669970325504', 5, 0.4580062666603893, 'This Tuesday morning, at the Amiri Diwan, I presented to His Highness the Deputy Emir, Crown Prince Sheikh #Nawaf_Al-Ahmad, my credentials as Ambassador Extraordinary and Plenipotentiary of the Republic of #Iraq to the sisterly State of #Kuwait, and I appreciate the warm reception and welcome, stressing my keenness to consolidate fraternal relations and cooperation between the two brotherly countries🇰🇼🇮🇶 https://t.co/NkefFCAjiJ']\n",
      "AuRED_086 #Al-Ittihad_Raid_I League Urgently, the administration of the Corona vaccine has stopped urgently in the Kingdom of Saudi Arabia. There is no power or strength from God. Five people died after taking the vaccine nhttps://t.co/rVZObHjh0C\n",
      "\t ['AuRED_086', '1341265130177347584', 1, 0.5898969250613771, 'RT @spokesman_moh: Praise be to God, everyone who took the Corona vaccine is healthy and well, and no unexpected symptoms appeared on everyone who received the vaccine. We invite everyone to register on the Sehaty app to get the vaccine. Contact @SaudiMOH937 for any inquiries, take information from its official sources and do not be led by rumours.']\n",
      "\t ['AuRED_086', '1341264756594884608', 2, 0.5835904876910903, 'Praise be to God, everyone who took the Corona vaccine is healthy and well, and no unexpected symptoms appeared in everyone who received the vaccine. We invite everyone to register on the Sehaty app to get the vaccine. Contact @SaudiMOH937 for any inquiries, take information from its official sources and do not be led by rumours.']\n",
      "\t ['AuRED_086', '1342073003392307201', 3, 0.5824893844234109, 'RT @tfrabiah: Praise be to God, the second Corona (Covid-19) vaccine center has been launched in the Kingdom in Jeddah Governorate. Soon, God willing, vaccine centers will be launched in all regions of the Kingdom. I invite everyone to register on the Sihati app to get the vaccine.']\n",
      "\t ['AuRED_086', '1340029347973967875', 4, 0.5746551598513135, 'RT @AlArabiya_KSA: Saudi academic and critic Dr. Abdullah Al-Ghathami @ghathami receives the #Corona vaccine at the vaccine center in Riyadh, and tells #Al-Arabiya the timeline from his registration until he received the Pfizer vaccine. Via: @mhsen93']\n",
      "\t ['AuRED_086', '1339878931177086976', 5, 0.5711368122836441, 'RT @CGCSaudi: What does #Minister_of_Health Dr. Tawfiq Al-Rabiah direct to those who are afraid of taking the Corona virus vaccine? @SaudiMOH #Government_Communication https://t.co/9djJF…']\n",
      "AuRED_160 Hoda Al-Sarari passed away as a result of a traffic accident in Spain https://t.co/gssbphe3OA\n",
      "\t ['AuRED_160', '1436402022903844875', 1, 0.3268936992637066, '@AlbrkiAshraf 🙏🏻']\n",
      "\t ['AuRED_160', '1437450624606654464', 2, 0.3114286735735668, 'The tears of Miami Hadhayef and my mind were shed... #Libya #Sukna']\n",
      "\t ['AuRED_160', '1436620953618944000', 3, 0.3064574320422338, '@Aliatbega 🙏🏻🌹']\n",
      "\t ['AuRED_160', '1436952831215476739', 4, 0.29434658511944617, 'My loved ones and my people who were busy with me: I am fine and thank you from the heart to everyone who wished me safety. I was not able to respond to your messages and calls at that moment because I was in the seventh dream because we are going to sleep early. I will send you all a rose in the style of our poet Ali Sedqi Abdel Qader 🌹 Not good news. For those who want us to die: it is still sitting on your hearts😬']\n",
      "\t ['AuRED_160', '1437462406087778317', 5, 0.2921206282497296, '@abubakerataweel 🌹💓🇱🇾']\n",
      "AuRED_064 Today, the Turkish Minister of Defense visited Tripoli without coordination with the new Libyan government. He was received by the Turkish ambassador and Turkish army officers, and he held a meeting with Turkish leaders at the Mitiga base. He did not meet any Libyan government or presidential official, and he left Libya, I believe. This is called official occupation. He must be compensated. https://t.co/hMd7Xrbxxw\n",
      "\t ['AuRED_064', '1403795269855191040', 1, 0.6257989537329316, 'Head of the #National_Unity_Government, Abdul Hamid Dabaiba, receives, on Saturday, in Tripoli, a high-level Turkish delegation to discuss cooperation between the two countries in various fields. #OurGovernment #Libya https://t.co/yEKVuyYUx5']\n",
      "\t ['AuRED_064', '1402962583842263043', 2, 0.611373537375715, 'The Minister of the Interior of the National Unity Government, Khaled Mazen, receives the British Minister of Defense and the Minister of State for the Middle East and Africa after their arrival in the capital, Tripoli. #OurGovernment #Libya #National_Unity_Government https://t.co/zhW2sRgyry']\n",
      "\t ['AuRED_064', '1403809077004750849', 3, 0.6034843809868033, 'RT @TRTArabi: Turkish Foreign Minister Mevlut Cavusoglu meets with his Libyan counterpart Najla Mangoush, as part of his visit to the Libyan capital, Tripoli https://t.co/…']\n",
      "\t ['AuRED_064', '1403808985875157004', 4, 0.6025956203169064, 'RT @TRTArabi: A high-ranking Turkish delegation visits #Libya... and Cavusoglu meets his Libyan counterpart in #Tripoli https://t.co/KC1jtGiSJn']\n",
      "\t ['AuRED_064', '1403804191483695107', 5, 0.594240023150044, '1/3 Chairman of the Presidential Council, Dr. Muhammad Al-Manfi @LPCLYM met today with a high-level Turkish delegation headed by the Turkish Foreign Minister @MevlutCavusoglu, who conveyed the greetings of the President of the Turkish Republic, Mr. Recep Tayyip Erdogan, to the President of the Presidential Council, stressing his country’s support for the stability and unity of #Libya. https://t.co/nR78UBV3RH']\n",
      "AuRED_127 Congratulations to Algeria on this award... Today, Algeria was well-deservedly elected as a member of the United Nations Human Rights Council for the period 2023-2025. This is in recognition of its role as a pivotal country in the region, and its interest in promoting the principles and values ​​of human rights in the world...\n",
      "\t ['AuRED_127', '1580116641241001984', 1, 0.9076466772448178, 'Algeria was elected as a member of the UN Human Rights Council for the period 2023-2025, in recognition of its role as a pivotal country in the region and its interest in promoting the principles and values \\u200b\\u200bof human rights in the world. Algeria won 178 votes in these elections, which took place in New York during the 17th plenary session of the United Nations General Assembly. https://t.co/MUWfMszO2N']\n",
      "\t ['AuRED_127', '1579568507997786113', 2, 0.5256270915275609, '“Under the supervision of the Minister of Foreign Affairs and the National Community Abroad, Mr. Ramtane Lamamra, the Ministry commemorated the sixtieth anniversary of Algerian Diplomacy Day, which corresponds to the date of Algeria’s accession to the United Nations on October 8, 1962, under the slogan “Sixty Years of Presence and Influence in the United Nations.” .https://t.co/zgIYRHkdC0\"']\n",
      "\t ['AuRED_127', '1579568814215540736', 3, 0.4001027889330471, 'On the occasion of the celebration of the 60th anniversary of Algerian Diplomacy Day, corresponding to October 8th, the Ministry of Foreign Affairs and the National Community Abroad launches its new website: https://t.co/GJZHED6kCb']\n",
      "\t ['AuRED_127', '1579568005033635840', 4, 0.37089034810192095, 'Mr. Ramtane Lamamra spoke, today, Monday in Algiers, with his French counterpart, Ms. Catherine Colonna, who visited Algeria within the framework of the fifth session of the Algerian-French high-level joint governmental committee, which culminated in particular with the signing of 11 cooperation mechanisms in various fields. https://t.co/eeMWn3zGGw']\n",
      "\t ['AuRED_127', '1579071016482938880', 5, 0.36004685210054244, '#Important Today, the President of the Republic, Mr. Abdelmadjid Tebboune, received a phone call from the President of the French Republic, Mr. Emmanuel Macron, in which they reviewed bilateral relations. They also touched on the meeting of the fifth session of the Algerian-French high-level governmental committee, in addition to developments in the situation in the region. https://t.co/x50kEb2erP']\n",
      "AuRED_106 #Riyad_Mahrez is among the candidates to win the Ballon d'Or! 💙🇩🇿\n",
      "\t ['AuRED_106', '1558439305508429825', 1, 0.8052016302268303, 'National team star 🇩🇿 Riyad Mahrez is on the list of candidates for the International Ballon d’Or award 🌟 Wish good luck to Riyad 🤩🤞🏼 https://t.co/GPcnLc3Be5']\n",
      "\t ['AuRED_106', '1558185887925682184', 2, 0.32889168083080705, 'Results and standings of the first group | The third round of the Islamic Solidarity Games Konya-Turkey 🇹🇷 2022 Our national team qualified for the semi-finals, good luck to our champions 💪🇩🇿 #LesVerts_u23 #teamdz 🇩🇿✊#123vivalAlgérie #LesFennecs https://t.co/3dL8Hbbm7h']\n",
      "\t ['AuRED_106', '1558806060391186432', 3, 0.32458526102876967, '• Konya-Turkey Islamic Solidarity Games 🇹🇷 2022 📜 The starting lineup for the U-23 national team facing the Saudi national team 🇸🇦 The match will be played at 15.00 Algeria time (17.00 Turkish time) #LesVerts_u23 #teamdz 🇩🇿✊#123vivalAlgérie https:// t.co/kke3IkLsaD']\n",
      "\t ['AuRED_106', '1558221108121305093', 4, 0.31801344097548656, '“The model of the Afro-Asian Cup returns to the arms of the Algerian Football Association; “FAF” retrieved the model that the national team won in 1991 in Algeria, after its victory over the champion of the Asian continent, the Iranian team. https://t.co/y0mQOBet3a 👉 https:/ /t.co/GkbgWqfMsY\"']\n",
      "\t ['AuRED_106', '1558224962598625280', 5, 0.31173372044894254, '“RT @FAFAlgeria: The model of the Afro-Asian Cup returns to the arms of the Algerian Football Federation; “FAF” retrieved the model that the national team won in 1991 in Algeria, after its victory over the champion of the Asian continent, the Iranian team. http://bit.ly/3JSNq19 👉\"']\n",
      "AuRED_109 Qatar hosts the 2024 World Endurance Racing Championship https://t.co/rg2sVTzk6U\n",
      "\t ['AuRED_109', '1602397782844837901', 1, 0.8194542164222244, 'Today we celebrated the signing of the State of Qatar’s hosting of the 2024 World Endurance Racing Championship between the Qatar Automobile and Motorcycle Federation and the Le Mans Endurance Championship Company. Our best wishes for the championship that will be held for the first time in Qatar https://t.co/dtU3LwXfNY']\n",
      "\t ['AuRED_109', '1602376075136438273', 2, 0.529363095617224, 'Khalifa International Stadium has hosted a long list of historic sporting events since its launch in 1976. With its majestic double arches that reach the sky, the stadium has undergone a series of renovations in preparation for the FIFA World Cup #Qatar 2022. https://t.co/wfwmMn40gZ #OurDreamReality #OnThePromise https://t.co/u8uUOijrb6']\n",
      "\t ['AuRED_109', '1603691440063877122', 3, 0.5168000690696416, 'As part of its tireless efforts to make the FIFA World Cup Qatar 2022 an environmentally friendly tournament, the State of #Qatar has worked to benefit from waste and waste generated during the tournament. #Our_dream_is_a_reality #on_the_promise https://t.co/B1UD5E6dXs']\n",
      "\t ['AuRED_109', '1601595184546197504', 4, 0.5126398465444257, 'Souq Waqif hosts fans of the Qatar World Cup 2022 with its distinctive heritage atmosphere, as it has become an important destination for all visitors to the State of #Qatar during the tournament. #Our_dream_is_a_reality #on_the_promise https://t.co/zDkIq8wAYs']\n",
      "\t ['AuRED_109', '1602225043844599812', 5, 0.4714668065646725, 'From the spirit of the Islamic renaissance that our region witnessed, the unique design of Lusail Stadium was inspired to be an important station through which fans of the #Qatar_World_Cup_2022 get to know another facet of our Arab world. #Our_dream_is_a_reality #on_the_promise https://t.co/Kr5INZ4qzg']\n",
      "AuRED_108 Qatar dispenses with “Al-Annabi” coach https://t.co/6aG81CgrmK\n",
      "\t ['AuRED_108', '1608878919326760960', 1, 0.6333997095414031, \"The Qatar Football Association and Spain's Felix Sanchez decide not to extend the contract concluded between the two parties. Al-Ittihad expresses its sincere gratitude to the coach, wishing him all the best.\"]\n",
      "\t ['AuRED_108', '1610292239917371394', 2, 0.5011559995085224, 'Al-Anabi’s list participating in the #Gulf_Zain 25 Championship 🇶🇦. Good luck, heroes💪. #Annabi https://t.co/Q7dzjxP79r']\n",
      "\t ['AuRED_108', '1608041384216330245', 3, 0.4986670978294533, 'Media day for our national team players for the #Gulf25 Championship 📸🤩 #Al-Annabi https://t.co/Q2Ra5MsaKE']\n",
      "\t ['AuRED_108', '1608880491989700608', 4, 0.4920497063799296, 'Wonderful years with many amazing moments, which will remain immortalized in the history of Qatari football forever⚽️🇶🇦. Thank you for everything, Sanchez!🙏 https://t.co/TsTxMUjfWQ']\n",
      "\t ['AuRED_108', '1609925529867812864', 5, 0.48921334408018513, '🗓 Schedule of matches for our national team 🇶🇦 in the #Gulf_Zain_25 Championship 🏆. We ask God for success 💪 #Al-Annabi https://t.co/89h5tGW6Ux']\n",
      "AuRED_104 Urgent: Libya announces the opening of new corridors with Tunisia https://t.co/O8YgvmqKaQ\n",
      "\t ['AuRED_104', '1560295846436028419', 1, 0.7454987648276625, 'Opening new corridors with sister #Tunisia at the Ras Jdir crossing to facilitate the crossing of citizens from both countries. #Libya #Return_to_life #We_will_not_let_you #The_bear https://t.co/0ClsmKPVjb']\n",
      "\t ['AuRED_104', '1559914402190692352', 2, 0.5154036009481602, 'The National Oil Corporation announces an increase in oil production in Libya to exceed 1.2 million barrels per day. #Government_Media_and_Communication_Department https://t.co/7kKjJhOAyv']\n",
      "\t ['AuRED_104', '1559242992694722560', 3, 0.4827655787907983, 'What matters to the Libyans is providing services, addressing the situation, and finding real solutions to the crises they are experiencing. #Libya #Return_to_life #We_will_not_let_you #The_bear https://t.co/TT9gzOwWle']\n",
      "\t ['AuRED_104', '1560956246869610496', 4, 0.47801525965232516, '4️⃣ The Deputy Foreign Minister expressed ❞ full support for a political process that leads to stability in 🇱🇾, calling for concerted local and international efforts to pave the way for holding national elections as soon as possible. 5️⃣ They agreed ❞ to avoid any step that would lead to provocation Violence and destabilization in #Libya❝']\n",
      "\t ['AuRED_104', '1560955115888164864', 5, 0.4609806586260162, 'RT @NajlaElmangoush: I met in #Washington with the Deputy Minister of Foreign Affairs 🇺🇸 Mrs. #Barbara_Leaf and we discussed the necessity of agreeing on a candidate to represent #Libya in @UNSMILibya 🇺🇳 and to serve its interests and have experience in the #Libyan file. We also stressed the necessity of reaching an agreement and ending the constitutional dispute to hold elections As quickly as possible and achieve the aspirations of the people 🇱🇾']\n",
      "AuRED_100 The Kingdom supports the Global Pandemic Fund with $50 million to enhance international efforts to prevent epidemics. #Kingdom_of_Saudi_Arabia #Salman_Electronic_Army https://t.co/Evchv1wpYN\n",
      "\t ['AuRED_100', '1592951081705050112', 1, 0.8533777709392297, 'The Kingdom supports the Global Pandemic Fund with $50 million to enhance international efforts to prevent epidemics https://t.co/Ra3dhWJhir']\n",
      "\t ['AuRED_100', '1592929754822631425', 2, 0.8432723105661702, 'The Kingdom supports the Global Pandemic Fund with $50 million to enhance international efforts to prevent epidemics. https://t.co/YNlqPuJ0qT #SPA https://t.co/2DsK4ztCtO']\n",
      "\t ['AuRED_100', '1592941151727722496', 3, 0.7513476469804163, '“The Kingdom’s support for the Financial Intermediation Fund for Health Security (Pandemic Fund) comes as an extension of its efforts to support the international community to protect millions of people from the dangers of epidemics and to prepare for and respond to them. It also confirms that attention to “human health” represents one of the most important priorities of the Kingdom’s government. # G20 https://t.co/2bVMEo1R4D\"']\n",
      "\t ['AuRED_100', '1592496766351716354', 4, 0.5020562352987128, '#Cabinet_of_Minister: The holding of the #International_Cyber_Security_Forum 2022 in Riyadh is an affirmation of the Kingdom’s global role in supporting international efforts, unifying joint endeavors, and opening broad horizons for transferring knowledge, exchanging experiences, and exploring opportunities for cooperation in related fields. #SPA']\n",
      "\t ['AuRED_100', '1592496491738042368', 5, 0.48481370670316115, '#Cabinet: The Kingdom is paying attention to consolidating its leadership in the field of climate action, and this is evident in the specific projects and initiatives that it announced in the second edition of the #Saudi_Green_Initiative Forum. #SPA https://t.co/zXBN6AB7EJ']\n",
      "AuRED_045 “Cuba announces the success of its vaccine, “Abdullah,” at a rate of 92%! The whole world is talking today about Cuba’s announcement of the success of its vaccine, which it called “Abdullah,” at a rate of 92.28% and with three doses against Corona, as it will begin vaccination with it as of the first. From next July, while the State of Venezuela announced its official adoption. https://t.co/qKXIXx3TPC\"\n",
      "\t ['AuRED_045', '1408435090418503680', 1, 0.37626849864013995, 'RT @cnnarabic: Amid the difficult living conditions.. the opening of two vaccination centers in #Lebanon to confront #Corona https://t.co/MAUApao7iN @msf_arabic']\n",
      "\t ['AuRED_045', '1408303034027986945', 2, 0.36569495509779654, '#Lebanon: Since #MSF began implementing #vaccination activities in March, it has focused most of its attention on ensuring that the #vaccine reaches the most vulnerable and at-risk groups. #Covid_19 https://t.co/L9YybhSSHl']\n",
      "\t ['AuRED_045', '1409814134250741760', 3, 0.3418946100741135, 'Daily update on the #Covid_19 situation in the Eastern Mediterranean Region until 28 June 2021 | 23:59 Cairo time (GMT+2) ⬇️ https://t.co/v8nz0FhDWv']\n",
      "\t ['AuRED_045', '1409089598446256128', 4, 0.3389817213885196, 'Daily update on the #Covid_19 situation in the Eastern Mediterranean Region until 26 June 2021 | 23:59 Cairo time (GMT+2) ⬇️ https://t.co/ZSWkVg9bdT']\n",
      "\t ['AuRED_045', '1409446885690155012', 5, 0.3372581198247584, 'Daily update on the #Covid_19 situation in the Eastern Mediterranean Region until 27 June 2021 | 23:59 Cairo time (GMT+2) ⬇️ https://t.co/gVy9kwjXWw']\n",
      "AuRED_025 Torres Gomez, member of the Board of Directors of Real Madrid: The Egyptian Al-Ahly Club precedes Real Madrid in the number of continental championships during the current century. We now have a strong competitor for the number of titles https://t.co/UylPDvmbKf\n",
      "\t ['AuRED_025', '1397539002765488136', 1, 0.4978768624599763, '🇪🇬 Zamalek, the defending champion, is the last Egyptian champion of the African Super Cup! 🏆 Will the title remain in Egypt this season? 🤔 #TotalCAFSC | @ZSCOfficial https://t.co/xqwuM5Zeq2']\n",
      "\t ['AuRED_025', '1399090962744451072', 2, 0.4915881206477972, '🦅| Al-Ahly’s Board of Directors congratulates Zamalek on the African Basketball Championship. https://t.co/ISeVfRk7lv']\n",
      "\t ['AuRED_025', '1399626265791909888', 3, 0.4891559005503535, 'Royal top scorer @realmadridarab ⚽🔝 💜 @Benzema 💜 #LaLigaSantander https://t.co/skB63wVQcy']\n",
      "\t ['AuRED_025', '1398407841795424256', 4, 0.4679252244450783, '🔴 Al-Khatib confirms his appreciation for congratulating Zamalek Club and thanks its board of directors ⚫️ #African_Super | 🔴 #Come on, my family https://t.co/dmuuCK5qOg']\n",
      "\t ['AuRED_025', '1398338767035961344', 5, 0.46250132311082887, 'Al-Ahly is champion of the African Super Cup 🦅 The Egyptian giant wins the #TotalCAFSC Cup for the seventh time in its history 🔥 https://t.co/oEsNBqydpj']\n",
      "AuRED_026 “🚨Forcing the legend Cristiano to wear the gay support badge tonight in front of the French national team [SkySport].*But* the Don had his say as usual 🚨Breaking news from BBC | “Ronaldo refused to wear the gay badge and said I am ready to receive any punishment.” CC to the rest Clubs https://t.co/vePeXvO0al\"\n",
      "\t ['AuRED_026', '1407390739429007360', 1, 0.41484697137385573, 'A heated debate about gay rights before the match between Germany and Hungary in the European Nations Cup #Euro2020 https://t.co/Kx0G6DMB51']\n",
      "\t ['AuRED_026', '1408430084915085312', 2, 0.3853079182462784, '👀 @MarcusRashford what a shame 😎 🎥: @England 🏴\\U000e0067\\U000e0062\\U000e0065\\U000e006e\\U000e0067\\U000e007f https://t.co/UdPrTZchXB']\n",
      "\t ['AuRED_026', '1407976066694750215', 3, 0.3804824043469175, 'Last night @DalotDiogo will definitely not forget 🙌 #United #Portugal 🇵🇹 https://t.co/AlHdILB8qv']\n",
      "\t ['AuRED_026', '1406968922042216452', 4, 0.3702053569421812, 'The legendary Italy defender praises the performance of @Daniel_James_97 🇮🇹 #United #Euro2020\\u200e']\n",
      "\t ['AuRED_026', '1407494130784210948', 5, 0.3693407077722563, 'The Vatican protests with Italy over a draft law that punishes homophobia https://t.co/snoZQh8bOQ']\n",
      "AuRED_088 #Algeria rejects public normalization and prefers it to be secret: 🤭Heavy-type bomb: An Air Algerie plane lands at an Israeli airport. The Palestinian photographer was shocked. https://t.co/yJICuWdvrA\n",
      "\t ['AuRED_088', '1325372814854123520', 1, 0.45214982933801817, 'RT @IsraelintheGulf: Fruits of peace: A Flydubai plane lands for the first time at Ben Gurion Airport 🇦🇪🇮🇱 @ItayBlumental @DanielSal_87 https://t.co/TZ5w3XuO8W']\n",
      "\t ['AuRED_088', '1325431477409034240', 2, 0.405632330835331, '🔴 The Prime Minister, Mr. Abdelaziz Djerad, received today, Sunday, November 8, 2020, at the Government Palace, Mr. Gerald Darmanin, Minister of the Interior of the French Republic, who is on a working visit to Algeria. The discussions focused on ways and means to enhance and diversify the existing cooperation between the two countries. https://t.co/oyqsihjjsg']\n",
      "\t ['AuRED_088', '1323961313022873600', 3, 0.3968238842096781, '🔴 The Prime Minister, Mr. Abdelaziz Djerad, received today, Wednesday, at the Government Palace, Mr. Augusto Santos Silva, Minister of State, Minister of Foreign Affairs of the Portuguese Republic, who is on a working visit to Algeria. 🔽🔽🔽🔽🔽 https://t.co/B77cUDhFn1… https://t.co/6Ax0yyCvuf']\n",
      "\t ['AuRED_088', '1324045039178309636', 4, 0.3954703719053696, 'An Israeli 🇮🇱 publishes a picture of Saudi dates 🇸🇦 that she got in the Emirates 🇦🇪, where dates are considered one of the main sweets on the Israeli table. @michelledivontv https://t.co/CrmZpZ0Ke6']\n",
      "\t ['AuRED_088', '1323257113884372992', 5, 0.3895644744479209, '“RT @IsraelintheGulf: An Israeli citizen visiting the Emirates for the first time posted: “I was very pleased and felt wanted as a Jew. I found a warm and tolerant community that respects tradition while looking to the future” “What a wonderful peace!🇦🇪🇮🇱 @fredman_a”']\n",
      "AuRED_066 #Egypt_joining_NATO_members🇪🇬 NATO member states announced that Egypt is part of the coalition’s special forces, and the Egyptian flag was raised on coalition ships 🇪🇬🇪🇬💪💪 https://t.co/mC6gkRjgvQ\n",
      "\t ['AuRED_066', '1336728574049591296', 1, 0.02678688819597949, \"ISSUE: couldn't translate\"]\n",
      "\t ['AuRED_066', '1335282790477099009', 2, 0.02678688819597949, \"ISSUE: couldn't translate\"]\n",
      "\t ['AuRED_066', '1336460553175396354', 3, 0.02678688819597949, \"ISSUE: couldn't translate\"]\n",
      "\t ['AuRED_066', '1335599880417374208', 4, 0.02678688819597949, \"ISSUE: couldn't translate\"]\n",
      "\t ['AuRED_066', '1336596452982796288', 5, 0.02678688819597949, \"ISSUE: couldn't translate\"]\n",
      "AuRED_053 The French club Paris Saint-Germain achieved fantastic profits approaching 100 million euros, from selling more than 800,000 shirts bearing the name of the Argentine star Lionel Messi, since they were put up for sale on Wednesday, that is, in just one week. https://t.co/kRpZa43bvc\n",
      "\t ['AuRED_053', '1427584202703265795', 1, 0.4792511820487699, '🇦🇷 Messi 🔥 Mbappé 🇫🇷 https://t.co/H15tcJZNv5']\n",
      "\t ['AuRED_053', '1428803973939712003', 2, 0.4158647849173916, 'Golden Boy doubles the score! 🔥 ⚽️ @KMbappe #Ligue1 | #SB29PSG https://t.co/ddBazPHHAB']\n",
      "\t ['AuRED_053', '1428704864280973318', 3, 0.39177178259353806, 'Match day! ⚽️ 🆚 @SB29 🏆 #French_League 📱 #SB29PSG ⌚️ 22:00 #AllezParis https://t.co/Ycbomdk92z']\n",
      "\t ['AuRED_053', '1428819033521065988', 4, 0.3913538611349708, \"⏱77' KLOOOOOOOOOOOOOOOOOOOOOOOOOOOOOOOOOO DOES IT AGAIN! 🔥 #Ligue1 | #SB29PSG\"]\n",
      "\t ['AuRED_053', '1428728742906580994', 5, 0.38771482522194134, '🛫 From Paris to Brest 🛬 #SB29PSG https://t.co/dzvMEgxe5T']\n",
      "AuRED_046 The Algerian medical delegation that was sent to #Lebanon had its members placed in quarantine after one of them was discovered to be infected with the #Coronavirus...#Algeria https://t.co/oo4HeNOQzY\n",
      "\t ['AuRED_046', '1293874721075933187', 1, 0.6186409937104853, 'Yesterday evening, Wednesday, August 12, 2020, at Houari Boumediene Airport, Mr. Abderrahmane Ben Bouzid, Minister of Health, Population and Hospital Reform, accompanied by Mr. Ismail Mesbah, Minister Delegate in charge of Hospital Reform, received the Algerian medical team returning from Beirut after performing its humanitarian mission. https://t.co/TQzWMnTNSa']\n",
      "\t ['AuRED_046', '1293889313915142144', 2, 0.6125297956855761, 'Video: Mr. Abderrahmane Ben Bouzid, Minister of Health, Population and Hospital Reform, accompanied by Mr. Ismail Mesbah, Minister Delegate in charge of Hospital Reform, receives the Algerian medical team returning from Beirut after performing its humanitarian mission. https://t.co/ajM17XowDc']\n",
      "\t ['AuRED_046', '1293998535533301767', 3, 0.587474324219651, 'Ministry of Health: Test results from additional flights that arrived in Beirut showed the presence of 9 positive cases https://t.co/KP6GTSSyFP']\n",
      "\t ['AuRED_046', '1293945586970955777', 4, 0.5604087206106082, 'Today, Thursday, August 13, 2020, we provide you with the full outcome regarding surveillance indicators for the Covid-19 epidemic in Algeria, which is the outcome of the last 24 hours, according to the declared cases and the results of the regional laboratories accredited in the virological diagnosis of this disease. Presentation in Arabic https://t.co/S8AyZGQv1K']\n",
      "\t ['AuRED_046', '1293582479815835651', 5, 0.5560576826115399, 'Today, Wednesday, August 12, 2020, we provide you with the full outcome regarding surveillance indicators for the Covid-19 epidemic in Algeria, which is the outcome of the last 24 hours, according to the declared cases and the results of the regional laboratories accredited in the virological diagnosis of this disease. Presentation in Arabic https://t.co/ws2qkA5rsC']\n",
      "AuRED_059 #Urgent ♦️ ♦️ ♦️ ♦️ 🔴 🔴 🔴 🔴 #Hafeez Draghi was expelled from beIN Sports channels..\\ @derradjihafid How true is this news???\n",
      "\t ['AuRED_059', '1427350097654845443', 1, 0.4420669139439293, '(Another shock)... The former colleague on Algerian television and beIN Sports channels, the Algerian journalist and commentator, Habib Ben Ali, has passed away. May God have mercy on him and place him in spacious gardens and inspire his family with patience and solace, Lord of the worlds.. We belong to God and to Him we shall return https://t.co/Avkk4PzOMw']\n",
      "\t ['AuRED_059', '1427661503696568323', 2, 0.3896624322636661, '#Spanish_League Reports - Barcelona is moving to terminate Umtiti’s contract #beINLiga #LaLiga https://t.co/o0n3MFP6nU']\n",
      "\t ['AuRED_059', '1428054090802733059', 3, 0.38104689318109053, '#Mercato Hamza Rafia on loan from Juventus to Standard du Liege #Transfers https://t.co/TLYSqCHne6']\n",
      "\t ['AuRED_059', '1429186992454176776', 4, 0.3760924913719202, 'Al-Faisaly fans protest the club’s management and demand her departure #Jordanian_League https://t.co/hWzm152P9u']\n",
      "\t ['AuRED_059', '1427653103055216650', 5, 0.37022399725278904, '#English_Premier_League Guardiola in an exclusive interview with beIN SPORTS #PremierLeague https://t.co/iLFW5YvYw2']\n",
      "AuRED_033 After his appointment as Vice-President of the Qatari Constitutional Assembly, President Kais Saeed takes the oath before Her Highness Sheikha Moza Al-Misnad in the capital of #Qatar, Doha https://t.co/kCYFDQHYcS\n",
      "\t ['AuRED_033', '1327942301939867648', 1, 0.6812227593083946, 'President of the Republic #Kais_Saeed meets with the Emir of the State of Qatar, His Highness Sheikh Tamim bin Hamad Al Thani, at the Emiri Diwan in Doha. #TnPR https://t.co/XKyQHnZ8m7']\n",
      "\t ['AuRED_033', '1328262950512193537', 2, 0.6531155388370837, 'President of the Republic #Kais_Saeed visits the Qatar Foundation for Education, Science and Community Development. #TnPR https://t.co/vQ1xkSRDs6']\n",
      "\t ['AuRED_033', '1328350440333905921', 3, 0.6507364717844144, 'The President of the Republic, #Qais_Saeed, pays a visit to the Shura Council in Doha, and meets with the Speaker of the Council, Mr. Ahmed bin Abdullah Al Mahmoud. #TnPR https://t.co/f6mfW1jZrq']\n",
      "\t ['AuRED_033', '1328269919104983041', 4, 0.6472115561447629, 'President of the Republic #Kais_Saeed pays a visit to the headquarters of the Qatar National Library. #TnPR https://t.co/yyRxlLPfqF']\n",
      "\t ['AuRED_033', '1328223307167096832', 5, 0.6381930542284017, 'President of the Republic #Kais_Saeed discusses with the Qatari Prime Minister, Sheikh Khalid bin Khalifa Al Thani, bilateral investment opportunities, following up on previous agreements, and developing new agreements ahead of the convening of the joint supreme committee that will meet in the first trimester of next year. #TnPR https://t.co/z7q64LSTib']\n",
      "AuRED_001 “Musa Abu Marzouq Al-Hamsawi congratulates the Taliban on their victory in Afghanistan and is considered a representative of the Iranian mullahs 😉 - The picture is from the meeting of the terrorists, a delegation from the Taliban, with Haniyeh last night 😎 It took place in the Qatar booth, “the financier of the terrorist organization” #May_God_Save_Egypt https://t.co /Rnd14ZXv6C\"\n",
      "\t ['AuRED_001', '1427363982835396609', 1, 0.6565927001432557, '“▪️ Head of the Political Bureau of the Hamas movement, Ismail Haniyeh, congratulates the Taliban on the defeat of the American occupation of Afghanistan.”']\n",
      "\t ['AuRED_001', '1427615537882935297', 2, 0.5050547546219624, 'RT @MBA_AlThani_: This morning I met in #Doha with a delegation from the Taliban, and we discussed the necessity of reaching a comprehensive political settlement that achieves a peaceful transfer of power, preserves the gains achieved by the Afghan people, and outlines the features of the desired stability and peace in #Afghanistan.']\n",
      "\t ['AuRED_001', '1427601535366844436', 3, 0.5022809294454866, 'Deputy Prime Minister and Minister of Foreign Affairs @MBA_AlThani_ meets with a delegation from the Taliban https://t.co/LXMmP0VFso #Ministry_of_Foreign_Qatar https://t.co/6wLgMwiZqy']\n",
      "\t ['AuRED_001', '1426530633975750656', 4, 0.4928007548948324, 'Deputy Prime Minister and Minister of Foreign Affairs @MBA_AlThani_ meets with the head of the Taliban’s political office https://t.co/ZZCMFG2mEh #Ministry_of_Foreign_Qatar https://t.co/gYEkDUH7Rl']\n",
      "\t ['AuRED_001', '1427608828015792144', 5, 0.4924266689944801, 'This morning, I met in #Doha with a delegation from the Taliban, and we discussed the necessity of reaching a comprehensive political settlement that achieves a peaceful transfer of power, preserves the gains achieved by the Afghan people, and shapes the desired stability and peace in #Afghanistan. https://t.co/Nr3QgZgPzL']\n",
      "AuRED_039 #Jerusalem_The_Eternal_Capital_of_Palestine Canada says Jerusalem is the capital of Palestine. One of the two things: whether you bring Canada to rule us, or we go and never come back\n",
      "\t ['AuRED_039', '938014762562179073', 1, 0.5602751073770852, '#Jerusalem_The_Capital_of_the_State_of_Palestine #Jerusalem_Our_Capital The Arab League Council calls on the United States to abide by all UN resolutions... https://t.co/9fAtXPYRrS']\n",
      "\t ['AuRED_039', '938483587430666243', 2, 0.529934630083896, 'Prime Minister Netanyahu calls on other countries to follow in the footsteps of the United States and also recognize Jerusalem as the capital of the State of Israel.']\n",
      "\t ['AuRED_039', '939946780065697792', 3, 0.5292142691485695, 'Prime Minister Netanyahu to French President Macron: Paris is the capital of France, Jerusalem has been the capital of Israel for 3,000 years, and the capital of the State of Israel for 70 years. We respect your history and your choices, and we know that you, as our friends, respect our history and our choices. https://t.co/pxHFUUJKmE']\n",
      "\t ['AuRED_039', '938707181276364800', 4, 0.5251919745673326, 'The United States’ recognition of Jerusalem as the capital of Israel may advance the peace process because it recognizes reality and a historical right. Denying our right to live here has been at the heart of the conflict for 100 years. Recognizing it is the key to relief in moving the peace process forward. https://t.co/mzlLvfkafp']\n",
      "\t ['AuRED_039', '938693589206478848', 5, 0.5221044110112767, 'Prime Minister Netanyahu: The Jewish people designated Jerusalem as their capital 3,000 years ago. Here our fathers walked, here our kings ruled, here our prophets preached, and here our roots lie. This is actually our ID card.']\n",
      "AuRED_076 Director-General of the World Health Organization: “We are on the cusp of a new, more deadly virus and we may return to square one” https://t.co/lAMmuAKDPh\n",
      "\t ['AuRED_076', '1398681786796756993', 1, 0.42540775761289884, 'The agenda of the Seventy-Fourth World Health Assembly today included the topic of polio eradication, as the WHO Regional Director for the Eastern Mediterranean, Dr. Ahmed Al-Mandhari, presented a statement on the current situation of polio in the region in light of the #Covid_19 pandemic. https://t.co/cvxGys9VAj']\n",
      "\t ['AuRED_076', '1398681800168386563', 2, 0.3907321179595198, '“An investment in the fight against #polio is an investment in public health and pandemic prevention and response. If we all work together, we will be able - with God’s help - to rid the world of polio forever.” - Dr. Ahmed Al-Mandhari #HealthForAll #WHA74 https://t.co/N0lGhuomie\"']\n",
      "\t ['AuRED_076', '1398681791201005571', 3, 0.3747860707757882, '“My thanks to the polio workforce that participated in the response to #Covid_19. The Polio Control Network has proven to be an outstanding asset capable of tracing, tracing, isolating, testing and educating populations.” - Dr. Ahmed Al-Mandhari #WHA74 https: https://t.co/qILetLIA3v\"']\n",
      "\t ['AuRED_076', '1398681794019536904', 4, 0.3714827451217331, '“Let us work together to ensure that health workers reach every child in the Eastern Mediterranean Region, to provide them with the #polio vaccine and other basic health services. It is currently not possible to reach children in some areas in Afghanistan, Somalia and Yemen.” - Dr. Ahmed Al-Mandhari #WHA74 \"']\n",
      "\t ['AuRED_076', '1398681796326400000', 5, 0.32959132438767236, '“We affirm our commitment to the polio transition in countries that have eradicated this disease. We cooperate closely with Iraq, Libya, Somalia, Sudan, the Syrian Arab Republic and Yemen to fully integrate polio assets into their national health systems.” - Dr. Ahmed Al-Mandhari']\n",
      "AuRED_003 Under the directives of Haitham bin Tariq Al Said, Sultan of Oman, the Sultanate of Oman recalled its ambassador to Doha today and called on Qatar to stop its destabilizing and security activities. The move reflects solidarity with the Kingdom of Saudi Arabia, which severed relations with Qatar in mid-2017, in addition to the UAE https://t.co/LMVgSR1OSi\n",
      "\t ['AuRED_003', '1224643994568863744', 1, 0.5352225191471046, '\"RT @OmanEmb_Riyadh: Yesterday, Monday, February 3, 2020, an open-ended meeting of the Executive Committee of the Organization of Islamic Cooperation was held, to discuss the organization’s position on the “Deal of the Century.” The Sultanate’s delegation was headed by His Excellency Ambassador Dr. Ahmed bin Hilal Al Busaidi, and the Sultanate’s Consul General in membership. grandmother.\"']\n",
      "\t ['AuRED_003', '1225114416624144385', 2, 0.5197811890669419, 'A message from His Highness the Amir to the King of #Morocco https://t.co/pJmWTCwQlr #Ministry_of_Foreign_Qatar https://t.co/Up3gHAC4Rm']\n",
      "\t ['AuRED_003', '1224673372946169857', 3, 0.4993643725312417, 'The Sultanate’s Embassy in Beijing confirms the return of most of the Omani students studying in China, and the Embassy is in contact with the remaining ones to secure their return.']\n",
      "\t ['AuRED_003', '1225090681460396034', 4, 0.4983778025175579, 'He called them (our brave soldiers), and was proud of their sacrifices (and I am proud of you); They recorded the brightest pages of the tournament. He completed the pillars of the modern state and consolidated the state of institutions by issuing the Basic Law...the highest legislation in Oman, and emphasized activating the role of the private sector to support development. #Qaboos_bin_Saeed #Reformer_on_the_throne #Government_communication https://t.co/0ms5b14xtw']\n",
      "\t ['AuRED_003', '1226547796565733381', 5, 0.49089111001854524, 'The Jordanian Minister of Interior meets with the Ambassador of #Qatar https://t.co/QPCmydpxEF #Ministry_of_Foreign_Qatar https://t.co/Lst5YJIQ4z']\n"
     ]
    }
   ],
   "source": [
    "from tqdm.auto import tqdm\n",
    "\n",
    "data = []\n",
    "\n",
    "# using non-cleaned data here\n",
    "# this is suuuuper-slow, maybe use this for reranking with a reduced search space?\n",
    "\n",
    "for item in tqdm(dev_jsons):\n",
    "    rumor_id = item['id']\n",
    "    query = item['rumor']\n",
    "    timeline = item['timeline']\n",
    "    \n",
    "    data += retrieve_relevant_documents_openai(rumor_id, query, timeline)\n",
    "\n",
    "from utils import write_trec_format_output\n",
    "\n",
    "out_path = 'temp-data/openai-trec-dev.txt'\n",
    "write_trec_format_output(out_path, data, 'OPENAI')"
   ]
  },
  {
   "cell_type": "markdown",
   "metadata": {},
   "source": [
    "## evaluation"
   ]
  },
  {
   "cell_type": "code",
   "execution_count": 1,
   "metadata": {},
   "outputs": [
    {
     "name": "stderr",
     "output_type": "stream",
     "text": [
      "PyTerrier 0.10.0 has loaded Terrier 5.8 (built by craigm on 2023-11-01 18:05) and terrier-helper 0.0.8\n",
      "\n"
     ]
    },
    {
     "name": "stdout",
     "output_type": "stream",
     "text": [
      "sample \t {'R@5': 0.6357894736842106, 'AP': 0.5612280701754385}\n",
      "lucence  {'R@5': 0.6971929824561404, 'AP': 0.663766081871345}\n",
      "tfidf \t {'R@5': 0.7235087719298245, 'AP': 0.6301754385964913}\n",
      "terrier  {'R@5': 0.6859649122807018, 'AP': 0.6412280701754386}\n",
      "sbert \t {'R@5': 0.7080701754385965, 'AP': 0.6363508771929824}\n",
      "openai \t {'R@5': 0.7452631578947368, 'AP': 0.6448421052631579}\n"
     ]
    }
   ],
   "source": [
    "from scoring_utils import eval_run_retrieval\n",
    "\n",
    "task5_dir = '../clef2024-checkthat-lab/task5'\n",
    "sample_submission_file = task5_dir + '/submission_samples/KGAT_zeroShot_evidence_English_dev.txt'\n",
    "lucene_submission_file = 'temp-data/lucene-trec-dev.txt'\n",
    "tfidf_submission_file = 'temp-data/tfidf-trec-dev.txt'\n",
    "terrier_submission_file = 'temp-data/terrier-trec-bm25-qe.txt'\n",
    "sbert_submission_file = 'temp-data/sbert-trec-dev.txt'\n",
    "openai_submission_file = 'temp-data/openai-trec-dev.txt'\n",
    "\n",
    "golden_labels_file = task5_dir + '/data/dev_qrels.txt'\n",
    "out_file = 'temp-data/out.csv'\n",
    "\n",
    "print('sample', '\\t',eval_run_retrieval(sample_submission_file,golden_labels_file))\n",
    "print('lucence', '', eval_run_retrieval(lucene_submission_file,golden_labels_file))\n",
    "print('tfidf', '\\t', eval_run_retrieval(tfidf_submission_file,golden_labels_file))\n",
    "print('terrier', '', eval_run_retrieval(terrier_submission_file,golden_labels_file))\n",
    "print('sbert', '\\t', eval_run_retrieval(sbert_submission_file,golden_labels_file))\n",
    "print('openai', '\\t', eval_run_retrieval(openai_submission_file,golden_labels_file))"
   ]
  },
  {
   "cell_type": "code",
   "execution_count": null,
   "metadata": {},
   "outputs": [],
   "source": []
  }
 ],
 "metadata": {
  "kernelspec": {
   "display_name": "venv",
   "language": "python",
   "name": "python3"
  },
  "language_info": {
   "codemirror_mode": {
    "name": "ipython",
    "version": 3
   },
   "file_extension": ".py",
   "mimetype": "text/x-python",
   "name": "python",
   "nbconvert_exporter": "python",
   "pygments_lexer": "ipython3",
   "version": "3.8.18"
  }
 },
 "nbformat": 4,
 "nbformat_minor": 2
}
