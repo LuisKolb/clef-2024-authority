{
 "cells": [
  {
   "cell_type": "code",
   "execution_count": 3,
   "metadata": {},
   "outputs": [
    {
     "name": "stdout",
     "output_type": "stream",
     "text": [
      "loaded 96 training json lines and 32 dev json lines.\n",
      "wrote 276 to ../clef\\data\\train_qrels.txt\n"
     ]
    }
   ],
   "source": [
    "from clef.utils.data_loading import load_datasets, task5_dir\n",
    "from clef.utils.data_loading import write_trec_format_output\n",
    "from clef.retrieval.retrieve import retrieve_evidence\n",
    "import os\n",
    "\n",
    "root_path = '../'\n",
    "\n",
    "train, _ = load_datasets(preprocess=False,\n",
    "                           add_author_name=False,\n",
    "                           add_author_bio=False,\n",
    "                           root_path= root_path,)\n",
    "\n",
    "# have to go custom here since we don't have a qrel file\n",
    "qrel_lines = []\n",
    "\n",
    "for item in train:\n",
    "    for evidence in item['evidence']:\n",
    "        status_id = evidence[1]\n",
    "        if status_id:\n",
    "            qrel_line = f\"{item['id']}\\t0\\t{status_id.strip()}\\t1\"\n",
    "            qrel_lines.append(qrel_line)\n",
    "\n",
    "out_file = os.path.join(root_path, 'clef', 'data', 'train_qrels.txt')\n",
    "\n",
    "with open(out_file, 'w') as f:\n",
    "    f.write(\"\\n\".join(qrel_lines))\n",
    "print(f'wrote {len(qrel_lines)} to {out_file}')"
   ]
  }
 ],
 "metadata": {
  "kernelspec": {
   "display_name": "clef",
   "language": "python",
   "name": "python3"
  },
  "language_info": {
   "codemirror_mode": {
    "name": "ipython",
    "version": 3
   },
   "file_extension": ".py",
   "mimetype": "text/x-python",
   "name": "python",
   "nbconvert_exporter": "python",
   "pygments_lexer": "ipython3",
   "version": "3.8.18"
  }
 },
 "nbformat": 4,
 "nbformat_minor": 2
}
