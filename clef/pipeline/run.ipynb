{
 "cells": [
  {
   "cell_type": "code",
   "execution_count": 3,
   "metadata": {},
   "outputs": [],
   "source": [
    "import os\n",
    "import json\n",
    "\n",
    "def find_best_config_str(exp_path, mode='retrieval', score_by='MAP'):\n",
    "    l = []\n",
    "    # find al files called log.txt, recursively\n",
    "    for root, dirs, files in os.walk(exp_path):\n",
    "        for file in files:\n",
    "            if file.endswith('log.txt'):\n",
    "                # open file, and for each line test if it contains the string \"result for verification run - \"\n",
    "                with open(os.path.join(root, file)) as f:\n",
    "                    for line in f:\n",
    "                        if f'result for {mode} run' in line:\n",
    "                            score = float(line.split(f'{score_by}: ')[1].split(' ')[0])\n",
    "                            # now, get string between the brackets { and }\n",
    "                            configs = '{' + line.split('{')[1].split('}')[0] + '}'\n",
    "                            # replace single quotes with double quotes\n",
    "                            configs = configs.replace(\"'\", '\"')\n",
    "                            # convert each boolean value to string\n",
    "                            configs = configs.replace(': True', ': \"True\"')\n",
    "                            configs = configs.replace(': False', ': \"False\"')\n",
    "                            # convert to json\n",
    "                            config = json.loads(configs)\n",
    "                            l.append((score, config))\n",
    "\n",
    "    # sort the list by the first element, which is the score\n",
    "    l.sort(key=lambda x: x[0], reverse=True)\n",
    "    return l"
   ]
  },
  {
   "cell_type": "code",
   "execution_count": 4,
   "metadata": {},
   "outputs": [],
   "source": [
    "def find_best_config_fp(exp_path, mode='retrieval', score_by='MAP'):\n",
    "    l = []\n",
    "    # find al files called log.txt, recursively\n",
    "    for root, dirs, files in os.walk(exp_path):\n",
    "        for file in files:\n",
    "            if file.endswith('log.txt'):\n",
    "                # open file, and for each line test if it contains the string \"result for verification run - \"\n",
    "                with open(os.path.join(root, file)) as f:\n",
    "                    for line in f:\n",
    "                        if f'result for {mode} run' in line:\n",
    "                            score = float(line.split(f'{score_by}: ')[1].split(' ')[0])\n",
    "                            config = json.load(open(os.path.join(f.name, '..', '..', 'config.json')))\n",
    "                            l.append((score, config))\n",
    "\n",
    "    # sort the list by the first element, which is the score\n",
    "    l.sort(key=lambda x: x[0], reverse=True)\n",
    "    return l\n",
    "\n",
    "exp_path = 'data-out/experiments/test-all/'\n",
    "\n",
    "mode = 'verification'\n",
    "score_by='F1'\n",
    "configs = find_best_config_fp(exp_path, mode, score_by)"
   ]
  },
  {
   "cell_type": "code",
   "execution_count": 5,
   "metadata": {},
   "outputs": [
    {
     "name": "stdout",
     "output_type": "stream",
     "text": [
      "0. Strict-F1 score: 0.9230, config: {'blind_run': 'False', 'split': 'dev', 'add_author_name': 'False', 'add_author_bio': 'False', 'retriever_k': 5, 'out_dir': './data-out/experiments/test-dev/retr-OPENAI/nopre-noname-nobio', 'preprocess': 'False', 'retriever_label': 'OPENAI', 'verifier_label': 'OPENAI', 'normalize_scores': 'False', 'scale': 'False', 'ignore_nei': 'True', 'fingerprint': 'nonorm-noscale-ignore_nei'}\n",
      "1. Strict-F1 score: 0.9230, config: {'blind_run': 'False', 'split': 'dev', 'add_author_name': 'False', 'add_author_bio': 'False', 'retriever_k': 5, 'out_dir': './data-out/experiments/test-dev/retr-OPENAI/nopre-noname-nobio', 'preprocess': 'False', 'retriever_label': 'OPENAI', 'verifier_label': 'OPENAI', 'normalize_scores': 'False', 'scale': 'False', 'ignore_nei': 'False', 'fingerprint': 'nonorm-noscale-noignore_nei'}\n",
      "2. Strict-F1 score: 0.9230, config: {'blind_run': 'False', 'split': 'dev', 'add_author_name': 'False', 'add_author_bio': 'False', 'retriever_k': 5, 'out_dir': './data-out/experiments/test-dev/retr-OPENAI/nopre-noname-nobio', 'preprocess': 'False', 'retriever_label': 'OPENAI', 'verifier_label': 'OPENAI', 'normalize_scores': 'False', 'scale': 'True', 'ignore_nei': 'True', 'fingerprint': 'nonorm-scale-ignore_nei'}\n",
      "3. Strict-F1 score: 0.9230, config: {'blind_run': 'False', 'split': 'dev', 'add_author_name': 'False', 'add_author_bio': 'False', 'retriever_k': 5, 'out_dir': './data-out/experiments/test-dev/retr-OPENAI/nopre-noname-nobio', 'preprocess': 'False', 'retriever_label': 'OPENAI', 'verifier_label': 'OPENAI', 'normalize_scores': 'True', 'scale': 'False', 'ignore_nei': 'True', 'fingerprint': 'norm-noscale-ignore_nei'}\n",
      "4. Strict-F1 score: 0.9230, config: {'blind_run': 'False', 'split': 'dev', 'add_author_name': 'False', 'add_author_bio': 'False', 'retriever_k': 5, 'out_dir': './data-out/experiments/test-dev/retr-OPENAI/nopre-noname-nobio', 'preprocess': 'False', 'retriever_label': 'OPENAI', 'verifier_label': 'OPENAI', 'normalize_scores': 'True', 'scale': 'False', 'ignore_nei': 'False', 'fingerprint': 'norm-noscale-noignore_nei'}\n",
      "5. Strict-F1 score: 0.9230, config: {'blind_run': 'False', 'split': 'dev', 'add_author_name': 'False', 'add_author_bio': 'False', 'retriever_k': 5, 'out_dir': './data-out/experiments/test-dev/retr-OPENAI/nopre-noname-nobio', 'preprocess': 'False', 'retriever_label': 'OPENAI', 'verifier_label': 'OPENAI', 'normalize_scores': 'True', 'scale': 'True', 'ignore_nei': 'True', 'fingerprint': 'norm-scale-ignore_nei'}\n",
      "6. Strict-F1 score: 0.8821, config: {'blind_run': 'False', 'split': 'dev', 'add_author_name': 'True', 'add_author_bio': 'False', 'retriever_k': 5, 'out_dir': './data-out/experiments/test-dev/retr-TERRIER/pre-name-nobio', 'preprocess': 'True', 'retriever_label': 'TERRIER', 'verifier_label': 'OPENAI', 'normalize_scores': 'False', 'scale': 'False', 'ignore_nei': 'True', 'fingerprint': 'nonorm-noscale-ignore_nei'}\n",
      "7. Strict-F1 score: 0.8821, config: {'blind_run': 'False', 'split': 'dev', 'add_author_name': 'True', 'add_author_bio': 'False', 'retriever_k': 5, 'out_dir': './data-out/experiments/test-dev/retr-TERRIER/pre-name-nobio', 'preprocess': 'True', 'retriever_label': 'TERRIER', 'verifier_label': 'OPENAI', 'normalize_scores': 'False', 'scale': 'False', 'ignore_nei': 'False', 'fingerprint': 'nonorm-noscale-noignore_nei'}\n",
      "8. Strict-F1 score: 0.8821, config: {'blind_run': 'False', 'split': 'dev', 'add_author_name': 'True', 'add_author_bio': 'False', 'retriever_k': 5, 'out_dir': './data-out/experiments/test-dev/retr-TERRIER/pre-name-nobio', 'preprocess': 'True', 'retriever_label': 'TERRIER', 'verifier_label': 'OPENAI', 'normalize_scores': 'False', 'scale': 'True', 'ignore_nei': 'True', 'fingerprint': 'nonorm-scale-ignore_nei'}\n",
      "9. Strict-F1 score: 0.8821, config: {'blind_run': 'False', 'split': 'dev', 'add_author_name': 'True', 'add_author_bio': 'False', 'retriever_k': 5, 'out_dir': './data-out/experiments/test-dev/retr-TERRIER/pre-name-nobio', 'preprocess': 'True', 'retriever_label': 'TERRIER', 'verifier_label': 'OPENAI', 'normalize_scores': 'False', 'scale': 'True', 'ignore_nei': 'False', 'fingerprint': 'nonorm-scale-noignore_nei'}\n",
      "10. Strict-F1 score: 0.8821, config: {'blind_run': 'False', 'split': 'dev', 'add_author_name': 'True', 'add_author_bio': 'False', 'retriever_k': 5, 'out_dir': './data-out/experiments/test-dev/retr-TERRIER/pre-name-nobio', 'preprocess': 'True', 'retriever_label': 'TERRIER', 'verifier_label': 'OPENAI', 'normalize_scores': 'True', 'scale': 'False', 'ignore_nei': 'True', 'fingerprint': 'norm-noscale-ignore_nei'}\n",
      "11. Strict-F1 score: 0.8821, config: {'blind_run': 'False', 'split': 'dev', 'add_author_name': 'True', 'add_author_bio': 'False', 'retriever_k': 5, 'out_dir': './data-out/experiments/test-dev/retr-TERRIER/pre-name-nobio', 'preprocess': 'True', 'retriever_label': 'TERRIER', 'verifier_label': 'OPENAI', 'normalize_scores': 'True', 'scale': 'False', 'ignore_nei': 'False', 'fingerprint': 'norm-noscale-noignore_nei'}\n",
      "12. Strict-F1 score: 0.8306, config: {'blind_run': 'False', 'split': 'dev', 'add_author_name': 'True', 'add_author_bio': 'False', 'retriever_k': 5, 'out_dir': './data-out/experiments/test-dev/retr-TERRIER/pre-name-nobio', 'preprocess': 'True', 'retriever_label': 'TERRIER', 'verifier_label': 'OPENAI', 'normalize_scores': 'True', 'scale': 'True', 'ignore_nei': 'True', 'fingerprint': 'norm-scale-ignore_nei'}\n",
      "13. Strict-F1 score: 0.7455, config: {'blind_run': 'False', 'split': 'dev', 'add_author_name': 'False', 'add_author_bio': 'False', 'retriever_k': 5, 'out_dir': './data-out/experiments/test-dev/retr-OPENAI/nopre-noname-nobio', 'preprocess': 'False', 'retriever_label': 'OPENAI', 'verifier_label': 'OPENAI', 'normalize_scores': 'True', 'scale': 'True', 'ignore_nei': 'False', 'fingerprint': 'norm-scale-noignore_nei'}\n",
      "14. Strict-F1 score: 0.7020, config: {'blind_run': 'False', 'split': 'dev', 'add_author_name': 'False', 'add_author_bio': 'False', 'retriever_k': 5, 'out_dir': './data-out/experiments/test-dev/retr-OPENAI/nopre-noname-nobio', 'preprocess': 'False', 'retriever_label': 'OPENAI', 'verifier_label': 'OPENAI', 'normalize_scores': 'False', 'scale': 'True', 'ignore_nei': 'False', 'fingerprint': 'nonorm-scale-noignore_nei'}\n",
      "15. Strict-F1 score: 0.6612, config: {'blind_run': 'False', 'split': 'dev', 'add_author_name': 'False', 'add_author_bio': 'False', 'retriever_k': 5, 'out_dir': './data-out/experiments/test-dev/retr-OPENAI/nopre-noname-nobio', 'preprocess': 'False', 'retriever_label': 'OPENAI', 'verifier_label': 'LLAMA', 'normalize_scores': 'False', 'scale': 'False', 'ignore_nei': 'True', 'fingerprint': 'nonorm-noscale-ignore_nei'}\n",
      "16. Strict-F1 score: 0.6612, config: {'blind_run': 'False', 'split': 'dev', 'add_author_name': 'False', 'add_author_bio': 'False', 'retriever_k': 5, 'out_dir': './data-out/experiments/test-dev/retr-OPENAI/nopre-noname-nobio', 'preprocess': 'False', 'retriever_label': 'OPENAI', 'verifier_label': 'LLAMA', 'normalize_scores': 'False', 'scale': 'False', 'ignore_nei': 'False', 'fingerprint': 'nonorm-noscale-noignore_nei'}\n",
      "17. Strict-F1 score: 0.6612, config: {'blind_run': 'False', 'split': 'dev', 'add_author_name': 'False', 'add_author_bio': 'False', 'retriever_k': 5, 'out_dir': './data-out/experiments/test-dev/retr-OPENAI/nopre-noname-nobio', 'preprocess': 'False', 'retriever_label': 'OPENAI', 'verifier_label': 'LLAMA', 'normalize_scores': 'False', 'scale': 'True', 'ignore_nei': 'True', 'fingerprint': 'nonorm-scale-ignore_nei'}\n",
      "18. Strict-F1 score: 0.6612, config: {'blind_run': 'False', 'split': 'dev', 'add_author_name': 'False', 'add_author_bio': 'False', 'retriever_k': 5, 'out_dir': './data-out/experiments/test-dev/retr-OPENAI/nopre-noname-nobio', 'preprocess': 'False', 'retriever_label': 'OPENAI', 'verifier_label': 'LLAMA', 'normalize_scores': 'True', 'scale': 'False', 'ignore_nei': 'True', 'fingerprint': 'norm-noscale-ignore_nei'}\n",
      "19. Strict-F1 score: 0.6612, config: {'blind_run': 'False', 'split': 'dev', 'add_author_name': 'False', 'add_author_bio': 'False', 'retriever_k': 5, 'out_dir': './data-out/experiments/test-dev/retr-OPENAI/nopre-noname-nobio', 'preprocess': 'False', 'retriever_label': 'OPENAI', 'verifier_label': 'LLAMA', 'normalize_scores': 'True', 'scale': 'False', 'ignore_nei': 'False', 'fingerprint': 'norm-noscale-noignore_nei'}\n",
      "20. Strict-F1 score: 0.6612, config: {'blind_run': 'False', 'split': 'dev', 'add_author_name': 'False', 'add_author_bio': 'False', 'retriever_k': 5, 'out_dir': './data-out/experiments/test-dev/retr-OPENAI/nopre-noname-nobio', 'preprocess': 'False', 'retriever_label': 'OPENAI', 'verifier_label': 'LLAMA', 'normalize_scores': 'True', 'scale': 'True', 'ignore_nei': 'True', 'fingerprint': 'norm-scale-ignore_nei'}\n",
      "21. Strict-F1 score: 0.6470, config: {'blind_run': 'False', 'split': 'dev', 'add_author_name': 'True', 'add_author_bio': 'False', 'retriever_k': 5, 'out_dir': './data-out/experiments/test-dev/retr-TERRIER/pre-name-nobio', 'preprocess': 'True', 'retriever_label': 'TERRIER', 'verifier_label': 'LLAMA', 'normalize_scores': 'False', 'scale': 'True', 'ignore_nei': 'True', 'fingerprint': 'nonorm-scale-ignore_nei'}\n",
      "22. Strict-F1 score: 0.6470, config: {'blind_run': 'False', 'split': 'dev', 'add_author_name': 'True', 'add_author_bio': 'False', 'retriever_k': 5, 'out_dir': './data-out/experiments/test-dev/retr-TERRIER/pre-name-nobio', 'preprocess': 'True', 'retriever_label': 'TERRIER', 'verifier_label': 'LLAMA', 'normalize_scores': 'False', 'scale': 'True', 'ignore_nei': 'False', 'fingerprint': 'nonorm-scale-noignore_nei'}\n",
      "23. Strict-F1 score: 0.6453, config: {'blind_run': 'False', 'split': 'dev', 'add_author_name': 'True', 'add_author_bio': 'False', 'retriever_k': 5, 'out_dir': './data-out/experiments/test-dev/retr-TERRIER/pre-name-nobio', 'preprocess': 'True', 'retriever_label': 'TERRIER', 'verifier_label': 'LLAMA', 'normalize_scores': 'True', 'scale': 'True', 'ignore_nei': 'True', 'fingerprint': 'norm-scale-ignore_nei'}\n",
      "24. Strict-F1 score: 0.6259, config: {'blind_run': 'False', 'split': 'dev', 'add_author_name': 'True', 'add_author_bio': 'False', 'retriever_k': 5, 'out_dir': './data-out/experiments/test-dev/retr-TERRIER/pre-name-nobio', 'preprocess': 'True', 'retriever_label': 'TERRIER', 'verifier_label': 'LLAMA', 'normalize_scores': 'False', 'scale': 'False', 'ignore_nei': 'False', 'fingerprint': 'nonorm-noscale-noignore_nei'}\n",
      "25. Strict-F1 score: 0.6259, config: {'blind_run': 'False', 'split': 'dev', 'add_author_name': 'True', 'add_author_bio': 'False', 'retriever_k': 5, 'out_dir': './data-out/experiments/test-dev/retr-TERRIER/pre-name-nobio', 'preprocess': 'True', 'retriever_label': 'TERRIER', 'verifier_label': 'LLAMA', 'normalize_scores': 'True', 'scale': 'False', 'ignore_nei': 'False', 'fingerprint': 'norm-noscale-noignore_nei'}\n",
      "26. Strict-F1 score: 0.6154, config: {'blind_run': 'False', 'split': 'dev', 'add_author_name': 'True', 'add_author_bio': 'False', 'retriever_k': 5, 'out_dir': './data-out/experiments/test-dev/retr-TERRIER/pre-name-nobio', 'preprocess': 'True', 'retriever_label': 'TERRIER', 'verifier_label': 'LLAMA', 'normalize_scores': 'False', 'scale': 'False', 'ignore_nei': 'True', 'fingerprint': 'nonorm-noscale-ignore_nei'}\n",
      "27. Strict-F1 score: 0.6154, config: {'blind_run': 'False', 'split': 'dev', 'add_author_name': 'True', 'add_author_bio': 'False', 'retriever_k': 5, 'out_dir': './data-out/experiments/test-dev/retr-TERRIER/pre-name-nobio', 'preprocess': 'True', 'retriever_label': 'TERRIER', 'verifier_label': 'LLAMA', 'normalize_scores': 'True', 'scale': 'False', 'ignore_nei': 'True', 'fingerprint': 'norm-noscale-ignore_nei'}\n",
      "28. Strict-F1 score: 0.5370, config: {'blind_run': 'False', 'split': 'dev', 'add_author_name': 'True', 'add_author_bio': 'False', 'retriever_k': 5, 'out_dir': './data-out/experiments/test-dev/retr-TERRIER/pre-name-nobio', 'preprocess': 'True', 'retriever_label': 'TERRIER', 'verifier_label': 'LLAMA', 'normalize_scores': 'True', 'scale': 'True', 'ignore_nei': 'False', 'fingerprint': 'norm-scale-noignore_nei'}\n",
      "29. Strict-F1 score: 0.5188, config: {'blind_run': 'False', 'split': 'dev', 'add_author_name': 'False', 'add_author_bio': 'False', 'retriever_k': 5, 'out_dir': './data-out/experiments/test-dev/retr-OPENAI/nopre-noname-nobio', 'preprocess': 'False', 'retriever_label': 'OPENAI', 'verifier_label': 'LLAMA', 'normalize_scores': 'True', 'scale': 'True', 'ignore_nei': 'False', 'fingerprint': 'norm-scale-noignore_nei'}\n",
      "30. Strict-F1 score: 0.4967, config: {'blind_run': 'False', 'split': 'dev', 'add_author_name': 'False', 'add_author_bio': 'False', 'retriever_k': 5, 'out_dir': './data-out/experiments/test-dev/retr-OPENAI/nopre-noname-nobio', 'preprocess': 'False', 'retriever_label': 'OPENAI', 'verifier_label': 'LLAMA', 'normalize_scores': 'False', 'scale': 'True', 'ignore_nei': 'False', 'fingerprint': 'nonorm-scale-noignore_nei'}\n",
      "31. Strict-F1 score: 0.2738, config: {'blind_run': 'False', 'split': 'dev', 'add_author_name': 'True', 'add_author_bio': 'False', 'retriever_k': 5, 'out_dir': './data-out/experiments/test-dev/retr-TERRIER/pre-name-nobio', 'preprocess': 'True', 'retriever_label': 'TERRIER', 'verifier_label': 'OPENAI', 'normalize_scores': 'True', 'scale': 'True', 'ignore_nei': 'False', 'fingerprint': 'norm-scale-noignore_nei'}\n"
     ]
    }
   ],
   "source": [
    "exp_path = 'data-out/experiments/test-dev'\n",
    "\n",
    "# # print the top 10 results\n",
    "# mode = 'retrieval'\n",
    "# score_by='MAP'\n",
    "# configs = find_best_config(exp_path, mode, score_by)\n",
    "# for i, (f1, config) in enumerate(configs[:2]):\n",
    "#     print(f'{i}. {score_by} score: {f1:.4f}, config: {config}')\n",
    "\n",
    "# print the top 10 results\n",
    "mode = 'verification'\n",
    "score_by='Strict-F1'\n",
    "configs = find_best_config_str(exp_path, mode, score_by)\n",
    "for i, (score, config) in enumerate(configs[:]):\n",
    "    print(f'{i}. {score_by} score: {score:.4f}, config: {config}')\n"
   ]
  },
  {
   "cell_type": "code",
   "execution_count": 15,
   "metadata": {},
   "outputs": [
    {
     "name": "stdout",
     "output_type": "stream",
     "text": [
      "verification - 6. F1 score: 0.8821, config: ./data-out/experiments/test-dev/retr-TERRIER/pre-name-nobio/nonorm-noscale-ignore_nei - name:True bio:False OPENAI\n",
      "verification - 7. F1 score: 0.8821, config: ./data-out/experiments/test-dev/retr-TERRIER/pre-name-nobio/nonorm-noscale-noignore_nei - name:True bio:False OPENAI\n",
      "verification - 8. F1 score: 0.8821, config: ./data-out/experiments/test-dev/retr-TERRIER/pre-name-nobio/nonorm-scale-ignore_nei - name:True bio:False OPENAI\n",
      "verification - 9. F1 score: 0.8821, config: ./data-out/experiments/test-dev/retr-TERRIER/pre-name-nobio/nonorm-scale-noignore_nei - name:True bio:False OPENAI\n",
      "verification - 10. F1 score: 0.8821, config: ./data-out/experiments/test-dev/retr-TERRIER/pre-name-nobio/norm-noscale-ignore_nei - name:True bio:False OPENAI\n",
      "verification - 11. F1 score: 0.8821, config: ./data-out/experiments/test-dev/retr-TERRIER/pre-name-nobio/norm-noscale-noignore_nei - name:True bio:False OPENAI\n",
      "verification - 12. F1 score: 0.8306, config: ./data-out/experiments/test-dev/retr-TERRIER/pre-name-nobio/norm-scale-ignore_nei - name:True bio:False OPENAI\n",
      "verification - 21. F1 score: 0.6470, config: ./data-out/experiments/test-dev/retr-TERRIER/pre-name-nobio/nonorm-scale-ignore_nei - name:True bio:False LLAMA\n",
      "verification - 22. F1 score: 0.6470, config: ./data-out/experiments/test-dev/retr-TERRIER/pre-name-nobio/nonorm-scale-noignore_nei - name:True bio:False LLAMA\n",
      "verification - 23. F1 score: 0.6453, config: ./data-out/experiments/test-dev/retr-TERRIER/pre-name-nobio/norm-scale-ignore_nei - name:True bio:False LLAMA\n",
      "verification - 24. F1 score: 0.6259, config: ./data-out/experiments/test-dev/retr-TERRIER/pre-name-nobio/nonorm-noscale-noignore_nei - name:True bio:False LLAMA\n",
      "verification - 25. F1 score: 0.6259, config: ./data-out/experiments/test-dev/retr-TERRIER/pre-name-nobio/norm-noscale-noignore_nei - name:True bio:False LLAMA\n",
      "verification - 26. F1 score: 0.6154, config: ./data-out/experiments/test-dev/retr-TERRIER/pre-name-nobio/nonorm-noscale-ignore_nei - name:True bio:False LLAMA\n",
      "verification - 27. F1 score: 0.6154, config: ./data-out/experiments/test-dev/retr-TERRIER/pre-name-nobio/norm-noscale-ignore_nei - name:True bio:False LLAMA\n",
      "verification - 28. F1 score: 0.5370, config: ./data-out/experiments/test-dev/retr-TERRIER/pre-name-nobio/norm-scale-noignore_nei - name:True bio:False LLAMA\n",
      "verification - 31. F1 score: 0.2738, config: ./data-out/experiments/test-dev/retr-TERRIER/pre-name-nobio/norm-scale-noignore_nei - name:True bio:False OPENAI\n"
     ]
    }
   ],
   "source": [
    "configs = find_best_config_str(exp_path, mode, score_by)\n",
    "for i, (score, config) in enumerate(configs[:]):\n",
    "    if config['retriever_label'] == 'TERRIER':\n",
    "        print(f'{mode} - {i}. {score_by} score: {score:.4f}, config: {config[\"out_dir\"]}/{config[\"fingerprint\"]} - name:{config[\"add_author_name\"]} bio:{config[\"add_author_bio\"]} {config[\"verifier_label\"]}')"
   ]
  },
  {
   "cell_type": "code",
   "execution_count": 6,
   "metadata": {},
   "outputs": [
    {
     "name": "stdout",
     "output_type": "stream",
     "text": [
      "verification - 1. F1 score: 0.9230, config: ./data-out/experiments/test-dev/retr-OPENAI/nopre-noname-nobio/nonorm-noscale-ignore_nei - OPENAI\n",
      "verification - 2. F1 score: 0.9230, config: ./data-out/experiments/test-dev/retr-OPENAI/nopre-noname-nobio/nonorm-noscale-noignore_nei - OPENAI\n",
      "verification - 3. F1 score: 0.9230, config: ./data-out/experiments/test-dev/retr-OPENAI/nopre-noname-nobio/nonorm-scale-ignore_nei - OPENAI\n",
      "verification - 4. F1 score: 0.9230, config: ./data-out/experiments/test-dev/retr-OPENAI/nopre-noname-nobio/norm-noscale-ignore_nei - OPENAI\n"
     ]
    }
   ],
   "source": [
    "# find best config for verification overall\n",
    "mode = 'verification'\n",
    "score_by='F1'\n",
    "configs = find_best_config_fp(f'./data-out/experiments/test-dev', mode, score_by)\n",
    "for i, (f1, config) in enumerate(configs[0:4]):\n",
    "    print(f'{mode} - {i+1}. {score_by} score: {f1:.4f}, config: {config[\"out_dir\"]}/{config[\"fingerprint\"]} - {config[\"verifier_label\"]}')"
   ]
  },
  {
   "cell_type": "code",
   "execution_count": 7,
   "metadata": {},
   "outputs": [
    {
     "name": "stdout",
     "output_type": "stream",
     "text": [
      "verification no ext data - 1. F1 score: 0.9230, config: {'blind_run': False, 'split': 'dev', 'add_author_name': False, 'add_author_bio': False, 'retriever_k': 5, 'out_dir': './data-out/experiments/test-dev/retr-OPENAI/nopre-noname-nobio', 'preprocess': False, 'retriever_label': 'OPENAI', 'verifier_label': 'OPENAI', 'normalize_scores': False, 'scale': False, 'ignore_nei': True, 'fingerprint': 'nonorm-noscale-ignore_nei'}\n",
      "verification no ext data - 2. F1 score: 0.9230, config: {'blind_run': False, 'split': 'dev', 'add_author_name': False, 'add_author_bio': False, 'retriever_k': 5, 'out_dir': './data-out/experiments/test-dev/retr-OPENAI/nopre-noname-nobio', 'preprocess': False, 'retriever_label': 'OPENAI', 'verifier_label': 'OPENAI', 'normalize_scores': False, 'scale': False, 'ignore_nei': False, 'fingerprint': 'nonorm-noscale-noignore_nei'}\n",
      "verification no ext data - 3. F1 score: 0.9230, config: {'blind_run': False, 'split': 'dev', 'add_author_name': False, 'add_author_bio': False, 'retriever_k': 5, 'out_dir': './data-out/experiments/test-dev/retr-OPENAI/nopre-noname-nobio', 'preprocess': False, 'retriever_label': 'OPENAI', 'verifier_label': 'OPENAI', 'normalize_scores': False, 'scale': True, 'ignore_nei': True, 'fingerprint': 'nonorm-scale-ignore_nei'}\n",
      "verification no ext data - 4. F1 score: 0.9230, config: {'blind_run': False, 'split': 'dev', 'add_author_name': False, 'add_author_bio': False, 'retriever_k': 5, 'out_dir': './data-out/experiments/test-dev/retr-OPENAI/nopre-noname-nobio', 'preprocess': False, 'retriever_label': 'OPENAI', 'verifier_label': 'OPENAI', 'normalize_scores': True, 'scale': False, 'ignore_nei': True, 'fingerprint': 'norm-noscale-ignore_nei'}\n",
      "verification no ext data - 5. F1 score: 0.9230, config: {'blind_run': False, 'split': 'dev', 'add_author_name': False, 'add_author_bio': False, 'retriever_k': 5, 'out_dir': './data-out/experiments/test-dev/retr-OPENAI/nopre-noname-nobio', 'preprocess': False, 'retriever_label': 'OPENAI', 'verifier_label': 'OPENAI', 'normalize_scores': True, 'scale': False, 'ignore_nei': False, 'fingerprint': 'norm-noscale-noignore_nei'}\n",
      "verification no ext data - 6. F1 score: 0.9230, config: {'blind_run': False, 'split': 'dev', 'add_author_name': False, 'add_author_bio': False, 'retriever_k': 5, 'out_dir': './data-out/experiments/test-dev/retr-OPENAI/nopre-noname-nobio', 'preprocess': False, 'retriever_label': 'OPENAI', 'verifier_label': 'OPENAI', 'normalize_scores': True, 'scale': True, 'ignore_nei': True, 'fingerprint': 'norm-scale-ignore_nei'}\n",
      "verification no ext data - 7. F1 score: 0.7455, config: {'blind_run': False, 'split': 'dev', 'add_author_name': False, 'add_author_bio': False, 'retriever_k': 5, 'out_dir': './data-out/experiments/test-dev/retr-OPENAI/nopre-noname-nobio', 'preprocess': False, 'retriever_label': 'OPENAI', 'verifier_label': 'OPENAI', 'normalize_scores': True, 'scale': True, 'ignore_nei': False, 'fingerprint': 'norm-scale-noignore_nei'}\n",
      "verification no ext data - 8. F1 score: 0.7020, config: {'blind_run': False, 'split': 'dev', 'add_author_name': False, 'add_author_bio': False, 'retriever_k': 5, 'out_dir': './data-out/experiments/test-dev/retr-OPENAI/nopre-noname-nobio', 'preprocess': False, 'retriever_label': 'OPENAI', 'verifier_label': 'OPENAI', 'normalize_scores': False, 'scale': True, 'ignore_nei': False, 'fingerprint': 'nonorm-scale-noignore_nei'}\n",
      "verification no ext data - 9. F1 score: 0.6612, config: {'blind_run': False, 'split': 'dev', 'add_author_name': False, 'add_author_bio': False, 'retriever_k': 5, 'out_dir': './data-out/experiments/test-dev/retr-OPENAI/nopre-noname-nobio', 'preprocess': False, 'retriever_label': 'OPENAI', 'verifier_label': 'OPENAI', 'normalize_scores': False, 'scale': False, 'ignore_nei': True, 'fingerprint': 'nonorm-noscale-ignore_nei'}\n",
      "verification no ext data - 10. F1 score: 0.6612, config: {'blind_run': False, 'split': 'dev', 'add_author_name': False, 'add_author_bio': False, 'retriever_k': 5, 'out_dir': './data-out/experiments/test-dev/retr-OPENAI/nopre-noname-nobio', 'preprocess': False, 'retriever_label': 'OPENAI', 'verifier_label': 'OPENAI', 'normalize_scores': False, 'scale': False, 'ignore_nei': False, 'fingerprint': 'nonorm-noscale-noignore_nei'}\n",
      "verification no ext data - 11. F1 score: 0.6612, config: {'blind_run': False, 'split': 'dev', 'add_author_name': False, 'add_author_bio': False, 'retriever_k': 5, 'out_dir': './data-out/experiments/test-dev/retr-OPENAI/nopre-noname-nobio', 'preprocess': False, 'retriever_label': 'OPENAI', 'verifier_label': 'OPENAI', 'normalize_scores': False, 'scale': True, 'ignore_nei': True, 'fingerprint': 'nonorm-scale-ignore_nei'}\n",
      "verification no ext data - 12. F1 score: 0.6612, config: {'blind_run': False, 'split': 'dev', 'add_author_name': False, 'add_author_bio': False, 'retriever_k': 5, 'out_dir': './data-out/experiments/test-dev/retr-OPENAI/nopre-noname-nobio', 'preprocess': False, 'retriever_label': 'OPENAI', 'verifier_label': 'OPENAI', 'normalize_scores': True, 'scale': False, 'ignore_nei': True, 'fingerprint': 'norm-noscale-ignore_nei'}\n",
      "verification no ext data - 13. F1 score: 0.6612, config: {'blind_run': False, 'split': 'dev', 'add_author_name': False, 'add_author_bio': False, 'retriever_k': 5, 'out_dir': './data-out/experiments/test-dev/retr-OPENAI/nopre-noname-nobio', 'preprocess': False, 'retriever_label': 'OPENAI', 'verifier_label': 'OPENAI', 'normalize_scores': True, 'scale': False, 'ignore_nei': False, 'fingerprint': 'norm-noscale-noignore_nei'}\n",
      "verification no ext data - 14. F1 score: 0.6612, config: {'blind_run': False, 'split': 'dev', 'add_author_name': False, 'add_author_bio': False, 'retriever_k': 5, 'out_dir': './data-out/experiments/test-dev/retr-OPENAI/nopre-noname-nobio', 'preprocess': False, 'retriever_label': 'OPENAI', 'verifier_label': 'OPENAI', 'normalize_scores': True, 'scale': True, 'ignore_nei': True, 'fingerprint': 'norm-scale-ignore_nei'}\n",
      "verification no ext data - 15. F1 score: 0.5188, config: {'blind_run': False, 'split': 'dev', 'add_author_name': False, 'add_author_bio': False, 'retriever_k': 5, 'out_dir': './data-out/experiments/test-dev/retr-OPENAI/nopre-noname-nobio', 'preprocess': False, 'retriever_label': 'OPENAI', 'verifier_label': 'OPENAI', 'normalize_scores': True, 'scale': True, 'ignore_nei': False, 'fingerprint': 'norm-scale-noignore_nei'}\n",
      "verification no ext data - 16. F1 score: 0.4967, config: {'blind_run': False, 'split': 'dev', 'add_author_name': False, 'add_author_bio': False, 'retriever_k': 5, 'out_dir': './data-out/experiments/test-dev/retr-OPENAI/nopre-noname-nobio', 'preprocess': False, 'retriever_label': 'OPENAI', 'verifier_label': 'OPENAI', 'normalize_scores': False, 'scale': True, 'ignore_nei': False, 'fingerprint': 'nonorm-scale-noignore_nei'}\n"
     ]
    }
   ],
   "source": [
    "\n",
    "try:\n",
    "    no_ext_data = []\n",
    "    ext_data = []\n",
    "    for item in configs:\n",
    "        config = item[1]\n",
    "        if config['add_author_name'] or config['add_author_bio']:\n",
    "            ext_data.append(item)\n",
    "        else:\n",
    "            no_ext_data.append(item)\n",
    "    \n",
    "    no_ext_data = sorted(no_ext_data, key=lambda x: x[0], reverse=True)\n",
    "    ext_data = sorted(ext_data, key=lambda x: x[0], reverse=True)\n",
    "\n",
    "    for i, (f1, config) in enumerate(no_ext_data):\n",
    "        print(f'{mode} no ext data - {i+1}. {score_by} score: {f1:.4f}, config: {config}')\n",
    "except:\n",
    "    pass"
   ]
  },
  {
   "cell_type": "code",
   "execution_count": 8,
   "metadata": {},
   "outputs": [
    {
     "name": "stdout",
     "output_type": "stream",
     "text": [
      "verification using ext data - 1. F1 score: 0.8821, config: {'blind_run': False, 'split': 'dev', 'add_author_name': True, 'add_author_bio': False, 'retriever_k': 5, 'out_dir': './data-out/experiments/test-dev/retr-TERRIER/pre-name-nobio', 'preprocess': True, 'retriever_label': 'TERRIER', 'verifier_label': 'OPENAI', 'normalize_scores': False, 'scale': False, 'ignore_nei': True, 'fingerprint': 'nonorm-noscale-ignore_nei'}\n",
      "verification using ext data - 2. F1 score: 0.8821, config: {'blind_run': False, 'split': 'dev', 'add_author_name': True, 'add_author_bio': False, 'retriever_k': 5, 'out_dir': './data-out/experiments/test-dev/retr-TERRIER/pre-name-nobio', 'preprocess': True, 'retriever_label': 'TERRIER', 'verifier_label': 'OPENAI', 'normalize_scores': False, 'scale': False, 'ignore_nei': False, 'fingerprint': 'nonorm-noscale-noignore_nei'}\n",
      "verification using ext data - 3. F1 score: 0.8821, config: {'blind_run': False, 'split': 'dev', 'add_author_name': True, 'add_author_bio': False, 'retriever_k': 5, 'out_dir': './data-out/experiments/test-dev/retr-TERRIER/pre-name-nobio', 'preprocess': True, 'retriever_label': 'TERRIER', 'verifier_label': 'OPENAI', 'normalize_scores': False, 'scale': True, 'ignore_nei': True, 'fingerprint': 'nonorm-scale-ignore_nei'}\n",
      "verification using ext data - 4. F1 score: 0.8821, config: {'blind_run': False, 'split': 'dev', 'add_author_name': True, 'add_author_bio': False, 'retriever_k': 5, 'out_dir': './data-out/experiments/test-dev/retr-TERRIER/pre-name-nobio', 'preprocess': True, 'retriever_label': 'TERRIER', 'verifier_label': 'OPENAI', 'normalize_scores': False, 'scale': True, 'ignore_nei': False, 'fingerprint': 'nonorm-scale-noignore_nei'}\n",
      "verification using ext data - 5. F1 score: 0.8821, config: {'blind_run': False, 'split': 'dev', 'add_author_name': True, 'add_author_bio': False, 'retriever_k': 5, 'out_dir': './data-out/experiments/test-dev/retr-TERRIER/pre-name-nobio', 'preprocess': True, 'retriever_label': 'TERRIER', 'verifier_label': 'OPENAI', 'normalize_scores': True, 'scale': False, 'ignore_nei': True, 'fingerprint': 'norm-noscale-ignore_nei'}\n",
      "verification using ext data - 6. F1 score: 0.8821, config: {'blind_run': False, 'split': 'dev', 'add_author_name': True, 'add_author_bio': False, 'retriever_k': 5, 'out_dir': './data-out/experiments/test-dev/retr-TERRIER/pre-name-nobio', 'preprocess': True, 'retriever_label': 'TERRIER', 'verifier_label': 'OPENAI', 'normalize_scores': True, 'scale': False, 'ignore_nei': False, 'fingerprint': 'norm-noscale-noignore_nei'}\n",
      "verification using ext data - 7. F1 score: 0.8306, config: {'blind_run': False, 'split': 'dev', 'add_author_name': True, 'add_author_bio': False, 'retriever_k': 5, 'out_dir': './data-out/experiments/test-dev/retr-TERRIER/pre-name-nobio', 'preprocess': True, 'retriever_label': 'TERRIER', 'verifier_label': 'OPENAI', 'normalize_scores': True, 'scale': True, 'ignore_nei': True, 'fingerprint': 'norm-scale-ignore_nei'}\n",
      "verification using ext data - 8. F1 score: 0.6470, config: {'blind_run': False, 'split': 'dev', 'add_author_name': True, 'add_author_bio': False, 'retriever_k': 5, 'out_dir': './data-out/experiments/test-dev/retr-TERRIER/pre-name-nobio', 'preprocess': True, 'retriever_label': 'TERRIER', 'verifier_label': 'OPENAI', 'normalize_scores': False, 'scale': True, 'ignore_nei': True, 'fingerprint': 'nonorm-scale-ignore_nei'}\n",
      "verification using ext data - 9. F1 score: 0.6470, config: {'blind_run': False, 'split': 'dev', 'add_author_name': True, 'add_author_bio': False, 'retriever_k': 5, 'out_dir': './data-out/experiments/test-dev/retr-TERRIER/pre-name-nobio', 'preprocess': True, 'retriever_label': 'TERRIER', 'verifier_label': 'OPENAI', 'normalize_scores': False, 'scale': True, 'ignore_nei': False, 'fingerprint': 'nonorm-scale-noignore_nei'}\n",
      "verification using ext data - 10. F1 score: 0.6453, config: {'blind_run': False, 'split': 'dev', 'add_author_name': True, 'add_author_bio': False, 'retriever_k': 5, 'out_dir': './data-out/experiments/test-dev/retr-TERRIER/pre-name-nobio', 'preprocess': True, 'retriever_label': 'TERRIER', 'verifier_label': 'OPENAI', 'normalize_scores': True, 'scale': True, 'ignore_nei': True, 'fingerprint': 'norm-scale-ignore_nei'}\n",
      "verification using ext data - 11. F1 score: 0.6259, config: {'blind_run': False, 'split': 'dev', 'add_author_name': True, 'add_author_bio': False, 'retriever_k': 5, 'out_dir': './data-out/experiments/test-dev/retr-TERRIER/pre-name-nobio', 'preprocess': True, 'retriever_label': 'TERRIER', 'verifier_label': 'OPENAI', 'normalize_scores': False, 'scale': False, 'ignore_nei': False, 'fingerprint': 'nonorm-noscale-noignore_nei'}\n",
      "verification using ext data - 12. F1 score: 0.6259, config: {'blind_run': False, 'split': 'dev', 'add_author_name': True, 'add_author_bio': False, 'retriever_k': 5, 'out_dir': './data-out/experiments/test-dev/retr-TERRIER/pre-name-nobio', 'preprocess': True, 'retriever_label': 'TERRIER', 'verifier_label': 'OPENAI', 'normalize_scores': True, 'scale': False, 'ignore_nei': False, 'fingerprint': 'norm-noscale-noignore_nei'}\n",
      "verification using ext data - 13. F1 score: 0.6154, config: {'blind_run': False, 'split': 'dev', 'add_author_name': True, 'add_author_bio': False, 'retriever_k': 5, 'out_dir': './data-out/experiments/test-dev/retr-TERRIER/pre-name-nobio', 'preprocess': True, 'retriever_label': 'TERRIER', 'verifier_label': 'OPENAI', 'normalize_scores': False, 'scale': False, 'ignore_nei': True, 'fingerprint': 'nonorm-noscale-ignore_nei'}\n",
      "verification using ext data - 14. F1 score: 0.6154, config: {'blind_run': False, 'split': 'dev', 'add_author_name': True, 'add_author_bio': False, 'retriever_k': 5, 'out_dir': './data-out/experiments/test-dev/retr-TERRIER/pre-name-nobio', 'preprocess': True, 'retriever_label': 'TERRIER', 'verifier_label': 'OPENAI', 'normalize_scores': True, 'scale': False, 'ignore_nei': True, 'fingerprint': 'norm-noscale-ignore_nei'}\n",
      "verification using ext data - 15. F1 score: 0.5370, config: {'blind_run': False, 'split': 'dev', 'add_author_name': True, 'add_author_bio': False, 'retriever_k': 5, 'out_dir': './data-out/experiments/test-dev/retr-TERRIER/pre-name-nobio', 'preprocess': True, 'retriever_label': 'TERRIER', 'verifier_label': 'OPENAI', 'normalize_scores': True, 'scale': True, 'ignore_nei': False, 'fingerprint': 'norm-scale-noignore_nei'}\n",
      "verification using ext data - 16. F1 score: 0.2738, config: {'blind_run': False, 'split': 'dev', 'add_author_name': True, 'add_author_bio': False, 'retriever_k': 5, 'out_dir': './data-out/experiments/test-dev/retr-TERRIER/pre-name-nobio', 'preprocess': True, 'retriever_label': 'TERRIER', 'verifier_label': 'OPENAI', 'normalize_scores': True, 'scale': True, 'ignore_nei': False, 'fingerprint': 'norm-scale-noignore_nei'}\n"
     ]
    }
   ],
   "source": [
    "\n",
    "try:\n",
    "    no_ext_data = []\n",
    "    ext_data = []\n",
    "    for item in configs:\n",
    "        config = item[1]\n",
    "        if config['add_author_name'] or config['add_author_bio']:\n",
    "            ext_data.append(item)\n",
    "        else:\n",
    "            no_ext_data.append(item)\n",
    "    \n",
    "    no_ext_data = sorted(no_ext_data, key=lambda x: x[0], reverse=True)\n",
    "    ext_data = sorted(ext_data, key=lambda x: x[0], reverse=True)\n",
    "\n",
    "\n",
    "    for i, (f1, config) in enumerate(ext_data):\n",
    "        print(f'{mode} using ext data - {i+1}. {score_by} score: {f1:.4f}, config: {config}')    \n",
    "except:\n",
    "    pass"
   ]
  },
  {
   "cell_type": "code",
   "execution_count": null,
   "metadata": {},
   "outputs": [],
   "source": []
  }
 ],
 "metadata": {
  "kernelspec": {
   "display_name": "clef",
   "language": "python",
   "name": "python3"
  },
  "language_info": {
   "codemirror_mode": {
    "name": "ipython",
    "version": 3
   },
   "file_extension": ".py",
   "mimetype": "text/x-python",
   "name": "python",
   "nbconvert_exporter": "python",
   "pygments_lexer": "ipython3",
   "version": "3.10.14"
  }
 },
 "nbformat": 4,
 "nbformat_minor": 2
}
